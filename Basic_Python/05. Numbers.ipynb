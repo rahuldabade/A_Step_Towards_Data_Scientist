{
 "cells": [
  {
   "cell_type": "markdown",
   "metadata": {},
   "source": [
    "#                                          NUMBERS\n",
    "\n",
    "Number data types store numeric values.\n",
    "\n",
    "They are immutable data types, means that changing the value of a number data type results in a newly allocated object.\n",
    "\n",
    "Number objects are created when you assign a value to them."
   ]
  },
  {
   "cell_type": "code",
   "execution_count": null,
   "metadata": {},
   "outputs": [],
   "source": [
    "var1 = 1\n",
    "var2 = 10"
   ]
  },
  {
   "cell_type": "code",
   "execution_count": null,
   "metadata": {},
   "outputs": [],
   "source": [
    "# We can delete a single object or multiple objects by using del statement.\n",
    "\n",
    "del var\n",
    "del var_a, var_b"
   ]
  },
  {
   "cell_type": "markdown",
   "metadata": {},
   "source": [
    "# Python supports 4 different numerical types "
   ]
  },
  {
   "cell_type": "code",
   "execution_count": null,
   "metadata": {},
   "outputs": [],
   "source": [
    "int(signed integers)         # They are often called just integers or ints\n",
    "                             # They are positive or negative whole numbers with no decimal point.\n",
    "\n",
    "long(long integers )         #  Also called as longs\n",
    "                             #  They are integers of unlimited size,written like integers\n",
    "                             #  They are followed by an uppercase or lowercase L.\n",
    "\n",
    "float                        # They are also called as floats.\n",
    "(floating point real values) # Represents real numbers and are written with decimal point dividing integer and fractional parts.\n",
    "                             # Floats can be in scientific notation,with E or e indicating power of 10 (2.5e2= 2.5 x 102 = 250).\n",
    "\n",
    "complex (complex numbers)    # They are in the form a + bJ, where a and b are floats and J (or j) represents square root of -1 \n",
    "                             # (which is an imaginary number). \n",
    "                             # The real part of the number is a, and the imaginary part is b. \n",
    "                             # Complex numbers are not used much in Python programming."
   ]
  },
  {
   "cell_type": "markdown",
   "metadata": {},
   "source": [
    "**Some examples of numbers**"
   ]
  },
  {
   "cell_type": "raw",
   "metadata": {},
   "source": [
    "   int                            long                           float                                 complex\n",
    "\n",
    "  10                           51924361L                          0.0                                   3.14j\n",
    "\n",
    "  100                          -0x19323L                         15.20                                   45.j\n",
    "\n",
    " -786                              0122L                        -21.9                              9.322e-36j\n",
    "\n",
    "  080              0xDEFABCECBDAECBFBAEL                         32.3+e18                               .876j\n",
    "\n",
    " -0490                     535633629843L                        -90.                                -.6545+0J\n",
    "\n",
    " -0x260                   -052318172735L                        -32.54e100                             3e+26J\n",
    "\n",
    "  0x69                   -4721885298529L                         70.2-E12                            4.53e-7j"
   ]
  },
  {
   "cell_type": "markdown",
   "metadata": {},
   "source": [
    "Python allows us to use a lowercase L with long, but use only an uppercase L to avoid confusion with the number 1.\n",
    "\n",
    "Python displays long integers with an uppercase L.\n",
    "\n",
    "A complex number consists of an ordered pair of real floating point numbers denoted by a + bj,\n",
    "where a is the real part and b is the imaginary part of the complex number."
   ]
  },
  {
   "cell_type": "markdown",
   "metadata": {},
   "source": [
    "# Number Type Conversion\n",
    "\n",
    "Python converts numbers internally in an expression containing mixed types to a common type for evaluation. \n",
    "\n",
    "But sometimes,we need to coerce a number explicitly from one type to another to satisfy requirements of an operator or\n",
    "function parameter."
   ]
  },
  {
   "cell_type": "code",
   "execution_count": null,
   "metadata": {},
   "outputs": [],
   "source": [
    "int(x)                                          # convert x to a plain integer.\n",
    "\n",
    "long(x)                                         # convert x to a long integer.\n",
    "\n",
    "float(x)                                        # convert x to a floating-point number.\n",
    "\n",
    "complex(x)                                      # convert x to a complex number with real part x and imaginary part zero.\n",
    "\n",
    "complex(x, y)                                   # convert x and y to a complex number with real part x and imaginary part y.\n",
    "                                                # x and y are numeric expressions"
   ]
  },
  {
   "cell_type": "markdown",
   "metadata": {},
   "source": [
    "# Mathematical Functions\n",
    "\n",
    "Python includes following functions that perform mathematical calculations."
   ]
  },
  {
   "cell_type": "code",
   "execution_count": null,
   "metadata": {},
   "outputs": [],
   "source": [
    "abs(x)                    # The absolute value of x: the (positive) distance between x and zero.\n",
    "\n",
    "fabs(x)                   # The absolute value of x. (it is the function of math package)\n",
    "\n",
    "floor(x)                  # The floor of x: the largest integer not greater than x    10.3 ---> 10\n",
    "\n",
    "ceil(x)                   # The ceiling of x: the smallest integer not less than x    10.3 ---> 11\n",
    "\n",
    "round(x [,n])             # x rounded to n digits from the decimal point.\n",
    "                          # Python rounds away from zero as a tie-breaker: round(0.5) is 1.0 and round(-0.5) is -1.0.\n",
    "\n",
    "cmp(x, y)                 # -1 if x < y,       0 if x == y,         1 if x > y\n",
    "\n",
    "pow(x, y)                 # The value of x**y.  -----> 2**3 = 8\n",
    "\n",
    "exp(x)                    # The exponential of x: Return e raised to the power of x (it is the function of math package)   \n",
    "\n",
    "log(x)                    # The natural logarithm of x, for x> 0\n",
    "\n",
    "log10(x)                  # The base10 logarithm of x for x> 0.\n",
    "\n",
    "min(x1, x2,...)           # The smallest of its arguments: the value closest to negative infinity\n",
    "\n",
    "max(x1, x2,...)           # The largest of its arguments: the value closest to positive infinity\n",
    "\n",
    "modf(x)                   # The fractional and integer parts of x in a two-item tuple. Both parts have the same sign as x.\n",
    "                          # The integer part is returned as a float\n",
    "\n",
    "sqrt(x)                   # The square root of x for x > 0\n"
   ]
  },
  {
   "cell_type": "markdown",
   "metadata": {},
   "source": [
    "# Random Number Functions\n",
    "\n",
    "Random numbers are used for games, simulations, testing, security, and privacy applications. "
   ]
  },
  {
   "cell_type": "markdown",
   "metadata": {},
   "source": [
    "**Python includes following functions that are commonly used.**"
   ]
  },
  {
   "cell_type": "code",
   "execution_count": null,
   "metadata": {},
   "outputs": [],
   "source": [
    "choice(seq)                                      # A random item from a sequence i.e list, tuple, or string.\n",
    "\n",
    "randrange([start,] stop [,step])                 # A randomly selected element from range(start, stop, step)\n",
    "\n",
    "random()                                         # A random float r,such that 0 is less than or equal to r and r is less than 1\n",
    "\n",
    "seed([x])                                        # Sets the integer starting value used in generating random numbers.\n",
    "                                                 # Call this function before calling any other random module function.\n",
    "                                                 # Returns None.\n",
    "\n",
    "shuffle(lst)                                     # Randomizes the items of a list in place. Returns None.\n",
    "\n",
    "uniform(x, y)                                    # A random float r, such that x is less than or equal to r and r is less than y\n"
   ]
  },
  {
   "cell_type": "markdown",
   "metadata": {},
   "source": [
    "# Trigonometric Functions\n",
    "\n",
    "Python includes following functions that perform trigonometric calculations."
   ]
  },
  {
   "cell_type": "code",
   "execution_count": null,
   "metadata": {},
   "outputs": [],
   "source": [
    "sin(x)                                     # Return the sine of x radians.\n",
    "\n",
    "cos(x)                                     # Return the cosine of x radians.\n",
    "\n",
    "tan(x)                                     # Return the tangent of x radians.\n",
    "\n",
    "asin(x)                                    # Return the arc sine of x, in radians.\n",
    "\n",
    "acos(x)                                    # Return the arc cosine of x, in radians.\n",
    "\n",
    "atan(x)                                    # Return the arc tangent of x, in radians.\n",
    "\n",
    "atan2(y, x)                                # Return atan(y / x), in radians.\n",
    "\n",
    "hypot(x, y)                                # Return the Euclidean norm, sqrt(x*x + y*y).\n",
    "\n",
    "degrees(x)                                 # Converts angle x from radians to degrees.\n",
    "\n",
    "radians(x)                                 # Converts angle x from degrees to radians."
   ]
  },
  {
   "cell_type": "markdown",
   "metadata": {},
   "source": [
    "# Mathematical Constants\n",
    "\n",
    "The module also defines two mathematical constants −"
   ]
  },
  {
   "cell_type": "code",
   "execution_count": null,
   "metadata": {},
   "outputs": [],
   "source": [
    "pi                             # The mathematical constant pi.\n",
    "\n",
    "e                              # The mathematical constant e.\n"
   ]
  },
  {
   "cell_type": "markdown",
   "metadata": {},
   "source": [
    "#     ---------------------------------    CODES FROM IMARTICUS    --------------------------------------"
   ]
  },
  {
   "cell_type": "markdown",
   "metadata": {},
   "source": [
    "# NUMBERS"
   ]
  },
  {
   "cell_type": "code",
   "execution_count": null,
   "metadata": {},
   "outputs": [],
   "source": [
    "# Python Numbers\n",
    "\n",
    "a=5\n",
    "print(type(a))\n",
    "\n",
    "a=30.6\n",
    "print(type(a))\n",
    "\n",
    "a=10+2j\n",
    "print(type(a))"
   ]
  },
  {
   "cell_type": "code",
   "execution_count": null,
   "metadata": {},
   "outputs": [],
   "source": [
    "print(int(-2.8))\n",
    "\n",
    "print(float(5))"
   ]
  },
  {
   "cell_type": "code",
   "execution_count": null,
   "metadata": {},
   "outputs": [],
   "source": [
    "import math"
   ]
  },
  {
   "cell_type": "code",
   "execution_count": null,
   "metadata": {
    "scrolled": true
   },
   "outputs": [],
   "source": [
    "print(math.sqrt(4))\n",
    "print(math.floor(-10.7))\n",
    "print(math.pow(2,3))\n",
    "print(math.pi)\n",
    "print(math.factorial(6))"
   ]
  },
  {
   "cell_type": "code",
   "execution_count": null,
   "metadata": {},
   "outputs": [],
   "source": [
    "math?"
   ]
  },
  {
   "cell_type": "code",
   "execution_count": null,
   "metadata": {},
   "outputs": [],
   "source": [
    "import random as rn\n",
    "\n",
    "print(rn.random())                                 # print random number between 0 to 1\n",
    "\n",
    "print(rn.randint(50,100))                          # To get random number between 50 to 100\n",
    "                                                   # randint function requires 2 argument\n",
    "\n",
    "print(rn.randrange(50))                            # To get integer random number between 50 and 100\n",
    "                                                   # randrange function works even if we pass 1 argument\n",
    "\n",
    "print(rn.uniform(50,100))                         # To get float random numbers betwen 50 and 100\n",
    "                                                  # To get random number in float use uniform function\n"
   ]
  },
  {
   "cell_type": "code",
   "execution_count": null,
   "metadata": {},
   "outputs": [],
   "source": [
    "# Creating strings and choosing from it\n",
    "\n",
    "x = ['a', 'b', 'c', 'd', 'e']\n",
    "print(type(x))\n",
    "\n",
    "print(rn.choice(x))                                  # Choose a random element from a non-empty sequence i.e list.\n",
    "\n",
    "print(rn.shuffle(x))                                 # Shuffle list x in place, and return None.\n"
   ]
  },
  {
   "cell_type": "code",
   "execution_count": null,
   "metadata": {},
   "outputs": [],
   "source": []
  }
 ],
 "metadata": {
  "kernelspec": {
   "display_name": "Python 3",
   "language": "python",
   "name": "python3"
  },
  "language_info": {
   "codemirror_mode": {
    "name": "ipython",
    "version": 3
   },
   "file_extension": ".py",
   "mimetype": "text/x-python",
   "name": "python",
   "nbconvert_exporter": "python",
   "pygments_lexer": "ipython3",
   "version": "3.7.3"
  }
 },
 "nbformat": 4,
 "nbformat_minor": 2
}
