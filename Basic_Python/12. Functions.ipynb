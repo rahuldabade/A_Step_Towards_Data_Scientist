{
 "cells": [
  {
   "cell_type": "markdown",
   "metadata": {},
   "source": [
    "# FUNCTIONS"
   ]
  },
  {
   "cell_type": "markdown",
   "metadata": {},
   "source": [
    "A function is a block of organized, reusable code that is used to perform a single, related action.\n",
    "\n",
    "Functions provide better modularity for your application and a high degree of code reusing\n"
   ]
  },
  {
   "cell_type": "markdown",
   "metadata": {},
   "source": [
    "# 1. BUILT IN FUNCTION"
   ]
  },
  {
   "cell_type": "markdown",
   "metadata": {},
   "source": [
    "Functions that readily come with Python are called built-in functions\n",
    "\n",
    "Python provides many inbuilt functions like print() etc."
   ]
  },
  {
   "cell_type": "markdown",
   "metadata": {},
   "source": [
    "# 2. USER DEFINE FUNCTION  \n",
    "\n",
    "Functions that we define ourselves to do certain specific task are called as user-defined functions\n",
    "\n",
    "A Functions in Python are used to utilize the code in more than one place in a program,sometimes called method or procedures."
   ]
  },
  {
   "cell_type": "markdown",
   "metadata": {},
   "source": [
    "#  Rules in python to define a function\n",
    "\n",
    "Any arguments or input parameters should be placed within parentheses\n",
    "\n",
    "The function first statement can be an optional statement- docstring or the documentation string of the function\n",
    "\n",
    "The code within every function starts with a colon (:) and should be indented (space)\n",
    "\n",
    "A return statement with no args is the same as return None\n",
    "\n",
    "Function blocks begin with the keyword def followed by the function name and parentheses ( ( ) ).\n",
    "\n",
    "Any input parameters or arguments should be placed within these parentheses.\n",
    "\n",
    "We can also define parameters inside parentheses().\n",
    "\n",
    "The statement return(expression) exits a function, optionally passing back an expression to the caller."
   ]
  },
  {
   "cell_type": "code",
   "execution_count": null,
   "metadata": {},
   "outputs": [],
   "source": [
    "def square(a):                  # Function in Python is defined by \"def \"statement followed by function name and parentheses( )\n",
    "    print(\"value is = \",a)      # The code block in every function starts with a colon : \n",
    "    return a*a                  # return statement exits a function, passing back a value to the user.         \n",
    "    "
   ]
  },
  {
   "cell_type": "code",
   "execution_count": 3,
   "metadata": {},
   "outputs": [
    {
     "name": "stdout",
     "output_type": "stream",
     "text": [
      "enter a number:12.10\n",
      "value is =  12.1\n"
     ]
    },
    {
     "data": {
      "text/plain": [
       "146.41"
      ]
     },
     "execution_count": 3,
     "metadata": {},
     "output_type": "execute_result"
    }
   ],
   "source": [
    "value=float(input(\"enter a number:\")) # input function,expects user to enter some float value and store it in variable value\n",
    "square(value)                         # we are calling the function square and passing the stored value in variable value\n",
    "                                      # later we are finding square of the user entered float value"
   ]
  },
  {
   "cell_type": "markdown",
   "metadata": {},
   "source": [
    "**simple example of defining a function**"
   ]
  },
  {
   "cell_type": "code",
   "execution_count": 9,
   "metadata": {},
   "outputs": [],
   "source": [
    "def square(x):  \n",
    "    return x*x"
   ]
  },
  {
   "cell_type": "code",
   "execution_count": null,
   "metadata": {},
   "outputs": [],
   "source": [
    "print(square(4))"
   ]
  },
  {
   "cell_type": "markdown",
   "metadata": {},
   "source": [
    "By default, parameters have a positional behavior and we need to inform them in the same order that they were defined.\n",
    "\n"
   ]
  },
  {
   "cell_type": "markdown",
   "metadata": {},
   "source": [
    "# Calling a Function\n",
    "\n",
    "Defining a function only gives it a name, specifies the parameters that they are to be included in the function and\n",
    "structures the blocks of code.\n",
    "\n",
    "Once the basic structure of a function is finalized, you can execute it by calling it from another function or directly\n",
    "from the Python prompt."
   ]
  },
  {
   "cell_type": "code",
   "execution_count": 8,
   "metadata": {},
   "outputs": [
    {
     "name": "stdout",
     "output_type": "stream",
     "text": [
      "I'm first call to user defined function!\n",
      "Again second call to the same function\n"
     ]
    }
   ],
   "source": [
    "# example to call printme() function\n",
    "\n",
    "def printme( str ):\n",
    "   \"This prints a passed string into this function\"\n",
    "   print(str)\n",
    "   return;\n",
    "\n",
    "# Now you can call printme function\n",
    "\n",
    "printme(\"I'm first call to user defined function!\")\n",
    "printme(\"Again second call to the same function\")"
   ]
  },
  {
   "cell_type": "markdown",
   "metadata": {},
   "source": [
    "The following function takes a string as input parameter and prints it on standard screen."
   ]
  },
  {
   "cell_type": "markdown",
   "metadata": {},
   "source": [
    "#                                         ROUND() FUNCTION"
   ]
  },
  {
   "cell_type": "code",
   "execution_count": 1,
   "metadata": {},
   "outputs": [
    {
     "name": "stdout",
     "output_type": "stream",
     "text": [
      "Enter 1/2/3: 12.25\n",
      "12.0\n"
     ]
    }
   ],
   "source": [
    "choice = float(input(\"Enter 1/2/3: \"))   # Here input function expect user(us) to enter some float values in the variable choice\n",
    "choice = round(choice,0)                 # Here round() function returns the nearest integer of the user entered float value  \n",
    "print(choice)                            # Choice variable is printed "
   ]
  },
  {
   "cell_type": "markdown",
   "metadata": {},
   "source": [
    "# Type Casting"
   ]
  },
  {
   "cell_type": "markdown",
   "metadata": {},
   "source": [
    "**When user want to type a string use input()**\n",
    "\n",
    "**When user want to type a decimal number use float(input())**\n",
    "\n",
    "**When user want to type an integer number use int(input())**\n",
    "\n"
   ]
  },
  {
   "cell_type": "markdown",
   "metadata": {},
   "source": [
    "# Pass by reference vs value\n",
    "\n",
    "All parameters (arguments) in the Python language are passed by reference.\n",
    "\n",
    "It means if you change what a parameter refers to within a function, the change also reflects back in the calling function."
   ]
  },
  {
   "cell_type": "code",
   "execution_count": null,
   "metadata": {},
   "outputs": [],
   "source": [
    "def changeme( mylist ):\n",
    "   \"This changes a passed list into this function\"\n",
    "   mylist.append([1,2,3,4]);\n",
    "   print \"Values inside the function: \", mylist\n",
    "   return\n",
    "\n",
    "# Now you can call changeme function\n",
    "\n",
    "mylist = [10,20,30];\n",
    "changeme( mylist );\n",
    "print \"Values outside the function: \", mylist"
   ]
  },
  {
   "cell_type": "markdown",
   "metadata": {},
   "source": [
    "Here, we are maintaining reference of the passed object and appending values in the same object."
   ]
  },
  {
   "cell_type": "markdown",
   "metadata": {},
   "source": [
    "1 more example where argument is being passed by reference and the reference is being overwritten inside the called function."
   ]
  },
  {
   "cell_type": "code",
   "execution_count": null,
   "metadata": {},
   "outputs": [],
   "source": [
    "def changeme( mylist ):\n",
    "   \"This changes a passed list into this function\"\n",
    "   mylist = [1,2,3,4];                                           # This would assign new reference in mylist\n",
    "   print \"Values inside the function: \", mylist\n",
    "   return\n",
    "\n",
    "# Now you can call changeme function\n",
    "\n",
    "mylist = [10,20,30];\n",
    "changeme( mylist );\n",
    "print \"Values outside the function: \", mylist"
   ]
  },
  {
   "cell_type": "markdown",
   "metadata": {},
   "source": [
    "The parameter mylist is local to the function changeme. Changing mylist within the function does not affect mylist. \n",
    "\n",
    "The function accomplishes nothing"
   ]
  },
  {
   "cell_type": "markdown",
   "metadata": {},
   "source": [
    "# Function Arguments\n",
    "\n",
    "**We can call a function by using following types of formal arguments**\n",
    "\n",
    "**1. Required arguments**\n",
    "\n",
    "**2. Keyword arguments**\n",
    "\n",
    "**3. Default arguments**\n",
    "\n",
    "**4. Variable-length arguments**"
   ]
  },
  {
   "cell_type": "markdown",
   "metadata": {},
   "source": [
    "# Required arguments\n",
    "\n",
    "Required arguments are the arguments passed to a function in correct positional order. \n",
    "\n",
    "Here, the number of arguments in the function call should match exactly with the function definition.\n",
    "\n",
    "To call the function printme(), we need to pass one argument, otherwise it gives a syntax error as follows −"
   ]
  },
  {
   "cell_type": "code",
   "execution_count": null,
   "metadata": {},
   "outputs": [],
   "source": [
    "def printme( str ):\n",
    "   \"This prints a passed string into this function\"\n",
    "   print str\n",
    "   return;\n",
    "\n",
    "# Now you can call printme function\n",
    "printme()"
   ]
  },
  {
   "cell_type": "markdown",
   "metadata": {},
   "source": [
    "# Keyword arguments\n",
    "\n",
    "Keyword arguments are related to the function calls.\n",
    "\n",
    "When you use keyword arguments in a function call, the caller identifies the arguments by the parameter name.\n",
    "\n",
    "This allows you to skip arguments or place them out of order because the Python interpreter is able to use the keywords\n",
    "provided to match the values with parameters.\n",
    "\n",
    "We can also make keyword calls to the printme() function in the following ways"
   ]
  },
  {
   "cell_type": "code",
   "execution_count": null,
   "metadata": {},
   "outputs": [],
   "source": [
    "def printme( str ):\n",
    "   \"This prints a passed string into this function\"\n",
    "   print str\n",
    "   return;\n",
    "\n",
    "# Now you can call printme function\n",
    "printme( str = \"My string\")"
   ]
  },
  {
   "cell_type": "markdown",
   "metadata": {},
   "source": [
    "The following example gives more clear picture.\n",
    "\n",
    "Note -: order of parameters does not matter."
   ]
  },
  {
   "cell_type": "code",
   "execution_count": null,
   "metadata": {},
   "outputs": [],
   "source": [
    "# Function definition is here\n",
    "def printinfo( name, age ):\n",
    "   \"This prints a passed info into this function\"\n",
    "   print \"Name: \", name\n",
    "   print \"Age \", age\n",
    "   return;\n",
    "\n",
    "# Now you can call printinfo function\n",
    "printinfo( age=50, name=\"miki\" )"
   ]
  },
  {
   "cell_type": "markdown",
   "metadata": {},
   "source": [
    "# Default arguments\n",
    "\n",
    "A default argument is an argument that assumes default value if a value is not provided in the function call for that argument \n",
    "\n",
    "The following example gives an idea on default arguments, it prints default age if it is not passed −"
   ]
  },
  {
   "cell_type": "code",
   "execution_count": null,
   "metadata": {},
   "outputs": [],
   "source": [
    "# Function definition is here\n",
    "def printinfo( name, age = 35 ):\n",
    "   \"This prints a passed info into this function\"\n",
    "   print \"Name: \", name\n",
    "   print \"Age \", age\n",
    "   return;\n",
    "\n",
    "# Now you can call printinfo function\n",
    "printinfo( age=50, name=\"miki\" )\n",
    "printinfo( name=\"miki\" )"
   ]
  },
  {
   "cell_type": "markdown",
   "metadata": {},
   "source": [
    "# Variable-length arguments\n",
    "\n",
    "You may need to process a function for more arguments than you specified while defining the function. \n",
    "\n",
    "These arguments are called variable-length arguments and are not named in the function definition,\n",
    "unlike required and default arguments."
   ]
  },
  {
   "cell_type": "code",
   "execution_count": null,
   "metadata": {},
   "outputs": [],
   "source": [
    "# Syntax for a function with non-keyword variable arguments\n",
    "\n",
    "def functionname([formal_args,] *var_args_tuple ):\n",
    "   \"function_docstring\"\n",
    "   function_suite\n",
    "   return [expression]"
   ]
  },
  {
   "cell_type": "markdown",
   "metadata": {},
   "source": [
    "An asterisk (*) is placed before the variable name that holds the values of all nonkeyword variable arguments.\n",
    "\n",
    "This tuple remains empty if no additional arguments are specified during the function call. \n",
    "\n",
    "example -:"
   ]
  },
  {
   "cell_type": "code",
   "execution_count": null,
   "metadata": {},
   "outputs": [],
   "source": [
    "# Function definition is here\n",
    "def printinfo( arg1, *vartuple ):\n",
    "   \"This prints a variable passed arguments\"\n",
    "   print \"Output is: \"\n",
    "   print arg1\n",
    "   for var in vartuple:\n",
    "      print var\n",
    "   return;\n",
    "\n",
    "# Now you can call printinfo function\n",
    "printinfo( 10 )\n",
    "printinfo( 70, 60, 50 )"
   ]
  },
  {
   "cell_type": "markdown",
   "metadata": {},
   "source": [
    "# The Anonymous Functions\n",
    "\n",
    "These functions are called anonymous because they are not declared in the standard manner by using def keyword.\n",
    "We can use the lambda keyword to create small anonymous functions.\n",
    "\n",
    "Lambda forms can take any number of arguments but return just one value in the form of an expression. \n",
    "They cannot contain commands or multiple expressions.\n",
    "\n",
    "An anonymous function cannot be a direct call to print because lambda requires an expression\n",
    "\n",
    "Lambda functions have their own local namespace and cannot access variables other than those in their parameter list and\n",
    "those in the global namespace.\n",
    "\n",
    "Although it appears that lambda's are one-line version of a function, they are not equivalent to inline statements in C or C++,\n",
    "whose purpose is by passing function stack allocation during invocation for performance reasons."
   ]
  },
  {
   "cell_type": "code",
   "execution_count": null,
   "metadata": {},
   "outputs": [],
   "source": [
    "# syntax of lambda functions contains only a single statement.\n",
    "\n",
    "lambda [arg1 [,arg2,.....argn]]:expression\n",
    "  "
   ]
  },
  {
   "cell_type": "code",
   "execution_count": null,
   "metadata": {},
   "outputs": [],
   "source": [
    "# example to show how lambda form of function works\n",
    "\n",
    "sum = lambda arg1, arg2: arg1 + arg2;\n",
    "\n",
    "# Now you can call sum as a function\n",
    "\n",
    "print \"Value of total : \", sum( 10, 20 )\n",
    "print \"Value of total : \", sum( 20, 20 )"
   ]
  },
  {
   "cell_type": "markdown",
   "metadata": {},
   "source": [
    "# The return Statement\n",
    "\n",
    "The statement return [expression] exits a function, optionally passing back an expression to the caller.\n",
    "\n",
    "A return statement with no arguments is the same as return None.\n",
    "\n",
    "All the above examples are not returning any value. "
   ]
  },
  {
   "cell_type": "code",
   "execution_count": null,
   "metadata": {},
   "outputs": [],
   "source": [
    "def sum( arg1, arg2 ):\n",
    "   # Add both the parameters and return them.\"\n",
    "   total = arg1 + arg2\n",
    "   print \"Inside the function : \", total\n",
    "   return total;\n",
    "\n",
    "# Now you can call sum function\n",
    "total = sum( 10, 20 );\n",
    "print \"Outside the function : \", total "
   ]
  },
  {
   "cell_type": "markdown",
   "metadata": {},
   "source": [
    "# Scope of Variables\n",
    "\n",
    "All variables in a program may not be accessible at all locations in that program.\n",
    "This depends on where you have declared a variable.\n",
    "\n",
    "The scope of a variable determines the portion of the program where you can access a particular identifier."
   ]
  },
  {
   "cell_type": "markdown",
   "metadata": {},
   "source": [
    "**There are 2 basic scopes of variables in Python**\n",
    "\n",
    "**1. Global variables**\n",
    "\n",
    "**2. Local variables**"
   ]
  },
  {
   "cell_type": "markdown",
   "metadata": {},
   "source": [
    "# Global vs. Local variables\n",
    "\n",
    "Variables that are defined inside a function body have a local scope, and those defined outside have a global scope.\n",
    "\n",
    "This means local variables can be accessed only inside the function in which they are declared,\n",
    "whereas global variables can be accessed throughout the program body by all functions.\n",
    "\n",
    "When you call a function, the variables declared inside it are brought into scope. "
   ]
  },
  {
   "cell_type": "code",
   "execution_count": 5,
   "metadata": {},
   "outputs": [
    {
     "name": "stdout",
     "output_type": "stream",
     "text": [
      "Inside the function local total :  30\n",
      "Outside the function global total :  0\n"
     ]
    }
   ],
   "source": [
    "# Example\n",
    "\n",
    "total = 0;                                             # This is global variable.\n",
    "\n",
    "def sum( arg1, arg2 ):\n",
    "                                                       # Add both the parameters and return them.\"\n",
    "   total = arg1 + arg2;                                # Here total is local variable.\n",
    "   print(\"Inside the function local total : \", total)\n",
    "   return total;\n",
    "\n",
    "# Now we can call sum function\n",
    "sum( 10, 20 );\n",
    "print(\"Outside the function global total : \", total)"
   ]
  },
  {
   "cell_type": "code",
   "execution_count": null,
   "metadata": {},
   "outputs": [],
   "source": []
  }
 ],
 "metadata": {
  "kernelspec": {
   "display_name": "Python 3",
   "language": "python",
   "name": "python3"
  },
  "language_info": {
   "codemirror_mode": {
    "name": "ipython",
    "version": 3
   },
   "file_extension": ".py",
   "mimetype": "text/x-python",
   "name": "python",
   "nbconvert_exporter": "python",
   "pygments_lexer": "ipython3",
   "version": "3.7.3"
  }
 },
 "nbformat": 4,
 "nbformat_minor": 2
}
