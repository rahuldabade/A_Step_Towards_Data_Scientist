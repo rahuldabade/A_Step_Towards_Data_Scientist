{
 "cells": [
  {
   "cell_type": "markdown",
   "metadata": {},
   "source": [
    "#    -------------------   IF ELSEIF AND ELSE STATEMENT   -------------------------------\n",
    "\n",
    "This statement are used in Python for decision making."
   ]
  },
  {
   "cell_type": "markdown",
   "metadata": {},
   "source": [
    "#                                     IF STATEMENT\n",
    "\n",
    "Here,the program evaluates test expression and execute statement only if the text expression is True.\n",
    "\n",
    "If the text expression is False,statement is not executed"
   ]
  },
  {
   "cell_type": "code",
   "execution_count": 1,
   "metadata": {},
   "outputs": [
    {
     "name": "stdout",
     "output_type": "stream",
     "text": [
      "1 - Got a true expression value\n",
      "100\n"
     ]
    }
   ],
   "source": [
    "var1 = 100\n",
    "if var1:\n",
    "   print(\"1 - Got a true expression value\")\n",
    "   print(var1)"
   ]
  },
  {
   "cell_type": "code",
   "execution_count": 3,
   "metadata": {},
   "outputs": [
    {
     "name": "stdout",
     "output_type": "stream",
     "text": [
      "Good bye!\n"
     ]
    }
   ],
   "source": [
    "var2 = 0\n",
    "if var2:\n",
    "   print(\"2 - Got a true expression value\")\n",
    "   print(var2)\n",
    "print(\"Good bye!\")                                # print(\"Good Bye\") is not part of the block"
   ]
  },
  {
   "cell_type": "code",
   "execution_count": 4,
   "metadata": {},
   "outputs": [],
   "source": [
    "x=3                                     # variable x is assigned integer value ---> 3"
   ]
  },
  {
   "cell_type": "code",
   "execution_count": 5,
   "metadata": {},
   "outputs": [],
   "source": [
    "y=5                                     # variable y is assigned integer value ---> 5"
   ]
  },
  {
   "cell_type": "code",
   "execution_count": 6,
   "metadata": {},
   "outputs": [
    {
     "name": "stdout",
     "output_type": "stream",
     "text": [
      "This is the first block\n",
      "x is less than y\n"
     ]
    }
   ],
   "source": [
    "if x < y:                               # here x<y: is a test expression\n",
    "    print(\"This is the first block\")    # As x is less than y both the statement is printed \n",
    "    print('x is less than y')           # spaces or tab used at the beginning of a print statement are called as indentation\n",
    "                                        # statements with the same indentation(spaces) belong to the same group called as suite"
   ]
  },
  {
   "cell_type": "markdown",
   "metadata": {},
   "source": [
    "**If the above if statement condition is false**"
   ]
  },
  {
   "cell_type": "code",
   "execution_count": 8,
   "metadata": {},
   "outputs": [],
   "source": [
    "x=3                                     # variable x is assigned integer value ---> 3"
   ]
  },
  {
   "cell_type": "code",
   "execution_count": 9,
   "metadata": {},
   "outputs": [],
   "source": [
    "y=5                                     # variable y is assigned integer value ---> 5"
   ]
  },
  {
   "cell_type": "code",
   "execution_count": 10,
   "metadata": {},
   "outputs": [],
   "source": [
    "if x > y:                               # here x>y: is a test expression\n",
    "    print(\"This is the first block\")    # As x is less than y statement is not printed and skipped\n",
    "    print('x is less than y')           # you won't get any output here and the block is skipped to next"
   ]
  },
  {
   "cell_type": "markdown",
   "metadata": {},
   "source": [
    "**if print function does not belong to the same suite of if block**"
   ]
  },
  {
   "cell_type": "code",
   "execution_count": 11,
   "metadata": {},
   "outputs": [
    {
     "name": "stdout",
     "output_type": "stream",
     "text": [
      "3 is a positive number.\n",
      "This is always printed.\n"
     ]
    }
   ],
   "source": [
    "num = 3\n",
    "if num > 0:\n",
    "    print(num, \"is a positive number.\")\n",
    "    print(\"This is always printed.\")"
   ]
  },
  {
   "cell_type": "code",
   "execution_count": null,
   "metadata": {},
   "outputs": [],
   "source": [
    "num = -1\n",
    "if num > 0:\n",
    "    print(num, \"is a positive number.\")\n",
    "print(\"This is also always printed.\")     # print(\"This is also always printed.\") statement falls outside of the if block.\n",
    "                                          # Hence, it is executed regardless of the test expression."
   ]
  },
  {
   "cell_type": "markdown",
   "metadata": {},
   "source": [
    "**If Statement with 2 condition and & or** "
   ]
  },
  {
   "cell_type": "code",
   "execution_count": null,
   "metadata": {},
   "outputs": [],
   "source": [
    "x=5                                                       # Here x and y are 2 variables with the values 5 and 8"
   ]
  },
  {
   "cell_type": "code",
   "execution_count": null,
   "metadata": {},
   "outputs": [],
   "source": [
    "y=8                                  "
   ]
  },
  {
   "cell_type": "code",
   "execution_count": null,
   "metadata": {},
   "outputs": [],
   "source": [
    "if (x >7 and y>7) or x!=y:                                # (x >7 and y>7) or x!=y is our test expression\n",
    "    print('x is a positive single-digit number.')"
   ]
  },
  {
   "cell_type": "markdown",
   "metadata": {},
   "source": [
    "#                                               IF ELSE  \n",
    "\n",
    "If else statement evaluates test expression and execute body only when test condition is True.\n",
    "\n",
    "If the test condition is False,body of else is executed.\n",
    "\n",
    "Indentation is used to separate the blocks."
   ]
  },
  {
   "cell_type": "code",
   "execution_count": null,
   "metadata": {},
   "outputs": [],
   "source": [
    "x = 3"
   ]
  },
  {
   "cell_type": "code",
   "execution_count": null,
   "metadata": {},
   "outputs": [],
   "source": [
    "y = 5"
   ]
  },
  {
   "cell_type": "code",
   "execution_count": null,
   "metadata": {},
   "outputs": [],
   "source": [
    "if x >= y:                                                   #  x >= y is a test expression\n",
    "    print('x is greater than y')\n",
    "else:\n",
    "    print('x is less than y')           \n",
    "    "
   ]
  },
  {
   "cell_type": "code",
   "execution_count": 12,
   "metadata": {},
   "outputs": [
    {
     "name": "stdout",
     "output_type": "stream",
     "text": [
      "1 - Got a true expression value\n",
      "100\n"
     ]
    }
   ],
   "source": [
    "var1 = 100\n",
    "if var1:\n",
    "   print(\"1 - Got a true expression value\")\n",
    "   print(var1)\n",
    "else:\n",
    "   print(\"1 - Got a false expression value\")\n",
    "   print(var1)"
   ]
  },
  {
   "cell_type": "code",
   "execution_count": 13,
   "metadata": {},
   "outputs": [
    {
     "name": "stdout",
     "output_type": "stream",
     "text": [
      "2 - Got a false expression value\n",
      "0\n",
      "Good bye!\n"
     ]
    }
   ],
   "source": [
    "var2 = 0\n",
    "if var2:\n",
    "   print(\"2 - Got a true expression value\")\n",
    "   print(var2)\n",
    "else:\n",
    "   print(\"2 - Got a false expression value\")\n",
    "   print(var2)\n",
    "\n",
    "print(\"Good bye!\")"
   ]
  },
  {
   "cell_type": "markdown",
   "metadata": {},
   "source": [
    "#  IF ELSEIF ELSE \n",
    "\n",
    "Elif allows us to check multiple expressions.\n",
    "\n",
    "If condition of if statement is False,it checks the condition of the next elif block\n",
    "\n",
    "If all the conditions are False, body of else is executed.\n",
    "\n",
    "Only 1 block among the several if elif else blocks is executed according to the condition.\n",
    "\n",
    "If block can have only 1 else block.But Else block can have multiple ElseIf blocks."
   ]
  },
  {
   "cell_type": "code",
   "execution_count": null,
   "metadata": {},
   "outputs": [],
   "source": [
    "x=3"
   ]
  },
  {
   "cell_type": "code",
   "execution_count": null,
   "metadata": {},
   "outputs": [],
   "source": [
    "y=5"
   ]
  },
  {
   "cell_type": "code",
   "execution_count": 14,
   "metadata": {},
   "outputs": [
    {
     "name": "stdout",
     "output_type": "stream",
     "text": [
      "x is less than y\n",
      "done\n"
     ]
    }
   ],
   "source": [
    "if x == y:                                   #  x == y is a test expression \n",
    "    print('x and y are equal')\n",
    "elif x < y:\n",
    "    print('x is less than y')\n",
    "else:\n",
    "    print('x is greater than y')\n",
    "print(\"done\")                           # Here print(\"done\") statement does not belong to the else block"
   ]
  },
  {
   "cell_type": "code",
   "execution_count": null,
   "metadata": {},
   "outputs": [],
   "source": [
    "num=3.4\n",
    "if num > 0:\n",
    "    print(\"Positive number\")\n",
    "elif num == 0:\n",
    "    print(\"Zero\")\n",
    "else:\n",
    "    print(\"Negative number\")"
   ]
  },
  {
   "cell_type": "code",
   "execution_count": null,
   "metadata": {},
   "outputs": [],
   "source": [
    "var = 100\n",
    "if var == 200:\n",
    "   print(\"1 - Got a true expression value\")\n",
    "   print(var)\n",
    "elif var == 150:\n",
    "   print(\"2 - Got a true expression value\")\n",
    "   print(var)\n",
    "elif var == 100:\n",
    "   print(\"3 - Got a true expression value\")\n",
    "   print(var)\n",
    "else:\n",
    "   print(\"4 - Got a false expression value\")\n",
    "   print(var)\n",
    "\n",
    "print(\"Good bye!\")"
   ]
  },
  {
   "cell_type": "markdown",
   "metadata": {},
   "source": [
    "#                                                  NESTED IF    \n",
    "\n",
    "We can have if elif else statement inside another if elif else statement.\n",
    "\n",
    "This is called nesting in computer programming.\n",
    "\n",
    "Any number of these statements can be nested inside one another.\n",
    "\n",
    "This can get confusing, so must be avoided if we can\n",
    "\n",
    "Indentation is the only way to figure out the level of nesting.\n",
    "\n",
    "Since Python functions don't have any explicit begin or end like curly braces to indicate the start and stop for the function,they have to rely on this indentation."
   ]
  },
  {
   "cell_type": "code",
   "execution_count": null,
   "metadata": {},
   "outputs": [],
   "source": [
    "num = float(input(\"Enter a number: \"))  # Here input function expect user(us) to enter some float values in the num variable \n",
    "if num >= 0:                            # num >= 0 is our test expression\n",
    "    if num == 0:                        # the condition is nested if,i.e if inside if\n",
    "        print(\"Zero\")\n",
    "    else:\n",
    "        print(\"Positive number\")\n",
    "else:\n",
    "    print(\"Negative number\")"
   ]
  },
  {
   "cell_type": "code",
   "execution_count": null,
   "metadata": {},
   "outputs": [],
   "source": []
  },
  {
   "cell_type": "markdown",
   "metadata": {},
   "source": [
    "#    --------------------------------- LOOPS IN PYTHON   --------------------------------------"
   ]
  },
  {
   "cell_type": "markdown",
   "metadata": {},
   "source": [
    "# LOOPS\n",
    "\n",
    "In loops statements are executed sequentially.\n",
    "\n",
    "The first statement in a function is executed first, followed by the second, and so on.\n",
    "\n",
    "There may be a situation when you need to execute a block of code several number of times.\n",
    "\n",
    "A loop statement allows us to execute a statement or group of statements multiple times."
   ]
  },
  {
   "cell_type": "markdown",
   "metadata": {},
   "source": [
    "# Python programming language provides following types of loops"
   ]
  },
  {
   "cell_type": "raw",
   "metadata": {},
   "source": [
    "1. while loop    # Repeats a statement or group of statements if given condition is TRUE.\n",
    "                 # It tests the condition before executing the loop body.\n",
    "\n",
    "2. for loop      # Executes sequence of statements multiple times and abbreviates the code that manages the loop variable.\n",
    "\n",
    "3. nested loops  # We can use one or more loop inside any another while, for or do..while loop.\n"
   ]
  },
  {
   "cell_type": "markdown",
   "metadata": {},
   "source": [
    "#                                         1.    WHILE LOOP\n",
    "\n",
    "3 important things in while loop \n",
    "\n",
    "1---> INITIALIZATION                2---> CONDITION               3---> INCREMENT/DECREMENT\n",
    "\n",
    "If else statement is used with while loop,the else statement is executed when the condition becomes false."
   ]
  },
  {
   "cell_type": "code",
   "execution_count": 15,
   "metadata": {},
   "outputs": [
    {
     "name": "stdout",
     "output_type": "stream",
     "text": [
      "Rahul\n",
      "Rahul\n",
      "Rahul\n",
      "Rahul\n",
      "Rahul\n"
     ]
    }
   ],
   "source": [
    "\n",
    "i=1                       # (Initialization) Here we have taken a variable i with value as 1 (this is a counter statement)\n",
    "while i<=5:               # (Condition )--> Here while is a keyword ,i<=5 is a condition, : specify whatever is coming ahead is \n",
    "    print(\"Rahul\")        # part of this block and the statement belongs to the same suite as we are using same indentation \n",
    "    i=i+1                 # (Increment)--> Everytime you print \"Rahul\" increase the value of i by 1\n",
    "                         \n",
    "     "
   ]
  },
  {
   "cell_type": "code",
   "execution_count": 16,
   "metadata": {},
   "outputs": [
    {
     "name": "stdout",
     "output_type": "stream",
     "text": [
      "Rahul\n",
      "Rahul\n",
      "Rahul\n",
      "Rahul\n",
      "Rahul\n"
     ]
    }
   ],
   "source": [
    "# We can also do decrement by taking variable i=5,condition i>=1 and decrement i=i-1\n",
    "# it will print Rahul from 5 to 1 i.e in descending order \n",
    "\n",
    "i=5                       \n",
    "while i>=1: \n",
    "    print(\"Rahul\")        \n",
    "    i=i-1                  # Note - If you forget to increment or Decrement the value jupyter will keep on printing\n"
   ]
  },
  {
   "cell_type": "code",
   "execution_count": null,
   "metadata": {},
   "outputs": [],
   "source": [
    "i=5                       \n",
    "while i>=1: \n",
    "    print(\"Rahul\",i)         # If we want to print \"Rahul\" with the value of i variable               \n",
    "    i=i-1    \n",
    "              "
   ]
  },
  {
   "cell_type": "code",
   "execution_count": 17,
   "metadata": {},
   "outputs": [
    {
     "name": "stdout",
     "output_type": "stream",
     "text": [
      "The count is: 0\n",
      "The count is: 1\n",
      "The count is: 2\n",
      "The count is: 3\n",
      "The count is: 4\n",
      "The count is: 5\n",
      "The count is: 6\n",
      "The count is: 7\n",
      "The count is: 8\n",
      "Good bye!\n"
     ]
    }
   ],
   "source": [
    "count = 0\n",
    "while (count < 9):\n",
    "   print('The count is:', count)\n",
    "   count = count + 1\n",
    "print(\"Good bye!\")"
   ]
  },
  {
   "cell_type": "markdown",
   "metadata": {},
   "source": [
    "**Increment in While Loop**"
   ]
  },
  {
   "cell_type": "code",
   "execution_count": 18,
   "metadata": {},
   "outputs": [
    {
     "name": "stdout",
     "output_type": "stream",
     "text": [
      "0\n",
      "1\n",
      "2\n",
      "3\n",
      "4\n",
      "count value reached  5\n"
     ]
    }
   ],
   "source": [
    "count=0                                  # Here count is a variable with value = 0\n",
    "while(count<5):                          # Here while is a keyword,(count<5) is a condition\n",
    "    print(count)                         # print function statement and count statement belongs to same suite as they have\n",
    "    count +=1                            # same indentation\n",
    "else:                                    #Instead of using count=count+1(i=i+1) here we have used +=1 (Assignment Ooperator)\n",
    "    print(\"count value reached \" ,count) # else is a keyword that specifies if above condition is false print else condition\n",
    "                                         # here print function prints string with value "
   ]
  },
  {
   "cell_type": "markdown",
   "metadata": {},
   "source": [
    "**Decrement in While Loop**"
   ]
  },
  {
   "cell_type": "code",
   "execution_count": null,
   "metadata": {},
   "outputs": [],
   "source": [
    "count=10\n",
    "while(count>5):\n",
    "    print(count)\n",
    "    count -=1\n",
    "else:\n",
    "    print(\"count value reached \" ,count)"
   ]
  },
  {
   "cell_type": "markdown",
   "metadata": {},
   "source": [
    "**Else Statement with While Loop**"
   ]
  },
  {
   "cell_type": "markdown",
   "metadata": {},
   "source": [
    "If the else statement is used with a while loop, else statement is executed when the condition becomes false."
   ]
  },
  {
   "cell_type": "code",
   "execution_count": null,
   "metadata": {
    "scrolled": true
   },
   "outputs": [],
   "source": [
    "count = 0\n",
    "while count < 5:\n",
    "   print(count, \" is  less than 5\")\n",
    "   count = count + 1\n",
    "else:\n",
    "   print(count, \" is not less than 5\")"
   ]
  },
  {
   "cell_type": "markdown",
   "metadata": {},
   "source": [
    "**Infinite Loop**\n",
    "\n",
    "A loop becomes infinite loop if a condition never becomes FALSE.\n",
    "\n",
    "One must be cautious when using while loops because it can results in a loop that never ends.\n",
    "\n",
    "Such a loop is called an infinite loop.\n",
    "\n",
    "An infinite loop might be useful in client/server programming where server needs to run continuously so that\n",
    "client programs can communicate with it as and when required."
   ]
  },
  {
   "cell_type": "code",
   "execution_count": null,
   "metadata": {
    "scrolled": true
   },
   "outputs": [
    {
     "name": "stdout",
     "output_type": "stream",
     "text": [
      "Enter a number  :25\n",
      "You entered:  25\n"
     ]
    }
   ],
   "source": [
    "var = 1\n",
    "while var == 1 :                                                   # This constructs an infinite loop\n",
    "    num = int(input(\"Enter a number  :\"))                           # user defined function\n",
    "    print( \"You entered: \", num)\n",
    "print( \"Good bye!\")"
   ]
  },
  {
   "cell_type": "markdown",
   "metadata": {},
   "source": [
    "#                     2.                           FOR LOOP    \n",
    "\n",
    "For loop normally works with sequence like list,tuples,strings dictionary etc\n",
    "\n",
    "Here we do not specify any condition or increment/decrement statement,for loop does everything on its own\n",
    "\n",
    "If the else statement is used with for loop,else statement is executed when the loop has exhausted iterating the list."
   ]
  },
  {
   "cell_type": "code",
   "execution_count": null,
   "metadata": {},
   "outputs": [],
   "source": [
    "for letter in 'Python':                                  # First Example\n",
    "   print('Current Letter :', letter)"
   ]
  },
  {
   "cell_type": "markdown",
   "metadata": {},
   "source": [
    "**For Loop with List**"
   ]
  },
  {
   "cell_type": "code",
   "execution_count": null,
   "metadata": {},
   "outputs": [],
   "source": [
    "x=['Rahul',77,15.20]                       # Here x is a list with string,integer and floating value\n",
    "for i in x:                                 # i is a variable that represents 1 element of a list x at a time\n",
    "    print(i)\n",
    "    "
   ]
  },
  {
   "cell_type": "code",
   "execution_count": null,
   "metadata": {},
   "outputs": [],
   "source": [
    "# We can have the list there itself\n",
    "\n",
    "for i in ['Rahul',77,15.20]:                              \n",
    "    print(i)\n",
    "    "
   ]
  },
  {
   "cell_type": "code",
   "execution_count": null,
   "metadata": {},
   "outputs": [],
   "source": [
    "fruits = ['banana', 'apple',  'mango']\n",
    "for fruit in fruits:                                 # Second Example\n",
    "   print('Current fruit :', fruit)\n",
    "\n",
    "print(\"Good bye!\")"
   ]
  },
  {
   "cell_type": "markdown",
   "metadata": {},
   "source": [
    "**For Loop with Range Function**"
   ]
  },
  {
   "cell_type": "code",
   "execution_count": 2,
   "metadata": {},
   "outputs": [
    {
     "name": "stdout",
     "output_type": "stream",
     "text": [
      "21\n",
      "22\n",
      "23\n",
      "24\n",
      "25\n",
      "26\n",
      "27\n",
      "28\n",
      "29\n",
      "30\n"
     ]
    }
   ],
   "source": [
    "for i in range(21,31,1):                # It means start from 21 end at 31 and every iteraton will have 2\n",
    "    print(i)\n",
    "    "
   ]
  },
  {
   "cell_type": "code",
   "execution_count": 3,
   "metadata": {},
   "outputs": [
    {
     "name": "stdout",
     "output_type": "stream",
     "text": [
      "20\n",
      "18\n",
      "16\n",
      "14\n",
      "12\n"
     ]
    }
   ],
   "source": [
    "# If we want to go in reverse order\n",
    "\n",
    "for i in range(20,10,-2):\n",
    "    print(i)"
   ]
  },
  {
   "cell_type": "markdown",
   "metadata": {},
   "source": [
    "**Iterating by Sequence Index**\n",
    "\n",
    "An alternative way of iterating through each item is by index offset into the sequence itself"
   ]
  },
  {
   "cell_type": "code",
   "execution_count": 1,
   "metadata": {},
   "outputs": [
    {
     "name": "stdout",
     "output_type": "stream",
     "text": [
      "Current fruit : banana\n",
      "Current fruit : apple\n",
      "Current fruit : mango\n",
      "Good bye!\n"
     ]
    }
   ],
   "source": [
    "fruits = ['banana', 'apple',  'mango']          # len() built-in function,provides total number of elements in the tuple\n",
    "for index in range(len(fruits)):                # range() built-in function give us the actual sequence to iterate over.\n",
    "    print('Current fruit :', fruits[index])\n",
    "print(\"Good bye!\")"
   ]
  },
  {
   "cell_type": "markdown",
   "metadata": {},
   "source": [
    "**For Loop with String**"
   ]
  },
  {
   "cell_type": "code",
   "execution_count": 4,
   "metadata": {},
   "outputs": [
    {
     "name": "stdout",
     "output_type": "stream",
     "text": [
      "R\n",
      "A\n",
      "H\n",
      "U\n",
      "L\n"
     ]
    }
   ],
   "source": [
    "x='RAHUL'                 # Here our variable x is a string\n",
    "for i in x:               # i is a variable representing value of x one by one at a time\n",
    "    print(i)"
   ]
  },
  {
   "cell_type": "markdown",
   "metadata": {},
   "source": [
    "**If condition inside for Loop**"
   ]
  },
  {
   "cell_type": "code",
   "execution_count": null,
   "metadata": {},
   "outputs": [],
   "source": [
    "for i in range(1,21,1):\n",
    "    if i%5!=0:             # Here if condition states that if variable i representing each value of range one at a time is  \n",
    "        print(i)           # divisible by 5 do not print that value\n",
    "        "
   ]
  },
  {
   "cell_type": "markdown",
   "metadata": {},
   "source": [
    "**Else Statement with For Loop**\n",
    "\n",
    "If the else statement is used with for loop,the else statement is executed when loop has exhausted iterating the list."
   ]
  },
  {
   "cell_type": "code",
   "execution_count": 14,
   "metadata": {},
   "outputs": [
    {
     "name": "stdout",
     "output_type": "stream",
     "text": [
      "10 equals 2 * 5\n",
      "11 is a prime number\n",
      "12 equals 2 * 6\n",
      "13 is a prime number\n",
      "14 equals 2 * 7\n",
      "15 equals 3 * 5\n",
      "16 equals 2 * 8\n",
      "17 is a prime number\n",
      "18 equals 2 * 9\n",
      "19 is a prime number\n"
     ]
    }
   ],
   "source": [
    "for num in range(10,20):                                  # range from 10 to 19 excluding 20\n",
    "    for i in range(2,num):                                #  Here we are finding the prime number between 10 to 19 \n",
    "        if num%i == 0:                                    # range (2,num) means from 2 to 19 i.e 2,3,4,5.....19\n",
    "            j=num/i                                       # first it will take iterator i= 2 and divide all the numbers \n",
    "            print('%d equals %d * %d' % (num,i,j))        # between 10 to 19 then i = 3 by all number between 10 to 19 & so on \n",
    "            break                                         # if number is not divisble by any iterator between 1 to 19\n",
    "    else:                                                 # that number will be printed as prime number\n",
    "        print(num, 'is a prime number')"
   ]
  },
  {
   "cell_type": "markdown",
   "metadata": {},
   "source": [
    "#                             3.        NESTED LOOP\n",
    "\n",
    "**while loop inside while loop**\n",
    "\n",
    "While loop executes all the condition of inner loop and then goes back again to outer loop"
   ]
  },
  {
   "cell_type": "code",
   "execution_count": 22,
   "metadata": {},
   "outputs": [
    {
     "name": "stdout",
     "output_type": "stream",
     "text": [
      "RahulRocksRocksRocksRocks\n"
     ]
    }
   ],
   "source": [
    "i=1                          # Initialization or Counter statement\n",
    "while i<=1:                  # header line starting with keyword and ending with colon\n",
    "    print(\"Rahul\",end=\"\")    # By default when we say print()--->jupyter print statement Rahul and goes on new line\n",
    "    j=1                      # But we want jupyter to print Rahul and stay on same line so we have mentioned end=\"\"             \n",
    "    while j<=4:              # Here i is an outer loop statement and j is an inner loop statement\n",
    "        print(\"Rocks\",end=\"\")\n",
    "        j=j+1 \n",
    "    i=i+1\n",
    "print()                      # print function brings our cursor on new line once whole process is completed\n",
    "                             # so if we execute the statement again the same statement will be printed on new line"
   ]
  },
  {
   "cell_type": "code",
   "execution_count": null,
   "metadata": {},
   "outputs": [
    {
     "name": "stdout",
     "output_type": "stream",
     "text": [
      "2  is prime\n",
      "3  is prime\n",
      "4  is prime\n"
     ]
    }
   ],
   "source": [
    "i = 2                                  # Initialization / Counter Statement\n",
    "while(i < 100):                        # Condition\n",
    "    j = 2                              # Initialization / Counter Statement\n",
    "    while(j <= i/j):                   # Condition\n",
    "        if not(i%j):                   # Here we are finding whether the number is prime or not\n",
    "            break                      # break is a loop control statement,it terminates the current loop and begins execution\n",
    "    j = j + 1                          # of the next statement\n",
    "    if (j > i/j):                      # In nested loop,break statement stops execution of the inner loop and start executing\n",
    "        print(i,\" is prime\")           # next line of the code after the block\n",
    "        i = i + 1\n",
    "print(\"Good bye!\")"
   ]
  },
  {
   "cell_type": "markdown",
   "metadata": {},
   "source": [
    "# --------------------    LOOP CONTROL STATEMEMT    ------------------------\n",
    "\n",
    "Loop control statements change execution from its normal sequence.\n",
    "\n",
    "When execution leaves a scope, all automatic objects that were created in that scope are destroyed."
   ]
  },
  {
   "cell_type": "markdown",
   "metadata": {},
   "source": [
    "**Python supports following control statements.**"
   ]
  },
  {
   "cell_type": "markdown",
   "metadata": {},
   "source": [
    "1. break statement     # Terminates the loop statement and transfers execution to the statement immediately following the loop.\n",
    "  \n",
    "\n",
    "2. continue statement  # Causes the loop to skip the remainder of its body and immediately retest its condition prior to\n",
    "                       # reiterating.\n",
    "                       \n",
    "\n",
    "3. pass statement      # Pass statement in Python is used when a statement is required syntactically but\n",
    "                       # we do not want any command or code to execute.\n"
   ]
  },
  {
   "cell_type": "markdown",
   "metadata": {},
   "source": [
    "#                                          BREAK STATEMENT\n",
    "\n",
    "The break statement in Python terminates the current loop and resumes execution of the next statement\n",
    "\n",
    "The break statement can be used in both while and for loops.\n"
   ]
  },
  {
   "cell_type": "code",
   "execution_count": 5,
   "metadata": {},
   "outputs": [
    {
     "name": "stdout",
     "output_type": "stream",
     "text": [
      "Hello 0\n",
      "Hello 1\n",
      "Hello 2\n"
     ]
    }
   ],
   "source": [
    "for i in range(5):               # If you notice the output properly break statement breaks the execution and do not  \n",
    "    if i==3:                     # proceed futher\n",
    "        break                 \n",
    "    print('Hello',i)"
   ]
  },
  {
   "cell_type": "markdown",
   "metadata": {},
   "source": [
    "**Break statement with For Loop**"
   ]
  },
  {
   "cell_type": "code",
   "execution_count": 1,
   "metadata": {},
   "outputs": [
    {
     "name": "stdout",
     "output_type": "stream",
     "text": [
      "Current Letter : P\n",
      "Current Letter : y\n",
      "Current Letter : t\n"
     ]
    }
   ],
   "source": [
    "for letter in 'Python':                               # First Example\n",
    "    if letter == 'h':\n",
    "        break\n",
    "    print('Current Letter :', letter)"
   ]
  },
  {
   "cell_type": "markdown",
   "metadata": {},
   "source": [
    "**Break statement with While Loop**  "
   ]
  },
  {
   "cell_type": "code",
   "execution_count": 7,
   "metadata": {},
   "outputs": [
    {
     "name": "stdout",
     "output_type": "stream",
     "text": [
      "Current variable value : 10\n",
      "Current variable value : 9\n",
      "Current variable value : 8\n",
      "Current variable value : 7\n",
      "Current variable value : 6\n",
      "Good bye!\n"
     ]
    }
   ],
   "source": [
    "var = 10                                             # Second Example\n",
    "while var > 0:              \n",
    "   print('Current variable value :', var)\n",
    "   var = var -1\n",
    "   if var == 5:\n",
    "      break\n",
    "print(\"Good bye!\")"
   ]
  },
  {
   "cell_type": "markdown",
   "metadata": {},
   "source": [
    "**Example of Break Statement**"
   ]
  },
  {
   "cell_type": "code",
   "execution_count": null,
   "metadata": {},
   "outputs": [],
   "source": [
    "av=5                                      # Here av is a variable denoting available candies in the candy machine i.e 5\n",
    "\n",
    "x=int(input(\"How may Candies you want :\"))  # Here machine is expecting user to enter how many candies he want\n",
    "\n",
    "i=1                                       # here we have used while loop,we can also use for loop depends on our choice\n",
    "while i<=x:                               # we are using if condition because suppose machine have 80 candies and user wants 100\n",
    "                                          # So in this case machine will give available 80 candies,go out of stock and\n",
    "    if i>av:                              #  cancel transaction generating a message sorry for the inconvenience caused\n",
    "        print(\"out of stock\")\n",
    "        break\n",
    "    \n",
    "    print(\"Candy\")\n",
    "    i=i+1                                 # 3 steps of while loop  1-->Initialisation  2-->Condition  3--> Increment/Decrement \n",
    "\n",
    "print(\"Sorry for the Inconvenience caused\")  "
   ]
  },
  {
   "cell_type": "code",
   "execution_count": null,
   "metadata": {},
   "outputs": [],
   "source": []
  },
  {
   "cell_type": "markdown",
   "metadata": {},
   "source": [
    "#                                                        CONTINUE \n",
    "\n",
    "The continue statement rejects all the remaining statements in the current iteration of the loop and moves the control back\n",
    "to the top of the loop.\n",
    "\n",
    "The continue statement can be used in both while and for loops.\n",
    "\n",
    "In simple term continue statement skips the condition that we have mentioned above it.\n"
   ]
  },
  {
   "cell_type": "code",
   "execution_count": 1,
   "metadata": {},
   "outputs": [
    {
     "name": "stdout",
     "output_type": "stream",
     "text": [
      "Hello 0\n",
      "Hello 1\n",
      "Hello 2\n",
      "Hello 4\n"
     ]
    }
   ],
   "source": [
    "for i in range(5):               # If you notice the output properly continue statement has skipped 3  \n",
    "    if i==3:                     # In simple term continue statement skips the condition that we have mentioned above it \n",
    "        continue                 # and continue with its futher execution i.e print 4 and so on... \n",
    "    print('Hello',i)    "
   ]
  },
  {
   "cell_type": "markdown",
   "metadata": {},
   "source": [
    "**Continue Statement with For Loop**"
   ]
  },
  {
   "cell_type": "code",
   "execution_count": 2,
   "metadata": {},
   "outputs": [
    {
     "name": "stdout",
     "output_type": "stream",
     "text": [
      "Current Letter : P\n",
      "Current Letter : y\n",
      "Current Letter : t\n",
      "Current Letter : o\n",
      "Current Letter : n\n"
     ]
    }
   ],
   "source": [
    "for letter in 'Python':                                # First Example\n",
    "    if letter == 'h':\n",
    "        continue\n",
    "    print ('Current Letter :', letter)"
   ]
  },
  {
   "cell_type": "markdown",
   "metadata": {},
   "source": [
    "**Continue Statement with While Loop**"
   ]
  },
  {
   "cell_type": "code",
   "execution_count": 6,
   "metadata": {},
   "outputs": [
    {
     "name": "stdout",
     "output_type": "stream",
     "text": [
      "Current variable value is : 9\n",
      "Current variable value is : 8\n",
      "Current variable value is : 7\n",
      "Current variable value is : 6\n",
      "Current variable value is : 4\n",
      "Current variable value is : 3\n",
      "Current variable value is : 2\n",
      "Current variable value is : 1\n",
      "Current variable value is : 0\n",
      "Good bye!\n"
     ]
    }
   ],
   "source": [
    "var = 10                                               # Initialization / counter Statement\n",
    "while var > 0:                                         # Condition \n",
    "   var = var -1                                        # Increment / Decrement\n",
    "   if var == 5:                      \n",
    "        continue\n",
    "   print('Current variable value is :', var)\n",
    "\n",
    "print(\"Good bye!\")"
   ]
  },
  {
   "cell_type": "markdown",
   "metadata": {},
   "source": [
    "**Example of Continue Statement**"
   ]
  },
  {
   "cell_type": "code",
   "execution_count": 7,
   "metadata": {},
   "outputs": [
    {
     "name": "stdout",
     "output_type": "stream",
     "text": [
      "1\n",
      "2\n",
      "4\n",
      "5\n",
      "7\n",
      "8\n",
      "10\n",
      "11\n",
      "13\n",
      "14\n",
      "16\n",
      "17\n",
      "19\n",
      "20\n",
      "22\n",
      "23\n",
      "25\n",
      "26\n",
      "28\n",
      "29\n",
      "31\n",
      "32\n",
      "34\n",
      "35\n",
      "37\n",
      "38\n",
      "40\n",
      "41\n",
      "43\n",
      "44\n",
      "46\n",
      "47\n",
      "49\n",
      "50\n",
      "52\n",
      "53\n",
      "55\n",
      "56\n",
      "58\n",
      "59\n",
      "61\n",
      "62\n",
      "64\n",
      "65\n",
      "67\n",
      "68\n",
      "70\n",
      "71\n",
      "73\n",
      "74\n",
      "76\n",
      "77\n",
      "79\n",
      "80\n",
      "82\n",
      "83\n",
      "85\n",
      "86\n",
      "88\n",
      "89\n",
      "91\n",
      "92\n",
      "94\n",
      "95\n",
      "97\n",
      "98\n",
      "100\n",
      "Bye\n"
     ]
    }
   ],
   "source": [
    "# Suppose we want to print the values from 1 to 100 but not print the values which is divisible by 3 \n",
    "# Here we have taken for loop,we can also take while depends on our choice\n",
    "\n",
    "for i in range(1,101):\n",
    "    \n",
    "    if i%3==0:                  # If my i value when divided by 3 gives remainder 0 do not print that value but continue with\n",
    "        continue                # the loop\n",
    "    print(i)                    # Continue statement helps us to not jump out of the loop but only skip the condition met \n",
    "                                # statement  \n",
    "    \n",
    "print(\"Bye\")    "
   ]
  },
  {
   "cell_type": "code",
   "execution_count": 8,
   "metadata": {},
   "outputs": [
    {
     "name": "stdout",
     "output_type": "stream",
     "text": [
      "1\n",
      "2\n",
      "4\n",
      "7\n",
      "8\n",
      "11\n",
      "13\n",
      "14\n",
      "16\n",
      "17\n",
      "19\n",
      "22\n",
      "23\n",
      "26\n",
      "28\n",
      "29\n",
      "31\n",
      "32\n",
      "34\n",
      "37\n",
      "38\n",
      "41\n",
      "43\n",
      "44\n",
      "46\n",
      "47\n",
      "49\n",
      "52\n",
      "53\n",
      "56\n",
      "58\n",
      "59\n",
      "61\n",
      "62\n",
      "64\n",
      "67\n",
      "68\n",
      "71\n",
      "73\n",
      "74\n",
      "76\n",
      "77\n",
      "79\n",
      "82\n",
      "83\n",
      "86\n",
      "88\n",
      "89\n",
      "91\n",
      "92\n",
      "94\n",
      "97\n",
      "98\n",
      "bye\n"
     ]
    }
   ],
   "source": [
    "for i in range(1,101):\n",
    "                            # Here we have used or operator \n",
    "    if i%3==0 or i%5==0:    # if divisible by 3 or divisible by 5 do not print the value but continue with the loop\n",
    "        continue\n",
    "    print(i)\n",
    "    \n",
    "print(\"bye\")    "
   ]
  },
  {
   "cell_type": "code",
   "execution_count": 9,
   "metadata": {},
   "outputs": [
    {
     "name": "stdout",
     "output_type": "stream",
     "text": [
      "1\n",
      "2\n",
      "3\n",
      "4\n",
      "5\n",
      "6\n",
      "7\n",
      "8\n",
      "9\n",
      "10\n",
      "11\n",
      "12\n",
      "13\n",
      "14\n",
      "16\n",
      "17\n",
      "18\n",
      "19\n",
      "20\n",
      "21\n",
      "22\n",
      "23\n",
      "24\n",
      "25\n",
      "26\n",
      "27\n",
      "28\n",
      "29\n",
      "31\n",
      "32\n",
      "33\n",
      "34\n",
      "35\n",
      "36\n",
      "37\n",
      "38\n",
      "39\n",
      "40\n",
      "41\n",
      "42\n",
      "43\n",
      "44\n",
      "46\n",
      "47\n",
      "48\n",
      "49\n",
      "50\n",
      "51\n",
      "52\n",
      "53\n",
      "54\n",
      "55\n",
      "56\n",
      "57\n",
      "58\n",
      "59\n",
      "61\n",
      "62\n",
      "63\n",
      "64\n",
      "65\n",
      "66\n",
      "67\n",
      "68\n",
      "69\n",
      "70\n",
      "71\n",
      "72\n",
      "73\n",
      "74\n",
      "76\n",
      "77\n",
      "78\n",
      "79\n",
      "80\n",
      "81\n",
      "82\n",
      "83\n",
      "84\n",
      "85\n",
      "86\n",
      "87\n",
      "88\n",
      "89\n",
      "91\n",
      "92\n",
      "93\n",
      "94\n",
      "95\n",
      "96\n",
      "97\n",
      "98\n",
      "99\n",
      "100\n",
      "bye\n"
     ]
    }
   ],
   "source": [
    "for i in range(1,101):\n",
    "                             # Here we have used and operator\n",
    "    if i%3==0 and i%5==0:    # if i is divisible by 3 and 5 both print i value but continue with the loop\n",
    "        continue\n",
    "    print(i)\n",
    "    \n",
    "print(\"bye\")    "
   ]
  },
  {
   "cell_type": "code",
   "execution_count": null,
   "metadata": {},
   "outputs": [],
   "source": []
  },
  {
   "cell_type": "markdown",
   "metadata": {},
   "source": [
    "#                                             PASS\n",
    "\n",
    "We normally use the pass statement to skip the block\n",
    "\n",
    "Pass statement in Python is used when you do not want any command or code to execute\n",
    "\n",
    "The pass statement is a null operation; nothing happens when it executes.\n",
    "\n",
    "The pass statement is helpful when you have created a code block but it is no longer required.\n",
    "\n",
    "You can then remove the statements inside the block but let the block remain with a pass statement so that it doesn't\n",
    "interfere with other parts of the code."
   ]
  },
  {
   "cell_type": "code",
   "execution_count": null,
   "metadata": {},
   "outputs": [],
   "source": [
    "for i in range(5):               # pass statement is used when we have mentioned a condition but do not know what to write\n",
    "    if i==3:                     # in block we simply mention pass statement \n",
    "        pass                     # notice the output,pass has not considered our condition and have printed all range values\n",
    "    print('Hello',i)             "
   ]
  },
  {
   "cell_type": "markdown",
   "metadata": {},
   "source": [
    "**Pass statement with For Loop**"
   ]
  },
  {
   "cell_type": "code",
   "execution_count": null,
   "metadata": {},
   "outputs": [],
   "source": [
    "for letter in 'Python': \n",
    "   if letter == 'h':\n",
    "      pass\n",
    "      print('This is pass block')\n",
    "   print('Current Letter', letter)\n",
    "\n",
    "print(\"Good bye!\")"
   ]
  },
  {
   "cell_type": "markdown",
   "metadata": {},
   "source": [
    "**Example of Pass Statement**"
   ]
  },
  {
   "cell_type": "code",
   "execution_count": 10,
   "metadata": {},
   "outputs": [
    {
     "name": "stdout",
     "output_type": "stream",
     "text": [
      "1\n",
      "2\n",
      "3\n",
      "4\n",
      "5\n",
      "6\n",
      "7\n",
      "8\n",
      "9\n",
      "10\n",
      "11\n",
      "12\n",
      "13\n",
      "14\n",
      "15\n",
      "16\n",
      "17\n",
      "18\n",
      "19\n",
      "20\n",
      "21\n",
      "22\n",
      "23\n",
      "24\n",
      "25\n",
      "26\n",
      "27\n",
      "28\n",
      "29\n",
      "30\n",
      "31\n",
      "32\n",
      "33\n",
      "34\n",
      "35\n",
      "36\n",
      "37\n",
      "38\n",
      "39\n",
      "40\n",
      "41\n",
      "42\n",
      "43\n",
      "44\n",
      "45\n",
      "46\n",
      "47\n",
      "48\n",
      "49\n",
      "50\n",
      "51\n",
      "52\n",
      "53\n",
      "54\n",
      "55\n",
      "56\n",
      "57\n",
      "58\n",
      "59\n",
      "60\n",
      "61\n",
      "62\n",
      "63\n",
      "64\n",
      "65\n",
      "66\n",
      "67\n",
      "68\n",
      "69\n",
      "70\n",
      "71\n",
      "72\n",
      "73\n",
      "74\n",
      "75\n",
      "76\n",
      "77\n",
      "78\n",
      "79\n",
      "80\n",
      "81\n",
      "82\n",
      "83\n",
      "84\n",
      "85\n",
      "86\n",
      "87\n",
      "88\n",
      "89\n",
      "90\n",
      "91\n",
      "92\n",
      "93\n",
      "94\n",
      "95\n",
      "96\n",
      "97\n",
      "98\n",
      "99\n",
      "100\n",
      "Bye\n"
     ]
    }
   ],
   "source": [
    "# Suppose we want to print all number from 1 to 100 except odd numbers\n",
    "# So our condition here is do not print odd numbers\n",
    "\n",
    "for i in range(1,101):\n",
    "    if i%2!=0:\n",
    "        pass                         # pass simply means if there is no code ignore it \n",
    "                                     \n",
    "    print(i)\n",
    "    \n",
    "print(\"Bye\")    "
   ]
  },
  {
   "cell_type": "code",
   "execution_count": 11,
   "metadata": {},
   "outputs": [
    {
     "name": "stdout",
     "output_type": "stream",
     "text": [
      "The letter is: P\n",
      "The letter is: y\n",
      "The letter is: t\n",
      "The letter is: h\n",
      "The letter is: o\n",
      "The letter is: n\n"
     ]
    }
   ],
   "source": [
    "for letter in 'Python':\n",
    "    if (letter == \"h\"):\n",
    "        pass\n",
    "    print(\"The letter is:\",letter)"
   ]
  },
  {
   "cell_type": "code",
   "execution_count": null,
   "metadata": {},
   "outputs": [],
   "source": []
  }
 ],
 "metadata": {
  "kernelspec": {
   "display_name": "Python 3",
   "language": "python",
   "name": "python3"
  },
  "language_info": {
   "codemirror_mode": {
    "name": "ipython",
    "version": 3
   },
   "file_extension": ".py",
   "mimetype": "text/x-python",
   "name": "python",
   "nbconvert_exporter": "python",
   "pygments_lexer": "ipython3",
   "version": "3.7.3"
  }
 },
 "nbformat": 4,
 "nbformat_minor": 2
}
