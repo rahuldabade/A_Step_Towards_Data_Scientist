{
 "cells": [
  {
   "cell_type": "markdown",
   "metadata": {},
   "source": [
    "#                                            STRING"
   ]
  },
  {
   "cell_type": "markdown",
   "metadata": {},
   "source": [
    "String ---> Contiguous set of characters represented in the quotation marks.\n",
    "\n",
    "Python allows single or double quotes.\n",
    "\n",
    "Subsets of strings can be taken using slice operator ([ ] and [:] ) with indexes starting at 0 in the beginning of the string\n",
    "and working their way from -1 at the end.\n",
    "\n",
    "Python treats single quotes the same as double quotes.\n",
    "\n",
    "Creating strings is as simple as assigning a value to a variable. \n",
    "\n",
    "Plus (+) sign is the string concatenation operator and Asterisk (*) is the repetition operator.\n"
   ]
  },
  {
   "cell_type": "code",
   "execution_count": 1,
   "metadata": {},
   "outputs": [
    {
     "name": "stdout",
     "output_type": "stream",
     "text": [
      "Hello World!\n",
      "H\n",
      "llo\n",
      "llo World!\n",
      "Hello World!Hello World!\n",
      "Hello World!TEST\n"
     ]
    }
   ],
   "source": [
    "str = 'Hello World!'\n",
    "\n",
    "print(str)                               # Prints complete string\n",
    "print(str[0])                            # Prints first character of the string\n",
    "print(str[2:5])                          # Prints characters starting from 3rd to 5th\n",
    "print(str[2:])                           # Prints string starting from 3rd character\n",
    "print(str * 2)                           # Prints string two times (repition operator)\n",
    "print(str + \"TEST\")                      # Prints concatenated string (concatenation operator)"
   ]
  },
  {
   "cell_type": "code",
   "execution_count": null,
   "metadata": {},
   "outputs": [],
   "source": [
    "# STRING (COMBINATION OF CHARACTER)\n",
    "\n",
    "'rahul'    #  ---> strings always has to be written in single quote ' ' or double quote \" \"\n",
    "\"rahul\""
   ]
  },
  {
   "cell_type": "code",
   "execution_count": null,
   "metadata": {},
   "outputs": [],
   "source": [
    "#WE CANNOT SIMPLY HAVE SINGLE QUOTE ANYWHERE\n",
    "\n",
    "print('rahul's laptop')    # invalid syntax --->see the opening and closing of a string quote;\n",
    "                           # 'rahul' is 1 string but s laptop' is not part of that string\n",
    "                           # To solve these problem instead of using single quote use double quote \n",
    "      "
   ]
  },
  {
   "cell_type": "code",
   "execution_count": null,
   "metadata": {},
   "outputs": [],
   "source": [
    "print(\"rahul's laptop\")   #-----> problem is solved\n"
   ]
  },
  {
   "cell_type": "code",
   "execution_count": 2,
   "metadata": {},
   "outputs": [
    {
     "name": "stdout",
     "output_type": "stream",
     "text": [
      "rahul \"laptop\"\n",
      "rahul 'laptop'\n"
     ]
    }
   ],
   "source": [
    "#ALWAYS MAKE SURE THAT THE STRING PART SHOULD BE DIFFERENT FROM THE PART INSIDE\n",
    "\n",
    "print('rahul \"laptop\"')  #---> when you want the output to be in double quote\n",
    "print(\"rahul 'laptop'\")  #---> when you want the output to be in single quote"
   ]
  },
  {
   "cell_type": "code",
   "execution_count": null,
   "metadata": {},
   "outputs": [],
   "source": [
    "# SOME CASES WHEN YOU FACE PROBLEM WITH THE STRING\n",
    "\n",
    "print('rahul's \"laptop\"')   #---> invalid syntax --> here 'rahul's--> s is creating trouble\n",
    "                            #---> to solve these problem      \n",
    "      "
   ]
  },
  {
   "cell_type": "code",
   "execution_count": null,
   "metadata": {},
   "outputs": [],
   "source": [
    "print('rahul\\'s \"laptop\"')   #  ---> to ignore the special meaning of that single quote back slash \\ is used"
   ]
  },
  {
   "cell_type": "code",
   "execution_count": null,
   "metadata": {},
   "outputs": [],
   "source": [
    "#TO CONCATENATE 2 STRINGS\n",
    "\n",
    "'rahul'+'rahul'  #---> addition symbol has concatenated 2 string\n",
    "'rahul''rahul'   #---> this will also give a same output"
   ]
  },
  {
   "cell_type": "code",
   "execution_count": null,
   "metadata": {},
   "outputs": [],
   "source": [
    "#TO PRINT 'rahul' 10 TIMES\n",
    "\n",
    "10*'rahul'  # ---> multiply rahul string by 10"
   ]
  },
  {
   "cell_type": "code",
   "execution_count": 3,
   "metadata": {},
   "outputs": [
    {
     "name": "stdout",
     "output_type": "stream",
     "text": [
      "c:\\docs\\abhi\n"
     ]
    }
   ],
   "source": [
    "#RAW STRING  ---> PRINT THE STRING AS IT IS WITHOUT GETTING ON THE NEW LINE\n",
    "\n",
    "print(r'c:\\docs\\abhi')  # here r means raw string therefore prints the string as it is\n",
    "                        # \\ means line continuation character"
   ]
  },
  {
   "cell_type": "code",
   "execution_count": 6,
   "metadata": {},
   "outputs": [
    {
     "name": "stdout",
     "output_type": "stream",
     "text": [
      "c:\\docs\n",
      "utan\n"
     ]
    }
   ],
   "source": [
    "# \\n HAS A SPECIAL MEANING IN PYTHON IT MEANS A NEW LINE\n",
    "\n",
    "print('c:\\docs\\nutan')      # here line continuation character \\ and new line \\n both are mentioned \n",
    "                            # ---> it is printing c:\\docs on 1 line and utan instead of nutan on 2nd line \n",
    "                            # ---> it has taken \\n of \\nutan as a new line and printed utan\n",
    "                            # ---> To solve these problem we use raw string\n"
   ]
  },
  {
   "cell_type": "code",
   "execution_count": null,
   "metadata": {},
   "outputs": [],
   "source": [
    "#FUNCTION (CERTAIN INBUILT TASK IN PYTHON OR ANY OTHER PROGRAMMING LANGUAGE)\n",
    "\n",
    "print('sonam') #  ---> print is an in-built function in python\n",
    "               #  ---> round bracket is given to a function to pass any parameter\n",
    "               #  ---> just see the difference between earlier string 'rahul' and print function('sonam')---> output \n",
    "               #  ---> earlier string is giving output in single quote ' ' but in print function('sonam') there is no quote"
   ]
  },
  {
   "cell_type": "markdown",
   "metadata": {},
   "source": [
    "# Accessing Values in Strings\n",
    "\n",
    "Python does not support a character type; these are treated as strings of length one, it is also considered as substring.\n",
    "\n",
    "To access substrings,use square brackets for slicing along with the index or indices to obtain your substring"
   ]
  },
  {
   "cell_type": "code",
   "execution_count": null,
   "metadata": {},
   "outputs": [],
   "source": [
    "var1 = 'Hello World!'\n",
    "var2 = \"Python Programming\"\n",
    "\n",
    "print \"var1[0]: \", var1[0]\n",
    "print \"var2[1:5]: \", var2[1:5]"
   ]
  },
  {
   "cell_type": "markdown",
   "metadata": {},
   "source": [
    "# Updating Strings\n",
    "\n",
    "We can \"update\" an existing string by re-assigning a variable to another string.\n",
    "\n",
    "The new value can be related to its previous value or to a completely different string altogether"
   ]
  },
  {
   "cell_type": "code",
   "execution_count": 31,
   "metadata": {},
   "outputs": [
    {
     "name": "stdout",
     "output_type": "stream",
     "text": [
      "Updated String :  Hello Python\n"
     ]
    }
   ],
   "source": [
    "var1 = 'Hello World!'\n",
    "print(\"Updated String : \", var1[:6] + 'Python')"
   ]
  },
  {
   "cell_type": "markdown",
   "metadata": {},
   "source": [
    "# Escape Characters\n",
    "\n",
    "Below table displays list of escape or non-printable characters that can be represented with backslash notation.\n",
    "\n",
    "An escape character is interpreted in single quote as well as double quoted strings."
   ]
  },
  {
   "cell_type": "raw",
   "metadata": {},
   "source": [
    "Backslash notation                         Hexadecimal character                                  Description\n",
    "\n",
    "\\a                                                   0x07                                         Bell or alert\n",
    "\n",
    "\\b                                                   0x08                                         Backspace\n",
    "\n",
    "\\cx                                                                                               Control-x\n",
    "\n",
    "\\C-x                                                                                              Control-x\n",
    "\n",
    "\\e                                                   0x1b                                         Escape\n",
    "\n",
    "\\f                                                   0x0c                                         Formfeed\n",
    "\n",
    "\\M-\\C-x                                                                                           Meta-Control-x\n",
    "\n",
    "\\n                                                   0x0a                                         Newline\n",
    "\n",
    "\\nnn                                                                              Octal notation, where n is in the range 0.7\n",
    "\n",
    "\\r                                                   0x0d                                         Carriage return\n",
    "\n",
    "\\s                                                   0x20                                         Space\n",
    "\n",
    "\\t                                                   0x09                                         Tab\n",
    "\n",
    "\\v                                                   0x0b                                         Vertical tab\n",
    "\n",
    "\\x                                                                                                Character x\n",
    "\n",
    "\\xnn                                                             Hexadecimal notation, where n is in the range 0.9, a.f, or A.F\n"
   ]
  },
  {
   "cell_type": "markdown",
   "metadata": {},
   "source": [
    "# String Special Operators\n",
    "\n",
    "Assume string variable a holds 'Hello' and variable b holds 'Python'."
   ]
  },
  {
   "cell_type": "code",
   "execution_count": 32,
   "metadata": {},
   "outputs": [],
   "source": [
    "a = 'Hello' ; b = \"Python\" "
   ]
  },
  {
   "cell_type": "code",
   "execution_count": 33,
   "metadata": {},
   "outputs": [
    {
     "data": {
      "text/plain": [
       "'HelloPython'"
      ]
     },
     "execution_count": 33,
     "metadata": {},
     "output_type": "execute_result"
    }
   ],
   "source": [
    "a + b                          # Concatenation (+) - Adds values on either side of the operator                "
   ]
  },
  {
   "cell_type": "code",
   "execution_count": 34,
   "metadata": {},
   "outputs": [
    {
     "data": {
      "text/plain": [
       "'HelloHello'"
      ]
     },
     "execution_count": 34,
     "metadata": {},
     "output_type": "execute_result"
    }
   ],
   "source": [
    "a * 2                          # Repetition (*)  - Creates new strings,concatenating multiple copies of the same string"
   ]
  },
  {
   "cell_type": "code",
   "execution_count": 35,
   "metadata": {},
   "outputs": [
    {
     "data": {
      "text/plain": [
       "'l'"
      ]
     },
     "execution_count": 35,
     "metadata": {},
     "output_type": "execute_result"
    }
   ],
   "source": [
    "a[2]                          # Index []          Gives the character from the given index    "
   ]
  },
  {
   "cell_type": "code",
   "execution_count": 36,
   "metadata": {},
   "outputs": [
    {
     "data": {
      "text/plain": [
       "'yth'"
      ]
     },
     "execution_count": 36,
     "metadata": {},
     "output_type": "execute_result"
    }
   ],
   "source": [
    "b[1:4]                        # Range Slice [:]   Gives the characters from the given range"
   ]
  },
  {
   "cell_type": "code",
   "execution_count": 37,
   "metadata": {},
   "outputs": [
    {
     "data": {
      "text/plain": [
       "True"
      ]
     },
     "execution_count": 37,
     "metadata": {},
     "output_type": "execute_result"
    }
   ],
   "source": [
    "\"H\" in a                      # Membership  -  Returns true if a character exists in the given string\n",
    "                              #                \"h\" in a  ---> False (Case Sensitive)"
   ]
  },
  {
   "cell_type": "code",
   "execution_count": 38,
   "metadata": {},
   "outputs": [
    {
     "data": {
      "text/plain": [
       "False"
      ]
     },
     "execution_count": 38,
     "metadata": {},
     "output_type": "execute_result"
    }
   ],
   "source": [
    "\"y\" not in b             # Membership  -  Returns true if a character does not exist in the given string"
   ]
  },
  {
   "cell_type": "code",
   "execution_count": 39,
   "metadata": {},
   "outputs": [
    {
     "name": "stdout",
     "output_type": "stream",
     "text": [
      "c:\\nrahul\n"
     ]
    }
   ],
   "source": [
    "print(r'c:\\nrahul') # Raw String (r/R)  -  Suppresses actual meaning of Escape characters i.e \\n,\\b,\\e etc\n",
    "                    #                      The syntax for raw strings is exactly the same as for normal strings\n",
    "                    # Raw strings do not treat the backslash as a special character at all\n",
    "                    # The letter \"r\" precedes the quotation marks.\n",
    "                    # \"r\" can be lowercase(r) or uppercase(R) and must be placed immediately preceding the first quote mark.\n",
    "                    # print r'\\n' prints \\n and print R'\\n'prints \\n\n",
    "                "
   ]
  },
  {
   "cell_type": "code",
   "execution_count": 40,
   "metadata": {},
   "outputs": [],
   "source": [
    "                   # Format %     -    Performs String formatting"
   ]
  },
  {
   "cell_type": "markdown",
   "metadata": {},
   "source": [
    "# String Formatting Operator\n",
    "\n",
    "One of Python's coolest features is the string format operator %. "
   ]
  },
  {
   "cell_type": "code",
   "execution_count": 42,
   "metadata": {},
   "outputs": [
    {
     "ename": "SyntaxError",
     "evalue": "invalid syntax (<ipython-input-42-b4cff7099fad>, line 1)",
     "output_type": "error",
     "traceback": [
      "\u001b[1;36m  File \u001b[1;32m\"<ipython-input-42-b4cff7099fad>\"\u001b[1;36m, line \u001b[1;32m1\u001b[0m\n\u001b[1;33m    print(\"My name is\" %s and \"weight is\" %d \"kg!\") % ('Zara', 21)\u001b[0m\n\u001b[1;37m                                                 ^\u001b[0m\n\u001b[1;31mSyntaxError\u001b[0m\u001b[1;31m:\u001b[0m invalid syntax\n"
     ]
    }
   ],
   "source": [
    "print(\"My name is %s and weight is %d kg!\") % ('Zara', 21)"
   ]
  },
  {
   "cell_type": "markdown",
   "metadata": {},
   "source": [
    "**list of complete set of symbols which can be used along with %**"
   ]
  },
  {
   "cell_type": "code",
   "execution_count": null,
   "metadata": {},
   "outputs": [],
   "source": [
    "%c                                     # character\n",
    "\n",
    "%s                                     # string conversion via str() prior to formatting\n",
    "\n",
    "%i                                     # signed decimal integer\n",
    "\n",
    "%d                                     # signed decimal integer\n",
    "\n",
    "%u                                     # unsigned decimal integer\n",
    "\n",
    "%o                                     # octal integer\n",
    "\n",
    "%x                                     # hexadecimal integer (lowercase letters)\n",
    "\n",
    "%X                                     # hexadecimal integer (UPPERcase letters)\n",
    "\n",
    "%e                                     # exponential notation (with lowercase 'e')\n",
    "\n",
    "%E                                     # exponential notation (with UPPERcase 'E')\n",
    "\n",
    "%f                                     # floating point real number\n",
    "\n",
    "%g                                     # the shorter of %f and %e\n",
    "\n",
    "%G                                     # the shorter of %f and %E"
   ]
  },
  {
   "cell_type": "markdown",
   "metadata": {},
   "source": [
    "**Other supported symbols and functionality**"
   ]
  },
  {
   "cell_type": "code",
   "execution_count": null,
   "metadata": {},
   "outputs": [],
   "source": [
    "*                                      # argument specifies width or precision\n",
    "\n",
    "-                                      # left justification\n",
    "\n",
    "+                                      # display the sign\n",
    "\n",
    "<sp>                                   # leave a blank space before a positive number\n",
    "\n",
    "                                       # add the octal leading zero ( '0' ) or hexadecimal leading '0x' or '0X',depending on\n",
    "                                       # whether 'x' or 'X' were used.\n",
    "\n",
    "0                                      # pad from left with zeros (instead of spaces)\n",
    "\n",
    "%                                      # '%%' leaves you with a single literal '%'\n",
    "\n",
    "(var)                                  # mapping variable (dictionary arguments)\n",
    "\n",
    "m.n.                                   # m is the minimum total width and n is the number of digits to display after\n",
    "                                       # the decimal point (if appl.)"
   ]
  },
  {
   "cell_type": "markdown",
   "metadata": {},
   "source": [
    "# Triple Quotes\n",
    "\n",
    "Python's triple quotes comes to the rescue by allowing strings to span multiple lines,including verbatim NEWLINEs,\n",
    "TABs and any other special characters."
   ]
  },
  {
   "cell_type": "code",
   "execution_count": 44,
   "metadata": {},
   "outputs": [
    {
     "name": "stdout",
     "output_type": "stream",
     "text": [
      "this is a long string that is made up of\n",
      "several lines and non-printable characters such as\n",
      "TAB ( \t ) and they will show up that way when displayed.\n",
      "NEWLINEs within the string, whether explicitly given like\n",
      "this within the brackets [ \n",
      " ], or just a NEWLINE within\n",
      "the variable assignment will also show up.\n",
      "\n"
     ]
    }
   ],
   "source": [
    "para_str = \"\"\"this is a long string that is made up of\n",
    "several lines and non-printable characters such as\n",
    "TAB ( \\t ) and they will show up that way when displayed.\n",
    "NEWLINEs within the string, whether explicitly given like\n",
    "this within the brackets [ \\n ], or just a NEWLINE within\n",
    "the variable assignment will also show up.\n",
    "\"\"\"\n",
    "print(para_str)"
   ]
  },
  {
   "cell_type": "markdown",
   "metadata": {},
   "source": [
    "# Raw String\n",
    "\n",
    "Raw strings do not treat the backslash as a special character at all. \n",
    "Every character you put into a raw string stays the way you wrote it "
   ]
  },
  {
   "cell_type": "code",
   "execution_count": 47,
   "metadata": {},
   "outputs": [
    {
     "name": "stdout",
     "output_type": "stream",
     "text": [
      "C:\\nowhere\n"
     ]
    }
   ],
   "source": [
    "print('C:\\\\nowhere')"
   ]
  },
  {
   "cell_type": "code",
   "execution_count": 46,
   "metadata": {},
   "outputs": [
    {
     "name": "stdout",
     "output_type": "stream",
     "text": [
      "C:\\\\nowhere\n"
     ]
    }
   ],
   "source": [
    "# Now let's make use of raw string.We would put expression in r'expression' as follows −\n",
    "\n",
    "print(R'C:\\\\nowhere')               # We can even write capital R to denote raw string"
   ]
  },
  {
   "cell_type": "markdown",
   "metadata": {},
   "source": [
    "# Unicode String\n",
    "\n",
    "Normal strings in Python are stored internally as 8-bit ASCII, while Unicode strings are stored as 16-bit Unicode.\n",
    "\n",
    "This allows for a more varied set of characters,including special characters from most languages in the world.\n",
    "\n",
    "Unicode strings use the prefix u, just as raw strings use the prefix r."
   ]
  },
  {
   "cell_type": "code",
   "execution_count": 48,
   "metadata": {},
   "outputs": [
    {
     "name": "stdout",
     "output_type": "stream",
     "text": [
      "Hello, world!\n"
     ]
    }
   ],
   "source": [
    "print(u'Hello, world!')"
   ]
  },
  {
   "cell_type": "markdown",
   "metadata": {},
   "source": [
    "# Built-in String Methods\n",
    "\n",
    "**Python includes the following built-in methods to manipulate strings**"
   ]
  },
  {
   "cell_type": "code",
   "execution_count": null,
   "metadata": {},
   "outputs": [],
   "source": [
    "capitalize()                             # Capitalizes first letter of string\n",
    "\n",
    "center(width, fillchar)                  # Returns a space-padded string with original string centered to total of width columns.\n",
    "\n",
    "count(str, beg= 0,end=len(string))       # Counts how many times str occurs in string or in a substring of string if \n",
    "                                         # starting index beg and ending index end are given.\n",
    "\n",
    "decode(encoding='UTF-8',errors='strict') # Decodes the string using the codec registered for encoding.\n",
    "                                         # Encoding defaults to the default string encoding.\n",
    "\n",
    "\n",
    "encode(encoding='UTF-8',errors='strict') # Returns encoded string version of string;on error, default is to raise a ValueError\n",
    "                                         # unless errors is given with 'ignore' or 'replace'. \n",
    "                                   \n",
    "endswith(suffix, beg=0, end=len(string)) # Determines if string or a substring of string\n",
    "                                         # (if starting index beg and ending index end are given) ends with suffix;\n",
    "                                         # returns true if so and false otherwise.\n",
    "\n",
    "expandtabs(tabsize=8)                    # Expands tabs in string to multiple spaces;\n",
    "                                         # defaults to 8 spaces per tab if tabsize not provided.\n",
    "\n",
    "find(str, beg=0 end=len(string))         # Determine if str occurs in string or in a substring of string\n",
    "                                         # if starting index beg and ending index end are given\n",
    "                                         # returns index if found and -1 otherwise.\n",
    "\n",
    "index(str, beg=0, end=len(string))       # Same as find(), but raises an exception if str not found.\n",
    "\n",
    "\n",
    "isalnum()                                # Returns true if string has at least 1 character and all characters are alphanumeric\n",
    "                                         # and false otherwise.\n",
    "\n",
    "isalpha()                                # Returns true if string has at least 1 character and all characters are alphabetic\n",
    "                                         # and false otherwise.\n",
    "\n",
    "isdigit()                                # Returns true if string contains only digits and false otherwise.\n",
    "\n",
    "islower()                                # Returns true if string has at least 1 cased character and all cased characters are\n",
    "                                         # in lowercase and false otherwise.\n",
    "\n",
    "isnumeric()                              # Returns true if a unicode string contains only numeric characters and false otherwise\n",
    "\n",
    "isspace()                                # Returns true if string contains only whitespace characters and false otherwise.\n",
    "\n",
    "istitle()                                # Returns true if string is properly \"titlecased\" and false otherwise.\n",
    "\n",
    "isupper()                                # Returns true if string has at least one cased character and all cased characters are\n",
    "                                         # in uppercase and false otherwise.\n",
    "\n",
    "join(seq)                                # Merges (concatenates) the string representations of elements in sequence seq into a\n",
    "                                         # string, with separator string.\n",
    "\n",
    "len(string)                              # Returns the length of the string\n",
    "\n",
    "ljust(width[, fillchar])                 # Returns a space-padded string with the original string left-justified to a total\n",
    "                                         # of width columns.\n",
    "\n",
    "lower()                                  # Converts all uppercase letters in string to lowercase.\n",
    "\n",
    "lstrip()                                 # Removes all leading whitespace in string.\n",
    "\n",
    "maketrans()                              # Returns a translation table to be used in translate function.\n",
    "\n",
    "max(str)                                 # Returns the max alphabetical character from the string str.\n",
    "\n",
    "min(str)                                 # Returns the min alphabetical character from the string str.\n",
    "\n",
    "replace(old, new [, max])                # Replaces all old occurrences in string with new or atmost max occurrences if max given.\n",
    "\n",
    "rfind(str, beg=0,end=len(string))        # Same as find(), but search backwards in string.\n",
    "\n",
    "rindex( str, beg=0, end=len(string))     # Same as index(), but search backwards in string.\n",
    "\n",
    "rjust(width,[, fillchar])                # Returns a space-padded string with the original string right-justified to a total\n",
    "                                         # of width columns.\n",
    "\n",
    "rstrip()                                 # Removes all trailing whitespace of string.\n",
    "\n",
    "split(str=\"\", num=string.count(str))     # Splits string according to delimiter str (space if not provided) and returns\n",
    "                                         # list of substrings;\n",
    "                                         # split into at most num substrings if given.\n",
    "\n",
    "splitlines( num=string.count('\\n'))    # Splits string at all(or num) NEWLINEs & returns list of each line with NEWLINEs removed\n",
    "\n",
    "startswith(str, beg=0,end=len(string))   # Determines if string or a substring of string\n",
    "                                         # (if starting index beg and ending index end are given)starts with substring str\n",
    "                                         # returns true if so and false otherwise.\n",
    "\n",
    "strip([chars])                           # Performs both lstrip() and rstrip() on string.\n",
    "\n",
    "swapcase()                               # Inverts case for all letters in string.\n",
    "\n",
    "title()                                  # Returns \"titlecased\" version of string,i.e all words begin with uppercase and \n",
    "                                         # rest are lowercase.\n",
    "\n",
    "translate(table, deletechars=\"\")         # Translates string according to translation table str(256 chars),\n",
    "                                         # removing those in the del string.\n",
    "\n",
    "upper()                                  # Converts lowercase letters in string to uppercase.\n",
    "\n",
    "zfill (width)                            # Returns original string leftpadded with zeros to a total of width characters;\n",
    "                                         # intended for numbers,\n",
    "                                         # zfill() retains any sign given (less one zero).\n",
    "\n",
    "isdecimal()                              # Returns true if a unicode string contains only decimal characters and false otherwise\n"
   ]
  },
  {
   "cell_type": "code",
   "execution_count": null,
   "metadata": {},
   "outputs": [],
   "source": []
  },
  {
   "cell_type": "markdown",
   "metadata": {},
   "source": [
    "#     ---------------------------     CODES FROM IMARTICUS    ----------------------------------------"
   ]
  },
  {
   "cell_type": "markdown",
   "metadata": {},
   "source": [
    "#                                    QUOTATION IN PYTHON\n",
    "\n",
    "**Python accepts single ('), double (\") and triple (''' or \"\"\") quotes to denote string**"
   ]
  },
  {
   "cell_type": "code",
   "execution_count": 51,
   "metadata": {},
   "outputs": [
    {
     "data": {
      "text/plain": [
       "'This is also a\\nperfect example of\\nmulti-line comments'"
      ]
     },
     "execution_count": 51,
     "metadata": {},
     "output_type": "execute_result"
    }
   ],
   "source": [
    "# This is a long comment and it extends to multiple lines\n",
    "# Triple quotes are used to extend the string across multiple lines\n",
    "\n",
    "\"\"\"This is also a\n",
    "perfect example of\n",
    "multi-line comments\"\"\""
   ]
  },
  {
   "cell_type": "code",
   "execution_count": 49,
   "metadata": {},
   "outputs": [
    {
     "data": {
      "text/plain": [
       "' this is a multiline               \\ncomment'"
      ]
     },
     "execution_count": 49,
     "metadata": {},
     "output_type": "execute_result"
    }
   ],
   "source": [
    "# Triple-quoted string is also ignored by Python interpreter and can be used as a multiline comments:\n",
    "\n",
    "''' this is a multiline               \n",
    "comment'''\n",
    "\n",
    "# Here in output we see \\n bcoz in input comment word is extended to next line\n",
    "# \\n has a specific meaning in python,it means new line"
   ]
  },
  {
   "cell_type": "code",
   "execution_count": 52,
   "metadata": {},
   "outputs": [
    {
     "name": "stdout",
     "output_type": "stream",
     "text": [
      "Hello world\n"
     ]
    }
   ],
   "source": [
    "# single line strings\n",
    "\n",
    "my_string = 'Hello world'                              \n",
    "print(my_string)"
   ]
  },
  {
   "cell_type": "code",
   "execution_count": 53,
   "metadata": {},
   "outputs": [
    {
     "data": {
      "text/plain": [
       "'                                                    \\nthis is                                            \\na comment'"
      ]
     },
     "execution_count": 53,
     "metadata": {},
     "output_type": "execute_result"
    }
   ],
   "source": [
    "# multi line strings \n",
    "\n",
    "\"\"\"                                                    \n",
    "this is                                            \n",
    "a comment\"\"\""
   ]
  },
  {
   "cell_type": "code",
   "execution_count": 55,
   "metadata": {},
   "outputs": [
    {
     "name": "stdout",
     "output_type": "stream",
     "text": [
      "Python is a programming language.\n",
      "Python is interesting.\n",
      "this is it.\n"
     ]
    }
   ],
   "source": [
    "my_string = \"\"\"Python is a programming language.\n",
    "Python is interesting.\n",
    "this is it.\"\"\"\n",
    "\n",
    "print(my_string)"
   ]
  },
  {
   "cell_type": "code",
   "execution_count": 56,
   "metadata": {},
   "outputs": [
    {
     "name": "stdout",
     "output_type": "stream",
     "text": [
      "World\n",
      "World World\n",
      "World World World\n"
     ]
    }
   ],
   "source": [
    "x = y = z = \"World\"                  # here variable x y z are assigned similar string value--> \"World\" \n",
    "\n",
    "                                    # notice the output it is printing\n",
    "print(x)                            # passing single variable\n",
    "print(x,y)                          # passing 2 variables          \n",
    "print(x,y,z)                        # passing 3 variables "
   ]
  },
  {
   "cell_type": "code",
   "execution_count": 57,
   "metadata": {},
   "outputs": [
    {
     "name": "stdout",
     "output_type": "stream",
     "text": [
      "Python is a programming language.\n",
      "this is it.\n"
     ]
    }
   ],
   "source": [
    "# \\n means new line\n",
    "\n",
    "my_string = \"Python is a programming language.\\nthis is it.\"\n",
    "print(my_string)"
   ]
  },
  {
   "cell_type": "code",
   "execution_count": 59,
   "metadata": {},
   "outputs": [
    {
     "name": "stdout",
     "output_type": "stream",
     "text": [
      "Value of a=\n",
      " hello\n"
     ]
    }
   ],
   "source": [
    "a = \"hello\"\n",
    "print(\"Value of a=\\n\",a)     # here we have mentioned a string--> \"Value of a=\\n\" and variable a together in print function()\n",
    "                             # here a string \"Value of a=\\n\" is printed as --> Value of a= on 1 line and \n",
    "                             # variable a value is printed on other line bcoz \\n has a special meaning in python\n",
    "                             # \\n means new line so value of variable a is printed below string\n",
    " "
   ]
  },
  {
   "cell_type": "code",
   "execution_count": 63,
   "metadata": {},
   "outputs": [
    {
     "name": "stdout",
     "output_type": "stream",
     "text": [
      "value of b = python\n"
     ]
    }
   ],
   "source": [
    "b = \"python\"\n",
    "print(\"value of b =\",b)       # If we do not mention \\n in the print function,output will be this way \n",
    "                             # it will print the string 1st and then just the value of b variable but both will be together on\n",
    "                             # single line"
   ]
  },
  {
   "cell_type": "code",
   "execution_count": 65,
   "metadata": {},
   "outputs": [
    {
     "name": "stdout",
     "output_type": "stream",
     "text": [
      "hello,python\n"
     ]
    }
   ],
   "source": [
    "print(a,b,sep=\",\")         # The output which we were getting earlier in the above statements were with spaces bcoz\n",
    "                           # arguments in python print() is spaced by default\n",
    "                           # but here we have mentioned separator parameter as comma --> sep=\",\" \n",
    "                           #so the ouput has been separated by comma below"
   ]
  },
  {
   "cell_type": "code",
   "execution_count": 66,
   "metadata": {},
   "outputs": [
    {
     "name": "stdout",
     "output_type": "stream",
     "text": [
      "53.2\n",
      "<class 'str'>\n"
     ]
    }
   ],
   "source": [
    "# What if the numeric values are in string\n",
    "\n",
    "a=\"5\"                    # here variable a and b value is not numeric but string bcoz it is in double quote\n",
    "b=\"3.2\"                   # we can have single quote or double quote as we like \n",
    "print(a+b)                # here the values of variable are added as a string and not number \n",
    "print(type(b))            # class type of variable  is string"
   ]
  },
  {
   "cell_type": "code",
   "execution_count": 68,
   "metadata": {},
   "outputs": [
    {
     "name": "stdout",
     "output_type": "stream",
     "text": [
      "P\n",
      "n\n"
     ]
    }
   ],
   "source": [
    "# Slicing\n",
    "\n",
    "my_string = \"Python is a programming language.Python is interesting.\"\n",
    "print(my_string[0])\n",
    "print(my_string[-3])"
   ]
  },
  {
   "cell_type": "code",
   "execution_count": 70,
   "metadata": {},
   "outputs": [
    {
     "name": "stdout",
     "output_type": "stream",
     "text": [
      "hon is \n",
      "Python is a programming l\n",
      "anguage.Python is interesting.\n",
      "Python is a programming language.Python is interesting.\n"
     ]
    },
    {
     "ename": "IndexError",
     "evalue": "string index out of range",
     "output_type": "error",
     "traceback": [
      "\u001b[1;31m---------------------------------------------------------------------------\u001b[0m",
      "\u001b[1;31mIndexError\u001b[0m                                Traceback (most recent call last)",
      "\u001b[1;32m<ipython-input-70-f81c9770aa7f>\u001b[0m in \u001b[0;36m<module>\u001b[1;34m\u001b[0m\n\u001b[0;32m      5\u001b[0m \u001b[0mprint\u001b[0m\u001b[1;33m(\u001b[0m\u001b[0mmy_string\u001b[0m\u001b[1;33m[\u001b[0m\u001b[1;36m25\u001b[0m\u001b[1;33m:\u001b[0m\u001b[1;33m]\u001b[0m\u001b[1;33m)\u001b[0m\u001b[1;33m\u001b[0m\u001b[1;33m\u001b[0m\u001b[0m\n\u001b[0;32m      6\u001b[0m \u001b[0mprint\u001b[0m\u001b[1;33m(\u001b[0m\u001b[0mmy_string\u001b[0m\u001b[1;33m[\u001b[0m\u001b[1;33m:\u001b[0m\u001b[1;33m]\u001b[0m\u001b[1;33m)\u001b[0m\u001b[1;33m\u001b[0m\u001b[1;33m\u001b[0m\u001b[0m\n\u001b[1;32m----> 7\u001b[1;33m \u001b[0mprint\u001b[0m\u001b[1;33m(\u001b[0m\u001b[0mmy_string\u001b[0m\u001b[1;33m[\u001b[0m\u001b[1;36m100\u001b[0m\u001b[1;33m]\u001b[0m\u001b[1;33m)\u001b[0m\u001b[1;33m\u001b[0m\u001b[1;33m\u001b[0m\u001b[0m\n\u001b[0m",
      "\u001b[1;31mIndexError\u001b[0m: string index out of range"
     ]
    }
   ],
   "source": [
    "#[inclusive:exclusive]\n",
    "\n",
    "print(my_string[3:10]) \n",
    "print(my_string[:25])\n",
    "print(my_string[25:])\n",
    "print(my_string[:])\n",
    "print(my_string[100])"
   ]
  },
  {
   "cell_type": "code",
   "execution_count": null,
   "metadata": {},
   "outputs": [],
   "source": [
    "# String characters cannot be changed\n",
    "\n",
    "my_string[3]='B'                        "
   ]
  },
  {
   "cell_type": "code",
   "execution_count": 73,
   "metadata": {
    "scrolled": false
   },
   "outputs": [
    {
     "ename": "NameError",
     "evalue": "name 'my_string' is not defined",
     "output_type": "error",
     "traceback": [
      "\u001b[1;31m---------------------------------------------------------------------------\u001b[0m",
      "\u001b[1;31mNameError\u001b[0m                                 Traceback (most recent call last)",
      "\u001b[1;32m<ipython-input-73-68c7d9603aff>\u001b[0m in \u001b[0;36m<module>\u001b[1;34m\u001b[0m\n\u001b[0;32m      1\u001b[0m \u001b[1;31m# Deleting string object\u001b[0m\u001b[1;33m\u001b[0m\u001b[1;33m\u001b[0m\u001b[1;33m\u001b[0m\u001b[0m\n\u001b[0;32m      2\u001b[0m \u001b[1;33m\u001b[0m\u001b[0m\n\u001b[1;32m----> 3\u001b[1;33m \u001b[1;32mdel\u001b[0m \u001b[0mmy_string\u001b[0m\u001b[1;33m\u001b[0m\u001b[1;33m\u001b[0m\u001b[0m\n\u001b[0m\u001b[0;32m      4\u001b[0m \u001b[0mprint\u001b[0m\u001b[1;33m(\u001b[0m\u001b[0mmy_string\u001b[0m\u001b[1;33m)\u001b[0m                      \u001b[1;31m# Error called my_string' is not defined\u001b[0m\u001b[1;33m\u001b[0m\u001b[1;33m\u001b[0m\u001b[0m\n",
      "\u001b[1;31mNameError\u001b[0m: name 'my_string' is not defined"
     ]
    }
   ],
   "source": [
    "# Deleting string object\n",
    "\n",
    "del my_string\n",
    "print(my_string)                      # Error called my_string' is not defined"
   ]
  },
  {
   "cell_type": "code",
   "execution_count": 76,
   "metadata": {},
   "outputs": [
    {
     "name": "stdout",
     "output_type": "stream",
     "text": [
      "Hello World!\n"
     ]
    }
   ],
   "source": [
    "# Concatenating 2 strings\n",
    "\n",
    "str1 = 'Hello'\n",
    "str2 ='World!'\n",
    "\n",
    "str3 =str1 +\" \" +str2                    # \" \" means space,increase it and see the changes  \n",
    "print(str3)"
   ]
  },
  {
   "cell_type": "code",
   "execution_count": 77,
   "metadata": {
    "scrolled": true
   },
   "outputs": [
    {
     "name": "stdout",
     "output_type": "stream",
     "text": [
      "python\n"
     ]
    }
   ],
   "source": [
    "print(\"PyThOn\".lower())                        # It will change all characters in lower case"
   ]
  },
  {
   "cell_type": "code",
   "execution_count": 78,
   "metadata": {},
   "outputs": [
    {
     "name": "stdout",
     "output_type": "stream",
     "text": [
      "python\n"
     ]
    }
   ],
   "source": [
    "print(\"python\".upper())                        # It will change all characters in upper case       "
   ]
  },
  {
   "cell_type": "code",
   "execution_count": 79,
   "metadata": {
    "scrolled": true
   },
   "outputs": [
    {
     "name": "stdout",
     "output_type": "stream",
     "text": [
      "['PYTHON', 'IS', 'A', 'PROGRAMMING LANGUAGE.']\n",
      "Haddy Diwali\n"
     ]
    }
   ],
   "source": [
    "string = \"python,is,a,programming language.\"\n",
    "\n",
    "print(string.upper().split(sep=\",\"))           # To print values of list separated by comma\n",
    "\n",
    "print('Happy Diwali'.replace('p','d'))         # To replace all p by d in string Happy Diwali."
   ]
  },
  {
   "cell_type": "code",
   "execution_count": null,
   "metadata": {},
   "outputs": [],
   "source": []
  }
 ],
 "metadata": {
  "kernelspec": {
   "display_name": "Python 3",
   "language": "python",
   "name": "python3"
  },
  "language_info": {
   "codemirror_mode": {
    "name": "ipython",
    "version": 3
   },
   "file_extension": ".py",
   "mimetype": "text/x-python",
   "name": "python",
   "nbconvert_exporter": "python",
   "pygments_lexer": "ipython3",
   "version": "3.7.3"
  }
 },
 "nbformat": 4,
 "nbformat_minor": 2
}
