{
 "cells": [
  {
   "cell_type": "code",
   "execution_count": 1,
   "metadata": {},
   "outputs": [],
   "source": [
    "import numpy as np"
   ]
  },
  {
   "cell_type": "code",
   "execution_count": 2,
   "metadata": {},
   "outputs": [
    {
     "data": {
      "text/plain": [
       "'1.16.2'"
      ]
     },
     "execution_count": 2,
     "metadata": {},
     "output_type": "execute_result"
    }
   ],
   "source": [
    "np.__version__"
   ]
  },
  {
   "cell_type": "code",
   "execution_count": null,
   "metadata": {},
   "outputs": [],
   "source": [
    "a=np.array([1,2,3])\n",
    "print(a)\n",
    "print(type(a))"
   ]
  },
  {
   "cell_type": "code",
   "execution_count": null,
   "metadata": {},
   "outputs": [],
   "source": [
    "a=np.array([(1,2,3),(4,5,6)])\n",
    "print(a)\n",
    "print(a.ndim)\n",
    "print(a.shape)"
   ]
  },
  {
   "cell_type": "code",
   "execution_count": null,
   "metadata": {},
   "outputs": [],
   "source": [
    "a= np.array([(1,2,3,4),(4,5,6)])\n",
    "print(a)\n",
    "print(a.ndim)"
   ]
  },
  {
   "cell_type": "code",
   "execution_count": null,
   "metadata": {},
   "outputs": [],
   "source": [
    "a,b=np.ones((2,3,4))\n",
    "print(a)\n",
    "print()\n",
    "print(b)"
   ]
  },
  {
   "cell_type": "code",
   "execution_count": null,
   "metadata": {},
   "outputs": [],
   "source": [
    "a,b=np.zeros((2,3,4),dtype=np.int)\n",
    "print(a)\n",
    "print()\n",
    "print(b)\n"
   ]
  },
  {
   "cell_type": "code",
   "execution_count": null,
   "metadata": {},
   "outputs": [],
   "source": [
    "c,d=np.full((2,2,2),5.6)\n",
    "print(c)\n",
    "print(d)"
   ]
  },
  {
   "cell_type": "code",
   "execution_count": null,
   "metadata": {},
   "outputs": [],
   "source": [
    "a=np.identity(7,dtype=np.int)\n",
    "print(a)\n",
    "\n"
   ]
  },
  {
   "cell_type": "code",
   "execution_count": null,
   "metadata": {},
   "outputs": [],
   "source": [
    "a=np.random.random((5,2))\n",
    "print(a)\n",
    "\n",
    "a=np.random.random_integers(50,100,(3,4))\n",
    "print(a)\n"
   ]
  },
  {
   "cell_type": "code",
   "execution_count": null,
   "metadata": {},
   "outputs": [],
   "source": [
    "a=np.array([(1,2,3,4),(4,5,6,7)])\n",
    "print(a)\n",
    "print(a.size)\n",
    "print(a.shape)"
   ]
  },
  {
   "cell_type": "code",
   "execution_count": null,
   "metadata": {},
   "outputs": [],
   "source": [
    "#a=np.resize(a,(6,3))\n",
    "a=np.reshape(a,(1,18))\n",
    "print(a)"
   ]
  },
  {
   "cell_type": "code",
   "execution_count": null,
   "metadata": {},
   "outputs": [],
   "source": [
    "# Indexing and Slicing\n",
    "\n",
    "a=np.array([(1,2,3,4),(3,4,5,6),(8,9,10,11)])\n",
    "\n",
    "print(a)\n",
    "\n",
    "print(a[0,2])\n",
    "print(a[:,2])\n",
    "print()\n",
    "print(a[0:2,:])\n"
   ]
  },
  {
   "cell_type": "code",
   "execution_count": null,
   "metadata": {},
   "outputs": [],
   "source": [
    "\n",
    "# a=np.linspace(1,10,5)\n",
    "# print(a)\n",
    "\n",
    "a=np.arange(0,26,5)\n",
    "print(a)"
   ]
  },
  {
   "cell_type": "code",
   "execution_count": null,
   "metadata": {},
   "outputs": [],
   "source": [
    "# Aggregate functions\n",
    "\n",
    "a=np.array([(8,9),(10,11),(12,13)])\n",
    "print(len(a))\n",
    "print(a.min())\n",
    "print(a.max())\n",
    "print(a.sum())\n",
    "print(a.sum()/a.size)\n",
    "print(a.mean())"
   ]
  },
  {
   "cell_type": "code",
   "execution_count": null,
   "metadata": {},
   "outputs": [],
   "source": [
    "# Math functions\n",
    "\n",
    "a=np.array([(1,0,3),(3,4,5)])\n",
    "\n",
    "print(np.sqrt(a))\n",
    "print(np.std(a))\n",
    "print(np.log(a))\n",
    "b=np.sqrt(a)\n",
    "print(b.round(2))"
   ]
  },
  {
   "cell_type": "code",
   "execution_count": null,
   "metadata": {},
   "outputs": [],
   "source": [
    "x= np.array([(1,2),(3,4)])\n",
    "y= np.array([(5,6),(3,4)])\n",
    "print(x)\n",
    "print(y)\n",
    "print(x+y)\n",
    "print(x-y)\n",
    "print(x*y)\n",
    "print(x/y)\n",
    "print(x%y)\n",
    "print(x@y)\n",
    "#print(np.dot(x,y))\n",
    "#print(np.add(x,y))\n",
    "\n",
    "\n",
    "#np.add(), np.subtract(), np.multiply(), np.divide(), np.remainder()"
   ]
  },
  {
   "cell_type": "code",
   "execution_count": null,
   "metadata": {},
   "outputs": [],
   "source": [
    "#help\n",
    "?np.mean\n",
    "#print(np.lookfor(\"mean\"))\n",
    "#help(np.zeros)"
   ]
  },
  {
   "cell_type": "code",
   "execution_count": null,
   "metadata": {},
   "outputs": [],
   "source": [
    "#joining arrays\n",
    "\n",
    "#print(x)\n",
    "#print(y)\n",
    "print()\n",
    "d=np.concatenate((x,y),axis=0)\n",
    "print(d)\n",
    "print()\n",
    "\n",
    "print(np.vstack((x,y)))\n",
    "\n",
    "print(np.hstack((x,y)))"
   ]
  },
  {
   "cell_type": "code",
   "execution_count": null,
   "metadata": {},
   "outputs": [],
   "source": [
    "#converting array into single row\n",
    "print(x)\n",
    "z=x.ravel()\n",
    "print(z)\n",
    "print(z.reshape(2,2))"
   ]
  },
  {
   "cell_type": "code",
   "execution_count": null,
   "metadata": {},
   "outputs": [],
   "source": [
    "x= np.array([(1,2,3),(3,4,5)])\n",
    "y= np.array([(6,7),(9,10)])\n",
    "new_array = np.append(x,y)\n",
    "print(new_array)\n",
    "new_array=np.reshape(new_array,(5,2))\n",
    "print(new_array)\n"
   ]
  },
  {
   "cell_type": "code",
   "execution_count": null,
   "metadata": {},
   "outputs": [],
   "source": [
    "x= np.array([(1,2,3),(3,4,5)])\n",
    "new_array=np.insert(x,[1,3],[5,10])\n",
    "print(new_array)\n",
    "\n",
    "#[1,2,3,3,4,5]"
   ]
  },
  {
   "cell_type": "code",
   "execution_count": null,
   "metadata": {},
   "outputs": [],
   "source": [
    "new_array=np.delete(new_array,[1,2])\n",
    "print(new_array)"
   ]
  },
  {
   "cell_type": "code",
   "execution_count": null,
   "metadata": {},
   "outputs": [],
   "source": [
    "my_array2 = np.genfromtxt(r'C:\\Users\\Admin\\Desktop\\array_data.txt',\n",
    "                      skip_header=1,delimiter=\",\",\n",
    "                          filling_values=0,unpack=False,dtype=np.int)\n",
    "print(my_array2)"
   ]
  },
  {
   "cell_type": "code",
   "execution_count": null,
   "metadata": {},
   "outputs": [],
   "source": []
  }
 ],
 "metadata": {
  "kernelspec": {
   "display_name": "Python 3",
   "language": "python",
   "name": "python3"
  },
  "language_info": {
   "codemirror_mode": {
    "name": "ipython",
    "version": 3
   },
   "file_extension": ".py",
   "mimetype": "text/x-python",
   "name": "python",
   "nbconvert_exporter": "python",
   "pygments_lexer": "ipython3",
   "version": "3.7.3"
  }
 },
 "nbformat": 4,
 "nbformat_minor": 2
}
