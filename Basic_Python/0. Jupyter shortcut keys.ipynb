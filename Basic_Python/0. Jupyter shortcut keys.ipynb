{
 "cells": [
  {
   "cell_type": "markdown",
   "metadata": {},
   "source": [
    "# SHORTCUT KEYS FOR JUPYTER NOTEBOOK "
   ]
  },
  {
   "cell_type": "raw",
   "metadata": {},
   "source": [
    "A --> to insert a new cell above the current cell\n",
    "\n",
    "B --> to insert a new cell below.\n",
    "\n",
    "M --> to change the current cell to Markdown\n",
    "\n",
    "Y --> to change it back to code\n",
    "\n",
    "D + D --> (press the key twice) to delete the current cell\n",
    "\n",
    "Shift + Tab -->  will show you the Docstring (documentation) for the the object you have just typed in a code cell \n",
    "\n",
    "Ctrl + Shift + minus --> will split the current cell into two from where your cursor is.\n",
    "\n",
    "Esc + F --> Find and replace on your code but not the outputs.\n",
    "\n",
    "Esc + O --> Toggle cell output.\n",
    "\n",
    "Esc + 1 --> For Markdown to be biggest\n",
    "\n",
    "Esc + 2 --> For Markdown to be bigger\n",
    "\n",
    "Esc + 3 --> For Markdown to be big\n",
    "\n",
    "Esc + 4 --> For Markdown to be medium\n",
    "\n",
    "Esc + 5 --> For Markdown to be small\n",
    "\n",
    "Shift + J or Shift + Down --> selects the next cells in a downwards direction.\n",
    "\n",
    "Shift + K or Shift + Up select cells in an upwards direction\n",
    "\n",
    "Once cells are selected, we can then delete / copy / cut / paste / run them as a batch.\n",
    "\n",
    "Shift + M --> to merge multiple cells."
   ]
  }
 ],
 "metadata": {
  "kernelspec": {
   "display_name": "Python 3 (ipykernel)",
   "language": "python",
   "name": "python3"
  },
  "language_info": {
   "codemirror_mode": {
    "name": "ipython",
    "version": 3
   },
   "file_extension": ".py",
   "mimetype": "text/x-python",
   "name": "python",
   "nbconvert_exporter": "python",
   "pygments_lexer": "ipython3",
   "version": "3.11.4"
  }
 },
 "nbformat": 4,
 "nbformat_minor": 2
}
