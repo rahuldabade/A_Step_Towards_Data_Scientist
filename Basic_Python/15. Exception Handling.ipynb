{
 "cells": [
  {
   "cell_type": "markdown",
   "metadata": {},
   "source": [
    "# EXCEPTION HANDLING"
   ]
  },
  {
   "cell_type": "markdown",
   "metadata": {},
   "source": [
    "Python provides 2 very important features to handle any unexpected error in your Python programs and\n",
    "to add debugging capabilities in them \n",
    "\n",
    "**Exception Handling** − Standard Exceptions.\n",
    "\n",
    "**Assertions** "
   ]
  },
  {
   "cell_type": "markdown",
   "metadata": {},
   "source": [
    "# List of Standard Exceptions"
   ]
  },
  {
   "cell_type": "code",
   "execution_count": null,
   "metadata": {},
   "outputs": [],
   "source": [
    "Exception\n",
    "\n",
    "# Base class for all exceptions"
   ]
  },
  {
   "cell_type": "code",
   "execution_count": null,
   "metadata": {},
   "outputs": [],
   "source": [
    "StopIteration\n",
    "\n",
    "# Raised when the next() method of an iterator does not point to any object."
   ]
  },
  {
   "cell_type": "code",
   "execution_count": null,
   "metadata": {},
   "outputs": [],
   "source": [
    "SystemExit\n",
    "\n",
    "# Raised by the sys.exit() function."
   ]
  },
  {
   "cell_type": "code",
   "execution_count": null,
   "metadata": {},
   "outputs": [],
   "source": [
    "StandardError\n",
    "\n",
    "# Base class for all built-in exceptions except StopIteration and SystemExit."
   ]
  },
  {
   "cell_type": "code",
   "execution_count": null,
   "metadata": {},
   "outputs": [],
   "source": [
    "ArithmeticError\n",
    "\n",
    "# Base class for all errors that occur for numeric calculation."
   ]
  },
  {
   "cell_type": "code",
   "execution_count": null,
   "metadata": {},
   "outputs": [],
   "source": [
    "OverflowError\n",
    "\n",
    "# Raised when a calculation exceeds maximum limit for a numeric type."
   ]
  },
  {
   "cell_type": "code",
   "execution_count": null,
   "metadata": {},
   "outputs": [],
   "source": [
    "FloatingPointError\n",
    "\n",
    "# Raised when a floating point calculation fails."
   ]
  },
  {
   "cell_type": "code",
   "execution_count": null,
   "metadata": {},
   "outputs": [],
   "source": [
    "ZeroDivisionError\n",
    "\n",
    "# Raised when division or modulo by zero takes place for all numeric types."
   ]
  },
  {
   "cell_type": "code",
   "execution_count": null,
   "metadata": {},
   "outputs": [],
   "source": [
    "AssertionError\n",
    "\n",
    "# Raised in case of failure of the Assert statement."
   ]
  },
  {
   "cell_type": "code",
   "execution_count": null,
   "metadata": {},
   "outputs": [],
   "source": [
    "AttributeError\n",
    "\n",
    "# Raised in case of failure of attribute reference or assignment."
   ]
  },
  {
   "cell_type": "code",
   "execution_count": null,
   "metadata": {},
   "outputs": [],
   "source": [
    "EOFError\n",
    "\n",
    "# Raised when there is no input from either the raw_input() or input() function and the end of file is reached."
   ]
  },
  {
   "cell_type": "code",
   "execution_count": null,
   "metadata": {},
   "outputs": [],
   "source": [
    "ImportError\n",
    "\n",
    "# Raised when an import statement fails."
   ]
  },
  {
   "cell_type": "code",
   "execution_count": null,
   "metadata": {},
   "outputs": [],
   "source": [
    "KeyboardInterrupt\n",
    "\n",
    "# Raised when the user interrupts program execution, usually by pressing Ctrl+c."
   ]
  },
  {
   "cell_type": "code",
   "execution_count": null,
   "metadata": {},
   "outputs": [],
   "source": [
    "LookupError\n",
    "\n",
    "# Base class for all lookup errors."
   ]
  },
  {
   "cell_type": "code",
   "execution_count": null,
   "metadata": {},
   "outputs": [],
   "source": [
    "IndexError\n",
    "\n",
    "# Raised when an index is not found in a sequence."
   ]
  },
  {
   "cell_type": "code",
   "execution_count": null,
   "metadata": {},
   "outputs": [],
   "source": [
    "KeyError\n",
    "\n",
    "# Raised when the specified key is not found in the dictionary."
   ]
  },
  {
   "cell_type": "code",
   "execution_count": null,
   "metadata": {},
   "outputs": [],
   "source": [
    "NameError\n",
    "\n",
    "# Raised when an identifier is not found in the local or global namespace."
   ]
  },
  {
   "cell_type": "code",
   "execution_count": null,
   "metadata": {},
   "outputs": [],
   "source": [
    "UnboundLocalError\n",
    "\n",
    "# Raised when trying to access a local variable in a function or method but no value has been assigned to it."
   ]
  },
  {
   "cell_type": "code",
   "execution_count": null,
   "metadata": {},
   "outputs": [],
   "source": [
    "EnvironmentError\n",
    "\n",
    "# Base class for all exceptions that occur outside the Python environment."
   ]
  },
  {
   "cell_type": "code",
   "execution_count": null,
   "metadata": {},
   "outputs": [],
   "source": [
    "IOError\n",
    "\n",
    "# Raised when an input/ output operation fails, such as the print statement or the open() function when trying to open a file \n",
    "# that does not exist."
   ]
  },
  {
   "cell_type": "code",
   "execution_count": null,
   "metadata": {},
   "outputs": [],
   "source": [
    "IOError\n",
    "\n",
    "# Raised for operating system-related errors."
   ]
  },
  {
   "cell_type": "code",
   "execution_count": null,
   "metadata": {},
   "outputs": [],
   "source": [
    "SyntaxError\n",
    "\n",
    "# Raised when there is an error in Python syntax."
   ]
  },
  {
   "cell_type": "code",
   "execution_count": null,
   "metadata": {},
   "outputs": [],
   "source": [
    "IndentationError\n",
    "\n",
    "# Raised when indentation is not specified properly."
   ]
  },
  {
   "cell_type": "code",
   "execution_count": null,
   "metadata": {},
   "outputs": [],
   "source": [
    "SystemError\n",
    "\n",
    "# Raised when the interpreter finds an internal problem\n",
    "# when this error is encountered the Python interpreter does not exit."
   ]
  },
  {
   "cell_type": "code",
   "execution_count": null,
   "metadata": {},
   "outputs": [],
   "source": [
    "SystemExit\n",
    "\n",
    "# Raised when Python interpreter is quit by using the sys.exit() function.\n",
    "# If not handled in the code, causes the interpreter to exit."
   ]
  },
  {
   "cell_type": "code",
   "execution_count": null,
   "metadata": {},
   "outputs": [],
   "source": [
    "TypeError\n",
    "\n",
    "# Raised when an operation or function is attempted that is invalid for the specified data type."
   ]
  },
  {
   "cell_type": "code",
   "execution_count": null,
   "metadata": {},
   "outputs": [],
   "source": [
    "ValueError\n",
    "\n",
    "# Raised when the built-in function for a data type has the valid type of arguments, \n",
    "# but the arguments have invalid values specified."
   ]
  },
  {
   "cell_type": "code",
   "execution_count": null,
   "metadata": {},
   "outputs": [],
   "source": [
    "RuntimeError\n",
    "\n",
    "# Raised when a generated error does not fall into any category."
   ]
  },
  {
   "cell_type": "code",
   "execution_count": null,
   "metadata": {},
   "outputs": [],
   "source": [
    "NotImplementedError\n",
    "\n",
    "# Raised when an abstract method that needs to be implemented in an inherited class is not actually implemented."
   ]
  },
  {
   "cell_type": "markdown",
   "metadata": {},
   "source": [
    "# Assertions in Python\n",
    "\n",
    "An assertion is a sanity-check that you can turn on or off when you are done with your testing of the program.\n",
    "\n",
    "The easiest way to think of an assertion is to liken it to a raise-if statement (or to be more accurate, raise-if-not statement).\n",
    "\n",
    "An expression is tested, and if the result comes up false, an exception is raised.\n",
    "\n",
    "Assertions are carried out by the assert statement.\n",
    "\n",
    "Programmers often place assertions at the start of a function to check for valid input, and after a function call to check for valid output."
   ]
  },
  {
   "cell_type": "markdown",
   "metadata": {},
   "source": [
    "# The assert Statement\n",
    "\n",
    "When it encounters an assert statement, Python evaluates the accompanying expression, which is hopefully true.\n",
    "\n",
    "If the expression is false, Python raises an AssertionError exception."
   ]
  },
  {
   "cell_type": "code",
   "execution_count": null,
   "metadata": {},
   "outputs": [],
   "source": [
    "# syntax for assert is −\n",
    "\n",
    "assert Expression[, Arguments]"
   ]
  },
  {
   "cell_type": "markdown",
   "metadata": {},
   "source": [
    "If the assertion fails, Python uses ArgumentExpression as the argument for the AssertionError.\n",
    "\n",
    "AssertionError exceptions can be caught and handled like any other exception using the try-except statement, but if not handled,\n",
    "they will terminate the program and produce a traceback.\n",
    "\n",
    "Here is a function that converts a temperature from degrees Kelvin to degrees Fahrenheit.\n",
    "\n",
    "Since zero degrees Kelvin is as cold as it gets, the function bails out if it sees a negative temperature −"
   ]
  },
  {
   "cell_type": "code",
   "execution_count": null,
   "metadata": {},
   "outputs": [],
   "source": [
    "def KelvinToFahrenheit(Temperature):\n",
    "   assert (Temperature >= 0),\"Colder than absolute zero!\"\n",
    "   return ((Temperature-273)*1.8)+32\n",
    "print KelvinToFahrenheit(273)\n",
    "print int(KelvinToFahrenheit(505.78))\n",
    "print KelvinToFahrenheit(-5)"
   ]
  },
  {
   "cell_type": "markdown",
   "metadata": {},
   "source": [
    "# What is Exception?\n",
    "\n",
    "An exception is an event,which occurs during execution of a program that disrupts the normal flow of the program's instructions\n",
    "\n",
    "In general, when a Python script encounters a situation that it cannot cope with, it raises an exception.\n",
    "\n",
    "An exception is a Python object that represents an error.\n",
    "\n",
    "When a Python script raises an exception, it must either handle the exception immediately otherwise it terminates and quits."
   ]
  },
  {
   "cell_type": "markdown",
   "metadata": {},
   "source": [
    "# Handling an exception\n",
    "\n",
    "If you have some suspicious code that may raise an exception, you can defend your program by placing the suspicious code\n",
    "in a try: block.\n",
    "    \n",
    "After the try: block, include an except: statement, followed by a block of code which handles the problem as simple as possible."
   ]
  },
  {
   "cell_type": "code",
   "execution_count": null,
   "metadata": {},
   "outputs": [],
   "source": [
    "# Simple syntax of try....except...else blocks −\n",
    "\n",
    "try:\n",
    "   You do your operations here;\n",
    "   ......................\n",
    "except ExceptionI:\n",
    "   If there is ExceptionI, then execute this block.\n",
    "except ExceptionII:\n",
    "   If there is ExceptionII, then execute this block.\n",
    "   ......................\n",
    "else:\n",
    "   If there is no exception then execute this block. "
   ]
  },
  {
   "cell_type": "markdown",
   "metadata": {},
   "source": [
    "**Few important points about the above-mentioned syntax**"
   ]
  },
  {
   "cell_type": "markdown",
   "metadata": {},
   "source": [
    "A single try statement can have multiple except statements.\n",
    "\n",
    "This is useful when the try block contains statements that may throw different types of exceptions.\n",
    "\n",
    "You can also provide a generic except clause, which handles any exception.\n",
    "\n",
    "After the except clause(s), you can include an else-clause.\n",
    "\n",
    "The code in the else-block executes if the code in the try: block does not raise an exception.\n",
    "\n",
    "The else-block is a good place for code that does not need the try: block's protection."
   ]
  },
  {
   "cell_type": "code",
   "execution_count": null,
   "metadata": {},
   "outputs": [],
   "source": [
    "# Example\n",
    "\n",
    "try:\n",
    "   fh = open(\"testfile\", \"w\")\n",
    "   fh.write(\"This is my test file for exception handling!!\")\n",
    "except IOError:\n",
    "   print \"Error: can\\'t find file or read data\"\n",
    "else:\n",
    "   print \"Written content in the file successfully\"\n",
    "   fh.close()"
   ]
  },
  {
   "cell_type": "markdown",
   "metadata": {},
   "source": [
    "This example opens a file, writes content in the file and comes out gracefully because there is no problem at all"
   ]
  },
  {
   "cell_type": "code",
   "execution_count": null,
   "metadata": {},
   "outputs": [],
   "source": [
    "# Example\n",
    "\n",
    "try:\n",
    "   fh = open(\"testfile\", \"r\")\n",
    "   fh.write(\"This is my test file for exception handling!!\")\n",
    "except IOError:\n",
    "   print \"Error: can\\'t find file or read data\"\n",
    "else:\n",
    "   print \"Written content in the file successfully\""
   ]
  },
  {
   "cell_type": "markdown",
   "metadata": {},
   "source": [
    "This example tries to open a file where you do not have write permission, so it raises an exception"
   ]
  },
  {
   "cell_type": "markdown",
   "metadata": {},
   "source": [
    "# The except Clause with No Exceptions\n",
    "\n",
    "You can also use the except statement with no exceptions defined as follows −"
   ]
  },
  {
   "cell_type": "code",
   "execution_count": null,
   "metadata": {},
   "outputs": [],
   "source": [
    "try:\n",
    "   You do your operations here;\n",
    "   ......................\n",
    "except:\n",
    "   If there is any exception, then execute this block.\n",
    "   ......................\n",
    "else:\n",
    "   If there is no exception then execute this block. \n"
   ]
  },
  {
   "cell_type": "markdown",
   "metadata": {},
   "source": [
    "This kind of a try-except statement catches all the exceptions that occur.\n",
    "\n",
    "Using this kind of try-except statement is not considered a good programming practice though, because it catches all exceptions\n",
    "but does not make the programmer identify the root cause of the problem that may occur."
   ]
  },
  {
   "cell_type": "markdown",
   "metadata": {},
   "source": [
    "# The except Clause with Multiple Exceptions\n",
    "\n",
    "You can also use the same except statement to handle multiple exceptions as follows −"
   ]
  },
  {
   "cell_type": "code",
   "execution_count": null,
   "metadata": {},
   "outputs": [],
   "source": [
    "try:\n",
    "   You do your operations here;\n",
    "   ......................\n",
    "except(Exception1[, Exception2[,...ExceptionN]]]):\n",
    "   If there is any exception from the given exception list, \n",
    "   then execute this block.\n",
    "   ......................\n",
    "else:\n",
    "   If there is no exception then execute this block. "
   ]
  },
  {
   "cell_type": "markdown",
   "metadata": {},
   "source": [
    "# The try-finally Clause\n",
    "\n",
    "You can use a finally: block along with a try: block.\n",
    "\n",
    "The finally block is a place to put any code that must execute, whether the try-block raised an exception or not. "
   ]
  },
  {
   "cell_type": "code",
   "execution_count": null,
   "metadata": {},
   "outputs": [],
   "source": [
    "try:\n",
    "   You do your operations here;\n",
    "   ......................\n",
    "   Due to any exception, this may be skipped.\n",
    "finally:\n",
    "   This would always be executed.\n",
    "   ......................"
   ]
  },
  {
   "cell_type": "markdown",
   "metadata": {},
   "source": [
    "You cannot use else clause as well along with a finally clause."
   ]
  },
  {
   "cell_type": "code",
   "execution_count": null,
   "metadata": {},
   "outputs": [],
   "source": [
    "# Example\n",
    "\n",
    "try:\n",
    "   fh = open(\"testfile\", \"w\")\n",
    "   fh.write(\"This is my test file for exception handling!!\")\n",
    "finally:\n",
    "   print \"Error: can\\'t find file or read data\""
   ]
  },
  {
   "cell_type": "markdown",
   "metadata": {},
   "source": [
    "If you do not have permission to open the file in writing mode, then this will produce the following result −\n",
    "\n",
    "Error: can't find file or read data"
   ]
  },
  {
   "cell_type": "markdown",
   "metadata": {},
   "source": [
    "Same example can be written more cleanly as follows −"
   ]
  },
  {
   "cell_type": "code",
   "execution_count": null,
   "metadata": {},
   "outputs": [],
   "source": [
    "try:\n",
    "   fh = open(\"testfile\", \"w\")\n",
    "   try:\n",
    "      fh.write(\"This is my test file for exception handling!!\")\n",
    "   finally:\n",
    "      print \"Going to close the file\"\n",
    "      fh.close()\n",
    "except IOError:\n",
    "   print \"Error: can\\'t find file or read data\""
   ]
  },
  {
   "cell_type": "markdown",
   "metadata": {},
   "source": [
    "When an exception is thrown in the try block, the execution immediately passes to the finally block.\n",
    "\n",
    "After all the statements in the finally block are executed, the exception is raised again and is handled in the except statements\n",
    "if present in the next higher layer of the try-except statement."
   ]
  },
  {
   "cell_type": "markdown",
   "metadata": {},
   "source": [
    "# Argument of an Exception\n",
    "\n",
    "An exception can have an argument, which is a value that gives additional information about the problem.\n",
    "\n",
    "The contents of the argument vary by exception.\n",
    "\n",
    "You capture an exception's argument by supplying a variable in the except clause as follows −"
   ]
  },
  {
   "cell_type": "code",
   "execution_count": null,
   "metadata": {},
   "outputs": [],
   "source": [
    "try:\n",
    "   You do your operations here;\n",
    "   ......................\n",
    "except ExceptionType, Argument:\n",
    "   You can print value of Argument here..."
   ]
  },
  {
   "cell_type": "markdown",
   "metadata": {},
   "source": [
    "If you write the code to handle single exception, you can have a variable follow the name of the exception in except statement.\n",
    "\n",
    "If you are trapping multiple exceptions, you can have a variable follow the tuple of the exception.\n",
    "\n",
    "This variable receives the value of the exception mostly containing the cause of the exception.\n",
    "\n",
    "The variable can receive a single value or multiple values in the form of a tuple. \n",
    "\n",
    "This tuple usually contains the error string, the error number, and an error location."
   ]
  },
  {
   "cell_type": "code",
   "execution_count": null,
   "metadata": {},
   "outputs": [],
   "source": [
    "# Example for a single exception \n",
    "\n",
    "# Define a function here.\n",
    "def temp_convert(var):\n",
    "   try:\n",
    "      return int(var)\n",
    "   except ValueError, Argument:\n",
    "      print \"The argument does not contain numbers\\n\", Argument\n",
    "\n",
    "# Call above function here.\n",
    "temp_convert(\"xyz\");"
   ]
  },
  {
   "cell_type": "markdown",
   "metadata": {},
   "source": [
    "# Raising an Exceptions\n",
    "\n",
    "You can raise exceptions in several ways by using the raise statement.\n",
    "\n",
    "The general syntax for the raise statement is as follows."
   ]
  },
  {
   "cell_type": "code",
   "execution_count": null,
   "metadata": {},
   "outputs": [],
   "source": [
    "raise [Exception [, args [, traceback]]]"
   ]
  },
  {
   "cell_type": "markdown",
   "metadata": {},
   "source": [
    "Here, Exception is the type of exception (for example, NameError) and argument is a value for the exception argument.\n",
    "\n",
    "The argument is optional; if not supplied, the exception argument is None.\n",
    "\n",
    "The final argument, traceback, is also optional (and rarely used in practice), and if present, is the traceback object used for\n",
    "the exception."
   ]
  },
  {
   "cell_type": "raw",
   "metadata": {},
   "source": [
    "# Example\n",
    "\n",
    "An exception can be a string, a class or an object.\n",
    "\n",
    "Most of the exceptions that the Python core raises are classes, with an argument that is an instance of the class.\n",
    "\n",
    "Defining new exceptions is quite easy and can be done as follows −"
   ]
  },
  {
   "cell_type": "code",
   "execution_count": null,
   "metadata": {},
   "outputs": [],
   "source": [
    "def functionName( level ):\n",
    "   if level < 1:\n",
    "      raise \"Invalid level!\", level\n",
    "      # The code below to this would not be executed\n",
    "      # if we raise the exception"
   ]
  },
  {
   "cell_type": "markdown",
   "metadata": {},
   "source": [
    "Note-: In order to catch an exception,an \"except\" clause must refer to the same exception thrown either class object/simple string.\n",
    "\n",
    "For example, to capture above exception, we must write the except clause as follows "
   ]
  },
  {
   "cell_type": "code",
   "execution_count": null,
   "metadata": {},
   "outputs": [],
   "source": [
    "try:\n",
    "   Business Logic here...\n",
    "except \"Invalid level!\":\n",
    "   Exception handling here...\n",
    "else:\n",
    "   Rest of the code here..."
   ]
  },
  {
   "cell_type": "markdown",
   "metadata": {},
   "source": [
    "# User-Defined Exceptions\n",
    "\n",
    "Python also allows you to create your own exceptions by deriving classes from the standard built-in exceptions.\n",
    "\n",
    "Here is an example related to RuntimeError. Here, a class is created that is subclassed from RuntimeError. \n",
    "\n",
    "This is useful when you need to display more specific information when an exception is caught.\n",
    "\n",
    "In the try block, the user-defined exception is raised and caught in the except block.\n",
    "\n",
    "The variable e is used to create an instance of the class Networkerror."
   ]
  },
  {
   "cell_type": "code",
   "execution_count": null,
   "metadata": {},
   "outputs": [],
   "source": [
    "class Networkerror(RuntimeError):\n",
    "   def __init__(self, arg):\n",
    "      self.args = arg"
   ]
  },
  {
   "cell_type": "markdown",
   "metadata": {},
   "source": [
    "So once you defined above class, you can raise the exception as follows −"
   ]
  },
  {
   "cell_type": "code",
   "execution_count": null,
   "metadata": {},
   "outputs": [],
   "source": [
    "try:\n",
    "   raise Networkerror(\"Bad hostname\")\n",
    "except Networkerror,e:\n",
    "   print e.args"
   ]
  }
 ],
 "metadata": {
  "kernelspec": {
   "display_name": "Python 3",
   "language": "python",
   "name": "python3"
  },
  "language_info": {
   "codemirror_mode": {
    "name": "ipython",
    "version": 3
   },
   "file_extension": ".py",
   "mimetype": "text/x-python",
   "name": "python",
   "nbconvert_exporter": "python",
   "pygments_lexer": "ipython3",
   "version": "3.7.3"
  }
 },
 "nbformat": 4,
 "nbformat_minor": 2
}
