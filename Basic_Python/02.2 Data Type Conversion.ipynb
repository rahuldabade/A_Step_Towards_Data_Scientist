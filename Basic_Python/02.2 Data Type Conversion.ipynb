{
 "cells": [
  {
   "cell_type": "markdown",
   "metadata": {},
   "source": [
    "# DATA TYPE CONVERSION\n",
    "\n",
    "Sometimes,we may need to perform conversions between the built-in types. \n",
    "\n",
    "To convert between types,we simply use the type name as a function.\n",
    "\n",
    "There are several built-in functions to perform conversion from one data type to another.\n",
    "\n",
    "These functions return a new object representing the converted value."
   ]
  },
  {
   "cell_type": "code",
   "execution_count": null,
   "metadata": {},
   "outputs": [],
   "source": [
    "int(x [,base])                                         # Converts x to an integer. base specifies the base if x is a string.\n",
    "                                                       # [, base]\" part is optional i.e it might take one or two arguments."
   ]
  },
  {
   "cell_type": "code",
   "execution_count": null,
   "metadata": {},
   "outputs": [],
   "source": [
    "long(x [,base] )                                       # Converts x to a long integer. base specifies the base if x is a string."
   ]
  },
  {
   "cell_type": "code",
   "execution_count": null,
   "metadata": {},
   "outputs": [],
   "source": [
    "float(x)                                               # Converts x to a floating-point number."
   ]
  },
  {
   "cell_type": "code",
   "execution_count": null,
   "metadata": {},
   "outputs": [],
   "source": [
    "complex(real [,imag])                                  # Creates a complex number."
   ]
  },
  {
   "cell_type": "code",
   "execution_count": null,
   "metadata": {},
   "outputs": [],
   "source": [
    "str(x)                                                 # Converts object x to a string representation."
   ]
  },
  {
   "cell_type": "code",
   "execution_count": null,
   "metadata": {},
   "outputs": [],
   "source": [
    "repr(x)                                                # Converts object x to an expression string."
   ]
  },
  {
   "cell_type": "code",
   "execution_count": null,
   "metadata": {},
   "outputs": [],
   "source": [
    "eval(str)                                              # Evaluates a string and returns an object."
   ]
  },
  {
   "cell_type": "code",
   "execution_count": null,
   "metadata": {},
   "outputs": [],
   "source": [
    "tuple(s)                                               # Converts s to a tuple."
   ]
  },
  {
   "cell_type": "code",
   "execution_count": null,
   "metadata": {},
   "outputs": [],
   "source": [
    "list(s)                                                # Converts s to a list."
   ]
  },
  {
   "cell_type": "code",
   "execution_count": null,
   "metadata": {},
   "outputs": [],
   "source": [
    "set(s)                                                 # Converts s to a set."
   ]
  },
  {
   "cell_type": "code",
   "execution_count": null,
   "metadata": {},
   "outputs": [],
   "source": [
    "dict(d)                                                # Creates a dictionary. d must be a sequence of (key,value) tuples."
   ]
  },
  {
   "cell_type": "code",
   "execution_count": null,
   "metadata": {},
   "outputs": [],
   "source": [
    "frozenset(s)                                           # Converts s to a frozen set.\n",
    "                                                       # frozenset() is an inbuilt function in Python \n",
    "                                                       # it takes an iterable object as input and makes them immutable.\n",
    "                                                       # it freezes iterable objects and makes them unchangeable.\n",
    "                                                      # In Python,frozenset is similar as set except its elements are immutable"
   ]
  },
  {
   "cell_type": "code",
   "execution_count": null,
   "metadata": {},
   "outputs": [],
   "source": [
    "chr(x)                                                 # Converts an integer to a character."
   ]
  },
  {
   "cell_type": "code",
   "execution_count": null,
   "metadata": {},
   "outputs": [],
   "source": [
    "unichr(x) ---> (REMOVED)                       # Converts an integer to a Unicode character.\n",
    "                                               # In Python 3, there's no difference between unicode and normal strings anymore.\n",
    "                                               # difference is only between unicode strings and binary data. \n",
    "                                               # So the developers have finally removed unichr function in favor of a common chr\n",
    "                                               # which now does what the old unichr did"
   ]
  },
  {
   "cell_type": "code",
   "execution_count": null,
   "metadata": {},
   "outputs": [],
   "source": [
    "ord(x)                                                 # Converts a single character to its integer value."
   ]
  },
  {
   "cell_type": "code",
   "execution_count": null,
   "metadata": {},
   "outputs": [],
   "source": [
    "hex(x)                                                 # Converts an integer to a hexadecimal string."
   ]
  },
  {
   "cell_type": "code",
   "execution_count": null,
   "metadata": {},
   "outputs": [],
   "source": [
    "oct(x)                                                 # Converts an integer to an octal string."
   ]
  }
 ],
 "metadata": {
  "kernelspec": {
   "display_name": "Python 3",
   "language": "python",
   "name": "python3"
  },
  "language_info": {
   "codemirror_mode": {
    "name": "ipython",
    "version": 3
   },
   "file_extension": ".py",
   "mimetype": "text/x-python",
   "name": "python",
   "nbconvert_exporter": "python",
   "pygments_lexer": "ipython3",
   "version": "3.7.3"
  }
 },
 "nbformat": 4,
 "nbformat_minor": 2
}
