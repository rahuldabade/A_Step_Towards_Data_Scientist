{
 "cells": [
  {
   "cell_type": "markdown",
   "metadata": {},
   "source": [
    "# -----------------------          CODES FROM IMARTICUS       ---------------------------------- "
   ]
  },
  {
   "cell_type": "markdown",
   "metadata": {},
   "source": [
    "# Working on Series in Python"
   ]
  },
  {
   "cell_type": "code",
   "execution_count": null,
   "metadata": {},
   "outputs": [],
   "source": [
    "#Creating series in python\n",
    "\n",
    "import numpy as np\n",
    "import pandas as pd\n",
    "data=np.array([101,102,103,104])\n",
    "\n",
    "s=pd.Series(data)\n",
    "\n",
    "print(s)\n",
    "print()"
   ]
  },
  {
   "cell_type": "code",
   "execution_count": null,
   "metadata": {},
   "outputs": [],
   "source": [
    "s[1]=100\n",
    "print(s)"
   ]
  },
  {
   "cell_type": "code",
   "execution_count": null,
   "metadata": {},
   "outputs": [],
   "source": [
    "s=pd.Series(data,index=['a','b','c','d'])\n",
    "\n",
    "print(s)\n",
    "print(s['b'])\n",
    "print(s[1])"
   ]
  },
  {
   "cell_type": "code",
   "execution_count": null,
   "metadata": {},
   "outputs": [],
   "source": [
    "# Changing index numbers:\n",
    "\n",
    "list1=np.arange(1001,1005,1)\n",
    "s=pd.Series(data,index=list1)\n",
    "\n",
    "print(s)\n",
    "print(s[1002])"
   ]
  },
  {
   "cell_type": "code",
   "execution_count": null,
   "metadata": {},
   "outputs": [],
   "source": [
    "data={'a' : 0., 'b' : 1.,'c' : 2.}\n",
    "s=pd.Series(data)\n",
    "print(s)\n",
    "\n",
    "print(s['a'])\n",
    "print()\n",
    "print(s[-2:])"
   ]
  }
 ],
 "metadata": {
  "kernelspec": {
   "display_name": "Python 3",
   "language": "python",
   "name": "python3"
  },
  "language_info": {
   "codemirror_mode": {
    "name": "ipython",
    "version": 3
   },
   "file_extension": ".py",
   "mimetype": "text/x-python",
   "name": "python",
   "nbconvert_exporter": "python",
   "pygments_lexer": "ipython3",
   "version": "3.7.3"
  }
 },
 "nbformat": 4,
 "nbformat_minor": 2
}
