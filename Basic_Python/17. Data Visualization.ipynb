{
 "cells": [
  {
   "cell_type": "markdown",
   "metadata": {},
   "source": [
    "# DATA VISUALIZATION IN PYTHON"
   ]
  },
  {
   "cell_type": "code",
   "execution_count": null,
   "metadata": {},
   "outputs": [],
   "source": [
    "# DATA VISUALIZATION -->  1) It helps understand data distribution and trend in python \n",
    "#                         2) helps in comparison and composition of data values\n",
    "#                         3) find relationship among data values\n",
    "#                         4) helps decision maker to quickly examine large piles of data and discover hidden pattern\n"
   ]
  },
  {
   "cell_type": "markdown",
   "metadata": {},
   "source": [
    "# LIBRARIES FOR DATA VISUALIZATION"
   ]
  },
  {
   "cell_type": "code",
   "execution_count": 1,
   "metadata": {},
   "outputs": [],
   "source": [
    "# 1) MATPLOTLIB --> plotting library that offers matplotlib complete 2D support along with limited 3D support\n",
    "#               --> useful in producing publication quality figures in interactive environment\n",
    "\n",
    "\n",
    "# 2) SEABORN    --> based on matplotlib\n",
    "#               --> offers various features such as built in themes,color palettes,functions and tools to visualize \n",
    "#                   univariate,bivariate,linear regression,matrices of data,statistical time series etc which helps us to\n",
    "#                   build complex visualizations\n"
   ]
  },
  {
   "cell_type": "code",
   "execution_count": null,
   "metadata": {},
   "outputs": [],
   "source": []
  }
 ],
 "metadata": {
  "kernelspec": {
   "display_name": "Python 3",
   "language": "python",
   "name": "python3"
  },
  "language_info": {
   "codemirror_mode": {
    "name": "ipython",
    "version": 3
   },
   "file_extension": ".py",
   "mimetype": "text/x-python",
   "name": "python",
   "nbconvert_exporter": "python",
   "pygments_lexer": "ipython3",
   "version": "3.7.3"
  }
 },
 "nbformat": 4,
 "nbformat_minor": 2
}
