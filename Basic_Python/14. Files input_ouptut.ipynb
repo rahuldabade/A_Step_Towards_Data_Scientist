{
 "cells": [
  {
   "cell_type": "markdown",
   "metadata": {},
   "source": [
    "# Printing to the Screen\n",
    "\n",
    "The simplest way to produce output is using the print statement where you can pass zero or more expressions separated by commas.\n",
    "\n",
    "This function converts the expressions you pass into a string and writes the result to standard output as follows −"
   ]
  },
  {
   "cell_type": "code",
   "execution_count": null,
   "metadata": {},
   "outputs": [],
   "source": [
    "print \"Python is really a great language,\", \"isn't it?\""
   ]
  },
  {
   "cell_type": "markdown",
   "metadata": {},
   "source": [
    "# Reading Keyboard Input\n",
    "\n",
    "Python provides two built-in functions to read a line of text from standard input, which by default comes from the keyboard.\n",
    "\n",
    "These functions are −\n",
    "\n",
    "**raw_input**\n",
    "\n",
    "**input**"
   ]
  },
  {
   "cell_type": "markdown",
   "metadata": {},
   "source": [
    "# The raw_input Function\n",
    "\n",
    "The raw_input([prompt]) function reads one line from standard input and returns it as a string (removing the trailing newline).\n"
   ]
  },
  {
   "cell_type": "code",
   "execution_count": null,
   "metadata": {},
   "outputs": [],
   "source": [
    "str = raw_input(\"Enter your input: \")\n",
    "print \"Received input is : \", str"
   ]
  },
  {
   "cell_type": "markdown",
   "metadata": {},
   "source": [
    "This prompts you to enter any string and it would display same string on the screen. When I typed \"Hello Python!\""
   ]
  },
  {
   "cell_type": "markdown",
   "metadata": {},
   "source": [
    "# The input Function\n",
    "\n",
    "The input([prompt]) function is equivalent to raw_input, except that it assumes the input is a valid Python expression and\n",
    "returns the evaluated result to you."
   ]
  },
  {
   "cell_type": "code",
   "execution_count": null,
   "metadata": {},
   "outputs": [],
   "source": [
    "str = input(\"Enter your input: \")\n",
    "print \"Received input is : \", str"
   ]
  },
  {
   "cell_type": "markdown",
   "metadata": {},
   "source": [
    "# Opening and Closing Files\n",
    "\n",
    "Until now, you have been reading and writing to the standard input and output. Now, we will see how to use actual data files.\n",
    "\n",
    "Python provides basic functions and methods necessary to manipulate files by default.\n",
    "You can do most of the file manipulation using a file object."
   ]
  },
  {
   "cell_type": "markdown",
   "metadata": {},
   "source": [
    "# The open Function\n",
    "\n",
    "Before you can read or write a file, you have to open it using Python's built-in open() function.\n",
    "\n",
    "This function creates a file object, which would be utilized to call other support methods associated with it."
   ]
  },
  {
   "cell_type": "code",
   "execution_count": null,
   "metadata": {},
   "outputs": [],
   "source": [
    "# Syntax\n",
    "\n",
    "file object = open(file_name [, access_mode][, buffering])"
   ]
  },
  {
   "cell_type": "markdown",
   "metadata": {},
   "source": [
    "**Here are parameter details**"
   ]
  },
  {
   "cell_type": "markdown",
   "metadata": {},
   "source": [
    "**file_name** − The file_name argument is a string value that contains the name of the file that you want to access.\n",
    "\n",
    "**access_mode** − The access_mode determines the mode in which the file has to be opened, i.e., read, write, append, etc.\n",
    "This is optional parameter and the default file access mode is read (r).\n",
    "\n",
    "**buffering** − If the buffering value is set to 0, no buffering takes place.\n",
    "If the buffering value is 1, line buffering is performed while accessing a file.\n",
    "If you specify the buffering value as an integer greater than 1, then buffering action is performed with the indicated buffer size.\n",
    "If negative, the buffer size is the system default(default behavior)."
   ]
  },
  {
   "cell_type": "markdown",
   "metadata": {},
   "source": [
    "**Here is a list of the different modes of opening a file**"
   ]
  },
  {
   "cell_type": "raw",
   "metadata": {},
   "source": [
    "r\n",
    "\n",
    "# Opens a file for reading only. The file pointer is placed at the beginning of the file. This is the default mode.\n",
    "\n",
    "rb\n",
    "\n",
    "# Opens a file for reading only in binary format. The file pointer is placed at the beginning of the file.\n",
    "# This is the default mode.\n",
    "\n",
    "r+\n",
    "\n",
    "# Opens a file for both reading and writing. The file pointer placed at the beginning of the file.\n",
    "\n",
    "rb+\n",
    "\n",
    "# Opens a file for both reading and writing in binary format. The file pointer placed at the beginning of the file.\n",
    "\n",
    "w\n",
    "\n",
    "# Opens a file for writing only. Overwrites the file if the file exists.\n",
    "# If the file does not exist, creates a new file for writing.\n",
    "\n",
    "wb\n",
    "\n",
    "# Opens a file for writing only in binary format. Overwrites the file if the file exists.\n",
    "# If the file does not exist, creates a new file for writing.\n",
    "\n",
    "w+\n",
    "\n",
    "# Opens a file for both writing and reading. Overwrites the existing file if the file exists.\n",
    "# If the file does not exist, creates a new file for reading and writing.\n",
    "\n",
    "wb+\n",
    "\n",
    "# Opens a file for both writing and reading in binary format. Overwrites the existing file if the file exists.\n",
    "# If the file does not exist, creates a new file for reading and writing.\n",
    "\n",
    "a\n",
    "\n",
    "# Opens a file for appending. The file pointer is at the end of the file if the file exists.\n",
    "# i.e the file is in the append mode. If the file does not exist, it creates a new file for writing.\n",
    "\n",
    "ab\n",
    "\n",
    "# Opens a file for appending in binary format. The file pointer is at the end of the file if the file exists.\n",
    "# i.e the file is in the append mode. If the file does not exist, it creates a new file for writing.\n",
    "\n",
    "a+\n",
    "\n",
    "# Opens a file for both appending and reading. The file pointer is at the end of the file if the file exists.\n",
    "# The file opens in the append mode. If the file does not exist, it creates a new file for reading and writing.\n",
    "\n",
    "ab+\n",
    "\n",
    "# Opens a file for both appending and reading in binary format. The file pointer is at the end of the file if the file exists.\n",
    "# The file opens in the append mode. If the file does not exist, it creates a new file for reading and writing."
   ]
  },
  {
   "cell_type": "markdown",
   "metadata": {},
   "source": [
    "# The file Object Attributes\n",
    "\n",
    "Once a file is opened and you have one file object, you can get various information related to that file.\n",
    "\n",
    "**list of all attributes related to file object**"
   ]
  },
  {
   "cell_type": "code",
   "execution_count": null,
   "metadata": {},
   "outputs": [],
   "source": [
    "file.closed                                            # Returns true if file is closed, false otherwise.\n",
    "\n",
    "file.mode                                              # Returns access mode with which file was opened.\n",
    "\n",
    "file.name                                              # Returns name of the file.\n",
    "\n",
    "file.softspace                                         # Returns false if space explicitly required with print,true otherwise"
   ]
  },
  {
   "cell_type": "markdown",
   "metadata": {},
   "source": [
    "# Open a file"
   ]
  },
  {
   "cell_type": "code",
   "execution_count": 8,
   "metadata": {},
   "outputs": [
    {
     "name": "stdout",
     "output_type": "stream",
     "text": [
      "Name of the file:  foo.txt\n",
      "Closed or not :  False\n",
      "Opening mode :  wb\n"
     ]
    },
    {
     "ename": "AttributeError",
     "evalue": "'_io.BufferedWriter' object has no attribute 'softspace'",
     "output_type": "error",
     "traceback": [
      "\u001b[1;31m---------------------------------------------------------------------------\u001b[0m",
      "\u001b[1;31mAttributeError\u001b[0m                            Traceback (most recent call last)",
      "\u001b[1;32m<ipython-input-8-ead05dfcd3aa>\u001b[0m in \u001b[0;36m<module>\u001b[1;34m\u001b[0m\n\u001b[0;32m      3\u001b[0m \u001b[0mprint\u001b[0m\u001b[1;33m(\u001b[0m\u001b[1;34m\"Closed or not : \"\u001b[0m\u001b[1;33m,\u001b[0m \u001b[0mfo\u001b[0m\u001b[1;33m.\u001b[0m\u001b[0mclosed\u001b[0m\u001b[1;33m)\u001b[0m\u001b[1;33m\u001b[0m\u001b[1;33m\u001b[0m\u001b[0m\n\u001b[0;32m      4\u001b[0m \u001b[0mprint\u001b[0m\u001b[1;33m(\u001b[0m\u001b[1;34m\"Opening mode : \"\u001b[0m\u001b[1;33m,\u001b[0m \u001b[0mfo\u001b[0m\u001b[1;33m.\u001b[0m\u001b[0mmode\u001b[0m\u001b[1;33m)\u001b[0m\u001b[1;33m\u001b[0m\u001b[1;33m\u001b[0m\u001b[0m\n\u001b[1;32m----> 5\u001b[1;33m \u001b[0mprint\u001b[0m\u001b[1;33m(\u001b[0m\u001b[1;34m\"Softspace flag : \"\u001b[0m\u001b[1;33m,\u001b[0m \u001b[0mfo\u001b[0m\u001b[1;33m.\u001b[0m\u001b[0msoftspace\u001b[0m\u001b[1;33m)\u001b[0m\u001b[1;33m\u001b[0m\u001b[1;33m\u001b[0m\u001b[0m\n\u001b[0m",
      "\u001b[1;31mAttributeError\u001b[0m: '_io.BufferedWriter' object has no attribute 'softspace'"
     ]
    }
   ],
   "source": [
    "fo = open(\"foo.txt\", \"wb\")\n",
    "print( \"Name of the file: \", fo.name)\n",
    "print(\"Closed or not : \", fo.closed)\n",
    "print(\"Opening mode : \", fo.mode)\n",
    "print(\"Softspace flag : \", fo.softspace)"
   ]
  },
  {
   "cell_type": "markdown",
   "metadata": {},
   "source": [
    "# The close() Method\n",
    "\n",
    "The close() method of a file object flushes any unwritten information and closes the file object, after which no more writing can be done.\n",
    "\n",
    "Python automatically closes a file when the reference object of a file is reassigned to another file.\n",
    "\n",
    "It is a good practice to use the close() method to close a file."
   ]
  },
  {
   "cell_type": "code",
   "execution_count": null,
   "metadata": {},
   "outputs": [],
   "source": [
    "# Syntax\n",
    "\n",
    "fileObject.close()"
   ]
  },
  {
   "cell_type": "code",
   "execution_count": null,
   "metadata": {},
   "outputs": [],
   "source": [
    "# Example\n",
    "\n",
    "# Open a file\n",
    "fo = open(\"foo.txt\", \"wb\")\n",
    "print \"Name of the file: \", fo.name\n",
    "\n",
    "# Close opend file\n",
    "fo.close()"
   ]
  },
  {
   "cell_type": "markdown",
   "metadata": {},
   "source": [
    "# Reading and Writing Files\n",
    "\n",
    "The file object provides a set of access methods to make our lives easier.\n",
    "\n",
    "We would see how to use read() and write() methods to read and write files."
   ]
  },
  {
   "cell_type": "markdown",
   "metadata": {},
   "source": [
    "# The write() Method\n",
    "\n",
    "The write() method writes any string to an open file.\n",
    "\n",
    "It is important to note that Python strings can have binary data and not just text.\n",
    "\n",
    "The write() method does not add a newline character ('\\n') to the end of the string −"
   ]
  },
  {
   "cell_type": "code",
   "execution_count": null,
   "metadata": {},
   "outputs": [],
   "source": [
    "# Syntax\n",
    "\n",
    "fileObject.write(string)"
   ]
  },
  {
   "cell_type": "markdown",
   "metadata": {},
   "source": [
    "Here, passed parameter is the content to be written into the opened file."
   ]
  },
  {
   "cell_type": "code",
   "execution_count": null,
   "metadata": {},
   "outputs": [],
   "source": [
    "# Example\n",
    "\n",
    "# Open a file\n",
    "fo = open(\"foo.txt\", \"wb\")\n",
    "fo.write( \"Python is a great language.\\nYeah its great!!\\n\")\n",
    "\n",
    "# Close opend file\n",
    "fo.close()"
   ]
  },
  {
   "cell_type": "markdown",
   "metadata": {},
   "source": [
    "The above method would create foo.txt file and would write given content in that file and finally it would close that file.\n",
    "\n",
    "If you would open this file, it would have following content.\n",
    "\n",
    "Python is a great language.\n",
    "Yeah its great!!"
   ]
  },
  {
   "cell_type": "markdown",
   "metadata": {},
   "source": [
    "# The read() Method\n",
    "\n",
    "The read() method reads a string from an open file.\n",
    "\n",
    "Note -: Python strings can have binary data,apart from text data."
   ]
  },
  {
   "cell_type": "code",
   "execution_count": null,
   "metadata": {},
   "outputs": [],
   "source": [
    "# Syntax\n",
    "\n",
    "fileObject.read([count])"
   ]
  },
  {
   "cell_type": "markdown",
   "metadata": {},
   "source": [
    "Here, passed parameter is the number of bytes to be read from the opened file.\n",
    "This method starts reading from the beginning of the file and if count is missing, then it tries to read as much as possible, maybe until the end of file."
   ]
  },
  {
   "cell_type": "code",
   "execution_count": null,
   "metadata": {},
   "outputs": [],
   "source": [
    "# Example\n",
    "\n",
    "# Open a file\n",
    "fo = open(\"foo.txt\", \"r+\")\n",
    "str = fo.read(10);\n",
    "print \"Read String is : \", str\n",
    "\n",
    "# Close opend file\n",
    "fo.close()"
   ]
  },
  {
   "cell_type": "code",
   "execution_count": null,
   "metadata": {},
   "outputs": [],
   "source": [
    "# Example\n",
    "\n",
    "# Open a file\n",
    "fo = open(\"foo.txt\", \"r+\")\n",
    "str = fo.read(10);\n",
    "print \"Read String is : \", str\n",
    "\n",
    "# Close opend file\n",
    "fo.close()"
   ]
  },
  {
   "cell_type": "markdown",
   "metadata": {},
   "source": [
    "# File Positions\n",
    "\n",
    "The tell() method tells you the current position within the file; \n",
    "\n",
    "In other words, the next read or write will occur at that many bytes from the beginning of the file.\n",
    "\n",
    "The seek(offset[, from]) method changes the current file position. \n",
    "\n",
    "The offset argument indicates the number of bytes to be moved.\n",
    "\n",
    "The from argument specifies the reference position from where the bytes are to be moved.\n",
    "\n",
    "If from is set to 0, it means use the beginning of the file as the reference position and\n",
    "\n",
    "1 means use the current position as the reference position and\n",
    "\n",
    "if it is set to 2 then the end of the file would be taken as the reference position."
   ]
  },
  {
   "cell_type": "code",
   "execution_count": null,
   "metadata": {},
   "outputs": [],
   "source": [
    "# Open a file\n",
    "fo = open(\"foo.txt\", \"r+\")\n",
    "str = fo.read(10)\n",
    "print \"Read String is : \", str\n",
    "\n",
    "# Check current position\n",
    "position = fo.tell()\n",
    "print \"Current file position : \", position\n",
    "\n",
    "# Reposition pointer at the beginning once again\n",
    "position = fo.seek(0, 0);\n",
    "str = fo.read(10)\n",
    "print \"Again read String is : \", str\n",
    "# Close opend file\n",
    "fo.close()\n"
   ]
  },
  {
   "cell_type": "markdown",
   "metadata": {},
   "source": [
    "# Renaming and Deleting Files\n",
    "\n",
    "Python os module provides methods that help you perform file-processing operations, such as renaming and deleting files.\n",
    "\n",
    "To use this module you need to import it first and then you can call any related functions."
   ]
  },
  {
   "cell_type": "markdown",
   "metadata": {},
   "source": [
    "# The rename() Method\n",
    "\n",
    "The rename() method takes two arguments, the current filename and the new filename."
   ]
  },
  {
   "cell_type": "code",
   "execution_count": null,
   "metadata": {},
   "outputs": [],
   "source": [
    "# Syntax\n",
    "\n",
    "os.rename(current_file_name, new_file_name)"
   ]
  },
  {
   "cell_type": "code",
   "execution_count": null,
   "metadata": {},
   "outputs": [],
   "source": [
    "# Example to rename an existing file test1.txt −\n",
    "\n",
    "import os\n",
    "\n",
    "# Rename a file from test1.txt to test2.txt\n",
    "\n",
    "os.rename( \"test1.txt\", \"test2.txt\" )"
   ]
  },
  {
   "cell_type": "markdown",
   "metadata": {},
   "source": [
    "# The remove() Method\n",
    "\n",
    "You can use the remove() method to delete files by supplying the name of the file to be deleted as the argument."
   ]
  },
  {
   "cell_type": "code",
   "execution_count": null,
   "metadata": {},
   "outputs": [],
   "source": [
    "# Syntax\n",
    "os.remove(file_name)"
   ]
  },
  {
   "cell_type": "code",
   "execution_count": null,
   "metadata": {},
   "outputs": [],
   "source": [
    "# Example to delete an existing file test2.txt −\n",
    "\n",
    "import os\n",
    "\n",
    "# Delete file test2.txt\n",
    "\n",
    "os.remove(\"text2.txt\")"
   ]
  },
  {
   "cell_type": "markdown",
   "metadata": {},
   "source": [
    "# Directories in Python\n",
    "\n",
    "All files are contained within various directories, and Python has no problem handling these too.\n",
    "\n",
    "The os module has several methods that help you create, remove, and change directories."
   ]
  },
  {
   "cell_type": "markdown",
   "metadata": {},
   "source": [
    "# The mkdir() Method\n",
    "\n",
    "You can use the mkdir() method of the os module to create directories in the current directory.\n",
    "\n",
    "You need to supply an argument to this method which contains the name of the directory to be created."
   ]
  },
  {
   "cell_type": "code",
   "execution_count": null,
   "metadata": {},
   "outputs": [],
   "source": [
    "# Syntax\n",
    "\n",
    "os.mkdir(\"newdir\")"
   ]
  },
  {
   "cell_type": "code",
   "execution_count": null,
   "metadata": {},
   "outputs": [],
   "source": [
    "# Example to create a directory test in the current directory \n",
    "\n",
    "import os\n",
    "\n",
    "# Create a directory \"test\"\n",
    "\n",
    "os.mkdir(\"test\")"
   ]
  },
  {
   "cell_type": "markdown",
   "metadata": {},
   "source": [
    "# The chdir() Method\n",
    "\n",
    "You can use the chdir() method to change the current directory.\n",
    "\n",
    "The chdir() method takes an argument, which is the name of the directory that you want to make the current directory."
   ]
  },
  {
   "cell_type": "code",
   "execution_count": null,
   "metadata": {},
   "outputs": [],
   "source": [
    "# Syntax\n",
    "\n",
    "os.chdir(\"newdir\")"
   ]
  },
  {
   "cell_type": "code",
   "execution_count": null,
   "metadata": {},
   "outputs": [],
   "source": [
    "# Example to go into \"/home/newdir\" directory −\n",
    "\n",
    "import os\n",
    "\n",
    "# Changing a directory to \"/home/newdir\"\n",
    "\n",
    "os.chdir(\"/home/newdir\")"
   ]
  },
  {
   "cell_type": "markdown",
   "metadata": {},
   "source": [
    "# The getcwd() Method\n",
    "\n",
    "The getcwd() method displays the current working directory."
   ]
  },
  {
   "cell_type": "code",
   "execution_count": null,
   "metadata": {},
   "outputs": [],
   "source": [
    "# Syntax\n",
    "\n",
    "os.getcwd()"
   ]
  },
  {
   "cell_type": "code",
   "execution_count": null,
   "metadata": {},
   "outputs": [],
   "source": [
    "# Example to give current directory −\n",
    "\n",
    "import os\n",
    "\n",
    "# This would give location of the current directory\n",
    "\n",
    "os.getcwd()"
   ]
  },
  {
   "cell_type": "markdown",
   "metadata": {},
   "source": [
    "# The rmdir() Method\n",
    "\n",
    "The rmdir() method deletes the directory, which is passed as an argument in the method.\n",
    "\n",
    "Before removing a directory, all the contents in it should be removed."
   ]
  },
  {
   "cell_type": "code",
   "execution_count": null,
   "metadata": {},
   "outputs": [],
   "source": [
    "# Syntax\n",
    "\n",
    "os.rmdir('dirname')"
   ]
  },
  {
   "cell_type": "code",
   "execution_count": null,
   "metadata": {},
   "outputs": [],
   "source": [
    "# Example to remove \"/tmp/test\" directory.\n",
    "\n",
    "import os\n",
    "\n",
    "# This would  remove \"/tmp/test\"  directory.\n",
    "\n",
    "os.rmdir( \"/tmp/test\"  )"
   ]
  },
  {
   "cell_type": "markdown",
   "metadata": {},
   "source": [
    "It is required to give fully qualified name of the directory, otherwise it would search for that directory\n",
    "in the current directory.\n"
   ]
  },
  {
   "cell_type": "markdown",
   "metadata": {},
   "source": [
    "# File & Directory Related Methods\n",
    "\n",
    "There are three important sources, which provide a wide range of utility methods to handle and manipulate files & directories \n",
    "on Windows and Unix operating systems.\n",
    "\n",
    "They are as follows −\n",
    "\n",
    "**File Object Methods:** The file object provides functions to manipulate files.\n",
    "\n",
    "**OS Object Methods:** This provides methods to process files as well as directories"
   ]
  },
  {
   "cell_type": "code",
   "execution_count": null,
   "metadata": {},
   "outputs": [],
   "source": []
  }
 ],
 "metadata": {
  "kernelspec": {
   "display_name": "Python 3 (ipykernel)",
   "language": "python",
   "name": "python3"
  },
  "language_info": {
   "codemirror_mode": {
    "name": "ipython",
    "version": 3
   },
   "file_extension": ".py",
   "mimetype": "text/x-python",
   "name": "python",
   "nbconvert_exporter": "python",
   "pygments_lexer": "ipython3",
   "version": "3.11.4"
  }
 },
 "nbformat": 4,
 "nbformat_minor": 2
}
