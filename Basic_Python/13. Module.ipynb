{
 "cells": [
  {
   "cell_type": "markdown",
   "metadata": {},
   "source": [
    "# MODULES"
   ]
  },
  {
   "cell_type": "markdown",
   "metadata": {},
   "source": [
    "A module allows you to logically organize your Python code. \n",
    "\n",
    "Grouping related code into a module makes the code easier to understand and use.\n",
    "\n",
    "A module is a Python object with arbitrarily named attributes that you can bind and reference\n",
    "\n",
    "In simple terms,module is a file consisting of Python code.\n",
    "\n",
    "A module can define functions, classes and variables.\n",
    "\n",
    "A module can also include runnable code."
   ]
  },
  {
   "cell_type": "markdown",
   "metadata": {},
   "source": [
    "# Example\n",
    "\n",
    "The Python code for a module named aname normally resides in a file named aname.py.\n",
    "\n",
    "Here's an example of a simple module, support.py"
   ]
  },
  {
   "cell_type": "code",
   "execution_count": null,
   "metadata": {},
   "outputs": [],
   "source": [
    "def print_func( par ):\n",
    "   print \"Hello : \", par\n",
    "   return"
   ]
  },
  {
   "cell_type": "markdown",
   "metadata": {},
   "source": [
    "# The import Statement\n",
    "\n",
    "We can use any Python source file as a module by executing an import statement in some other Python source file.\n",
    "\n",
    "The import has the following syntax −"
   ]
  },
  {
   "cell_type": "code",
   "execution_count": null,
   "metadata": {},
   "outputs": [],
   "source": [
    "import module1[, module2[,... moduleN]"
   ]
  },
  {
   "cell_type": "markdown",
   "metadata": {},
   "source": [
    "When the interpreter encounters an import statement, it imports the module if the module is present in the search path.\n",
    "\n",
    "A search path is a list of directories that the interpreter searches before importing a module.\n",
    "\n",
    "For example, to import the module support.py,we need to put the following command at the top of the script"
   ]
  },
  {
   "cell_type": "code",
   "execution_count": null,
   "metadata": {},
   "outputs": [],
   "source": [
    "# Import module support\n",
    "import support\n",
    "\n",
    "# Now you can call defined function that module as follows\n",
    "support.print_func(\"Zara\")"
   ]
  },
  {
   "cell_type": "markdown",
   "metadata": {},
   "source": [
    "A module is loaded only once, regardless of the number of times it is imported.\n",
    "\n",
    "This prevents the module execution from happening over and over again if multiple imports occur."
   ]
  },
  {
   "cell_type": "markdown",
   "metadata": {},
   "source": [
    "# The from...import Statement\n",
    "\n",
    "Python's from statement lets you import specific attributes from a module into the current namespace.\n",
    "\n",
    "The from...import has the following syntax −"
   ]
  },
  {
   "cell_type": "code",
   "execution_count": null,
   "metadata": {},
   "outputs": [],
   "source": [
    "from modname import name1[, name2[, ... nameN]]"
   ]
  },
  {
   "cell_type": "markdown",
   "metadata": {},
   "source": [
    "For example, to import the function fibonacci from the module fib, use the following statement −"
   ]
  },
  {
   "cell_type": "code",
   "execution_count": null,
   "metadata": {},
   "outputs": [],
   "source": [
    "from fib import fibonacci"
   ]
  },
  {
   "cell_type": "markdown",
   "metadata": {},
   "source": [
    "This statement does not import the entire module fib into the current namespace; it just introduces the item fibonacci from the module fib into the global symbol table of the importing module."
   ]
  },
  {
   "cell_type": "markdown",
   "metadata": {},
   "source": [
    "# The from...import * Statement\n",
    "\n",
    "It is also possible to import all names from a module into the current namespace by using the following import statement"
   ]
  },
  {
   "cell_type": "code",
   "execution_count": null,
   "metadata": {},
   "outputs": [],
   "source": [
    "from modname import *"
   ]
  },
  {
   "cell_type": "markdown",
   "metadata": {},
   "source": [
    "This provides an easy way to import all the items from a module into the current namespace; however, this statement should be used sparingly."
   ]
  },
  {
   "cell_type": "markdown",
   "metadata": {},
   "source": [
    "# Locating Modules\n",
    "\n",
    "When you import a module, the Python interpreter searches for the module in the following sequences −\n",
    "\n",
    "--> The current directory.\n",
    "\n",
    "--> If the module isn't found, Python then searches each directory in the shell variable PYTHONPATH.\n",
    "\n",
    "--> If all else fails, Python checks the default path. \n",
    "\n",
    "The module search path is stored in the system module sys as the sys.path variable.\n",
    "\n",
    "The sys.path variable contains the current directory, PYTHONPATH, and the installation-dependent default."
   ]
  },
  {
   "cell_type": "markdown",
   "metadata": {},
   "source": [
    "# The PYTHONPATH Variable\n",
    "\n",
    "The PYTHONPATH is an environment variable, consisting of a list of directories. \n",
    "\n",
    "The syntax of PYTHONPATH is same as that of the shell variable PATH.\n",
    "\n",
    "Here is a typical PYTHONPATH from a Windows system −\n",
    "\n",
    "set PYTHONPATH = c:\\python20\\lib;"
   ]
  },
  {
   "cell_type": "markdown",
   "metadata": {},
   "source": [
    "# Namespaces and Scoping\n",
    "\n",
    "Variables are names (identifiers) that map to objects.\n",
    "\n",
    "A namespace is a dictionary of variable names (keys) and their corresponding objects (values).\n",
    "\n",
    "A Python statement can access variables in a local namespace and in the global namespace. \n",
    "\n",
    "If a local and a global variable have the same name, the local variable shadows the global variable.\n",
    "\n",
    "Each function has its own local namespace. Class methods follow the same scoping rule as ordinary functions.\n",
    "\n",
    "Python makes educated guesses on whether variables are local or global.\n",
    "\n",
    "It assumes that any variable assigned a value in a function is local.\n",
    "\n",
    "Therefore, in order to assign a value to a global variable within a function, you must first use the global statement.\n",
    "\n",
    "The statement global VarName tells Python that VarName is a global variable.\n",
    "\n",
    "Python stops searching the local namespace for the variable.\n",
    "\n",
    "For example, we define a variable Money in the global namespace.\n",
    "\n",
    "Within the function Money, we assign Money a value, therefore Python assumes Money as a local variable.\n",
    "\n",
    "However, we accessed the value of the local variable Money before setting it, so an UnboundLocalError is the result. \n",
    "\n",
    "Uncommenting the global statement fixes the problem."
   ]
  },
  {
   "cell_type": "code",
   "execution_count": null,
   "metadata": {},
   "outputs": [],
   "source": [
    "Money = 2000\n",
    "def AddMoney():\n",
    "   # Uncomment the following line to fix the code:\n",
    "   # global Money\n",
    "   Money = Money + 1\n",
    "\n",
    "print Money\n",
    "AddMoney()\n",
    "print Money"
   ]
  },
  {
   "cell_type": "markdown",
   "metadata": {},
   "source": [
    "# The dir( ) Function\n",
    "\n",
    "The dir() built-in function returns a sorted list of strings containing the names defined by a module.\n",
    "\n",
    "The list contains the names of all the modules, variables and functions that are defined in a module.\n",
    "\n",
    "example −"
   ]
  },
  {
   "cell_type": "code",
   "execution_count": null,
   "metadata": {},
   "outputs": [],
   "source": [
    "# Import built-in module math\n",
    "\n",
    "import math\n",
    "\n",
    "content = dir(math)\n",
    "print content"
   ]
  },
  {
   "cell_type": "markdown",
   "metadata": {},
   "source": [
    "Here, the special string variable __name__ is the module's name, and __file__ is the filename from which the module was loaded."
   ]
  },
  {
   "cell_type": "markdown",
   "metadata": {},
   "source": [
    "# The globals() and locals() Functions\n",
    "\n",
    "The globals() and locals() functions can be used to return the names in the global and local namespaces depending on the location from where they are called.\n",
    "\n",
    "If locals() is called from within a function, it will return all the names that can be accessed locally from that function.\n",
    "\n",
    "If globals() is called from within a function, it will return all the names that can be accessed globally from that function.\n",
    "\n",
    "The return type of both these functions is dictionary. Therefore, names can be extracted using the keys() function."
   ]
  },
  {
   "cell_type": "markdown",
   "metadata": {},
   "source": [
    "# The reload() Function\n",
    "\n",
    "When the module is imported into a script, the code in the top-level portion of a module is executed only once.\n",
    "\n",
    "Therefore, if you want to reexecute the top-level code in a module, you can use the reload() function. \n",
    "\n",
    "The reload() function imports a previously imported module again. "
   ]
  },
  {
   "cell_type": "code",
   "execution_count": null,
   "metadata": {},
   "outputs": [],
   "source": [
    "# syntax of the reload() function\n",
    "\n",
    "reload(module_name)"
   ]
  },
  {
   "cell_type": "markdown",
   "metadata": {},
   "source": [
    "Here, module_name is the name of the module you want to reload and not the string containing the module name. \n",
    "\n",
    "For example, to reload hello module, do the following −"
   ]
  },
  {
   "cell_type": "code",
   "execution_count": null,
   "metadata": {},
   "outputs": [],
   "source": [
    "reload(hello)"
   ]
  },
  {
   "cell_type": "markdown",
   "metadata": {},
   "source": [
    "# Packages in Python\n",
    "\n",
    "A package is a hierarchical file directory structure that defines a single Python application environment that consists of\n",
    "modules,subpackages,sub-subpackages, and so on.\n",
    "\n",
    "Consider a file Pots.py available in Phone directory."
   ]
  },
  {
   "cell_type": "code",
   "execution_count": null,
   "metadata": {},
   "outputs": [],
   "source": [
    "def Pots():\n",
    "   print \"I'm Pots Phone\""
   ]
  },
  {
   "cell_type": "markdown",
   "metadata": {},
   "source": [
    "Similar way, we have another two files having different functions with the same name as above −\n",
    "\n",
    "Phone/Isdn.py file having function Isdn()\n",
    "\n",
    "Phone/G3.py file having function G3()\n",
    "\n",
    "Now, create one more file __init__.py in Phone directory −\n",
    "\n",
    "Phone/__init__.py\n",
    "\n",
    "To make all of your functions available when you've imported Phone, you need to put explicit import statements in __init__.py \n",
    "as follows −"
   ]
  },
  {
   "cell_type": "code",
   "execution_count": null,
   "metadata": {},
   "outputs": [],
   "source": [
    "from Pots import Pots\n",
    "from Isdn import Isdn\n",
    "from G3 import G3"
   ]
  },
  {
   "cell_type": "markdown",
   "metadata": {},
   "source": [
    "After you add these lines to __init__.py, you have all of these classes available when you import the Phone package."
   ]
  },
  {
   "cell_type": "code",
   "execution_count": null,
   "metadata": {},
   "outputs": [],
   "source": [
    "# Now import your Phone Package.\n",
    "import Phone\n",
    "\n",
    "Phone.Pots()\n",
    "Phone.Isdn()\n",
    "Phone.G3()"
   ]
  },
  {
   "cell_type": "markdown",
   "metadata": {},
   "source": [
    "In the above example, we have taken example of a single functions in each file,but we can keep multiple functions in your files.\n",
    "\n",
    "We can also define different Python classes in those files and then can create your packages out of those classes"
   ]
  },
  {
   "cell_type": "code",
   "execution_count": null,
   "metadata": {},
   "outputs": [],
   "source": []
  }
 ],
 "metadata": {
  "kernelspec": {
   "display_name": "Python 3",
   "language": "python",
   "name": "python3"
  },
  "language_info": {
   "codemirror_mode": {
    "name": "ipython",
    "version": 3
   },
   "file_extension": ".py",
   "mimetype": "text/x-python",
   "name": "python",
   "nbconvert_exporter": "python",
   "pygments_lexer": "ipython3",
   "version": "3.7.3"
  }
 },
 "nbformat": 4,
 "nbformat_minor": 2
}
