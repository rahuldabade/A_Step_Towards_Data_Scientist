{
 "cells": [
  {
   "cell_type": "markdown",
   "metadata": {},
   "source": [
    "# DATE & TIME"
   ]
  },
  {
   "cell_type": "markdown",
   "metadata": {},
   "source": [
    "Python program can handle date and time in several ways.\n",
    "\n",
    "Converting between date formats is a common chore for computers.\n",
    "\n",
    "Python's time and calendar modules help track dates and times"
   ]
  },
  {
   "cell_type": "markdown",
   "metadata": {},
   "source": [
    "# What is Tick?\n",
    "\n",
    "Time intervals are floating-point numbers in units of seconds.\n",
    "\n",
    "Particular instants in time are expressed in seconds since 12:00am, January 1, 1970\n",
    "\n",
    "There is a popular time module available in Python which provides functions for working with times and for converting between representations.\n",
    "\n",
    "The function time.time() returns the current system time in ticks since 12:00am, January 1, 1970"
   ]
  },
  {
   "cell_type": "code",
   "execution_count": 1,
   "metadata": {},
   "outputs": [
    {
     "name": "stdout",
     "output_type": "stream",
     "text": [
      "Number of ticks since 12:00am, January 1, 1970: 1572447332.8853796\n"
     ]
    }
   ],
   "source": [
    "import time;                                                      # This is required to include time module.\n",
    "\n",
    "ticks = time.time()\n",
    "print(\"Number of ticks since 12:00am, January 1, 1970:\", ticks)"
   ]
  },
  {
   "cell_type": "markdown",
   "metadata": {},
   "source": [
    "# What is TimeTuple?\n",
    "\n",
    "Many of Python's time functions handle time as a tuple of 9 numbers"
   ]
  },
  {
   "cell_type": "raw",
   "metadata": {},
   "source": [
    "Index                                       Field                                        Values\n",
    "\n",
    " 0                                       4-digit year                                     2008\n",
    " 1                                           Month                                       1 to 12\n",
    " 2                                            Day                                        1 to 31\n",
    " 3                                            Hour                                       0 to 23\n",
    " 4                                           Minute                                      0 to 59\n",
    " 5                                           Second                                      0 to 61 (60 or 61 are leap-seconds)\n",
    " 6                                       Day of Week                                     0 to 6 (0 is Monday)\n",
    " 7                                       Day of year                                     1 to 366 (Julian day)\n",
    " 8                                       Daylight savings                             -1, 0, 1, -1 means library determines DST"
   ]
  },
  {
   "cell_type": "markdown",
   "metadata": {},
   "source": [
    "The above tuple is equivalent to struct_time structure. \n",
    "\n",
    "**This structure has following attributes**"
   ]
  },
  {
   "cell_type": "raw",
   "metadata": {},
   "source": [
    "Index                                      Attributes                                    Values\n",
    "\n",
    "  0                                         tm_year                                       2008\n",
    "  1                                         tm_mon                                       1 to 12\n",
    "  2                                         tm_mday                                      1 to 31\n",
    "  3                                         tm_hour                                      0 to 23\n",
    "  4                                         tm_min                                       0 to 59\n",
    "  5                                         tm_sec                                       0 to 61 (60 or 61 are leap-seconds)\n",
    "  6                                         tm_wday                                      0 to 6 (0 is Monday)\n",
    "  7                                         tm_yday                                      1 to 366 (Julian day)\n",
    "  8                                         tm_isdst                                  -1, 0, 1, -1 means library determines DST"
   ]
  },
  {
   "cell_type": "markdown",
   "metadata": {},
   "source": [
    "# Getting current time\n",
    "\n",
    "To translate a time instant from a seconds since the epoch floating-point value into a time-tuple, pass the floating-point value to a function\n",
    "(e.g., localtime) that returns a time-tuple with all nine items valid."
   ]
  },
  {
   "cell_type": "code",
   "execution_count": null,
   "metadata": {},
   "outputs": [],
   "source": [
    "import time;\n",
    "\n",
    "localtime = time.localtime(time.time())\n",
    "print \"Local current time :\", localtime"
   ]
  },
  {
   "cell_type": "markdown",
   "metadata": {},
   "source": [
    "# Getting formatted time\n",
    "\n",
    "You can format any time as per your requirement, but simple method to get time in readable format is asctime() −"
   ]
  },
  {
   "cell_type": "code",
   "execution_count": null,
   "metadata": {},
   "outputs": [],
   "source": [
    "import time;\n",
    "\n",
    "localtime = time.asctime( time.localtime(time.time()) )\n",
    "print \"Local current time :\", localtime"
   ]
  },
  {
   "cell_type": "markdown",
   "metadata": {},
   "source": [
    "# Getting calendar for a month\n",
    "\n",
    "The calendar module gives a wide range of methods to play with yearly and monthly calendars.\n",
    "\n",
    "**Here, we print a calendar for a given month ( Jan 2008 )**"
   ]
  },
  {
   "cell_type": "code",
   "execution_count": null,
   "metadata": {},
   "outputs": [],
   "source": [
    "import calendar\n",
    "\n",
    "cal = calendar.month(2008, 1)\n",
    "print \"Here is the calendar:\"\n",
    "print cal"
   ]
  },
  {
   "cell_type": "markdown",
   "metadata": {},
   "source": [
    "# The time Module\n",
    "\n",
    "There is a popular time module available in Python which provides functions for working with times and for converting between representations.\n",
    "\n",
    "**Here is the list of all available methods**"
   ]
  },
  {
   "cell_type": "code",
   "execution_count": null,
   "metadata": {},
   "outputs": [],
   "source": [
    "time.altzone\n",
    "# The offset of the local DST timezone, in seconds west of UTC, if one is defined.\n",
    "# This is negative if the local DST timezone is east of UTC (as in Western Europe, including the UK).\n",
    "# Only use this if daylight is nonzero."
   ]
  },
  {
   "cell_type": "code",
   "execution_count": null,
   "metadata": {},
   "outputs": [],
   "source": [
    "time.asctime([tupletime])\n",
    "# Accepts a time-tuple and returns a readable 24-character string such as 'Tue Dec 11 18:07:14 2008'."
   ]
  },
  {
   "cell_type": "code",
   "execution_count": null,
   "metadata": {},
   "outputs": [],
   "source": [
    "time.clock( )\n",
    "# Returns the current CPU time as a floating-point number of seconds.\n",
    "# To measure computational costs of different approaches, the value of time.\n",
    "# clock is more useful than that of time.time()."
   ]
  },
  {
   "cell_type": "code",
   "execution_count": null,
   "metadata": {},
   "outputs": [],
   "source": [
    "time.ctime([secs])\n",
    "# Like asctime(localtime(secs)) and without arguments is like asctime( )"
   ]
  },
  {
   "cell_type": "code",
   "execution_count": null,
   "metadata": {},
   "outputs": [],
   "source": [
    "time.gmtime([secs])\n",
    "# Accepts an instant expressed in seconds since the epoch and returns a time-tuple t with the UTC time.\n",
    "# Note : t.tm_isdst is always 0"
   ]
  },
  {
   "cell_type": "code",
   "execution_count": null,
   "metadata": {},
   "outputs": [],
   "source": [
    "time.localtime([secs])\n",
    "# Accepts an instant expressed in seconds since the epoch and returns a time-tuple t with the local time \n",
    "# (t.tm_isdst is 0 or 1, depending on whether DST applies to instant secs by local rules)."
   ]
  },
  {
   "cell_type": "code",
   "execution_count": null,
   "metadata": {},
   "outputs": [],
   "source": [
    "time.mktime(tupletime)\n",
    "# Accepts an instant expressed as a time-tuple in local time and returns a floating-point value with the instant\n",
    "# expressed in seconds since the epoch."
   ]
  },
  {
   "cell_type": "code",
   "execution_count": null,
   "metadata": {},
   "outputs": [],
   "source": [
    "time.sleep(secs)\n",
    "# Suspends the calling thread for secs seconds."
   ]
  },
  {
   "cell_type": "code",
   "execution_count": null,
   "metadata": {},
   "outputs": [],
   "source": [
    "time.strftime(fmt[,tupletime])\n",
    "# Accepts an instant expressed as a time-tuple in local time and returns a string representing the instant \n",
    "# as specified by string fmt."
   ]
  },
  {
   "cell_type": "code",
   "execution_count": null,
   "metadata": {},
   "outputs": [],
   "source": [
    "time.strptime(str,fmt='%a %b %d %H:%M:%S %Y')\n",
    "# Parses str according to format string fmt and returns the instant in time-tuple format."
   ]
  },
  {
   "cell_type": "code",
   "execution_count": null,
   "metadata": {},
   "outputs": [],
   "source": [
    "time.time( )\n",
    "# Returns the current time instant, a floating-point number of seconds since the epoch."
   ]
  },
  {
   "cell_type": "code",
   "execution_count": null,
   "metadata": {},
   "outputs": [],
   "source": [
    "time.tzset()\n",
    "# Resets the time conversion rules used by the library routines. The environment variable TZ specifies how this is done."
   ]
  },
  {
   "cell_type": "markdown",
   "metadata": {},
   "source": [
    "**2 important attributes available with time module**"
   ]
  },
  {
   "cell_type": "code",
   "execution_count": null,
   "metadata": {},
   "outputs": [],
   "source": [
    "time.timezone\n",
    "\n",
    "# Attribute time.timezone is the offset in seconds of the local time zone (without DST) from \n",
    "# UTC (>0 in the Americas; <=0 in most of Europe, Asia, Africa).\n",
    "\n",
    "time.tzname\n",
    "\n",
    "# Attribute time.tzname is a pair of locale-dependent strings, which are the names of the local time zone without and with DST.\n"
   ]
  },
  {
   "cell_type": "markdown",
   "metadata": {},
   "source": [
    "# The calendar Module\n",
    "\n",
    "The calendar module supplies calendar-related functions, including functions to print a text calendar for a given month or year.\n",
    "\n",
    "By default, calendar takes Monday as the first day of the week and Sunday as the last one.\n",
    "\n",
    "To change this, call calendar.setfirstweekday() function."
   ]
  },
  {
   "cell_type": "markdown",
   "metadata": {},
   "source": [
    "**Here is a list of functions available with the calendar module**"
   ]
  },
  {
   "cell_type": "code",
   "execution_count": null,
   "metadata": {},
   "outputs": [],
   "source": [
    "calendar.calendar(year,w=2,l=1,c=6)\n",
    "\n",
    "# Returns a multiline string with a calendar for year year formatted into three columns separated by c spaces.\n",
    "# w is the width in characters of each date; each line has length 21*w+18+2*c.\n",
    "# l is the number of lines for each week."
   ]
  },
  {
   "cell_type": "code",
   "execution_count": null,
   "metadata": {},
   "outputs": [],
   "source": [
    "calendar.firstweekday( )\n",
    "\n",
    "# Returns the current setting for the weekday that starts each week.\n",
    "# By default, when calendar is first imported, this is 0, meaning Monday."
   ]
  },
  {
   "cell_type": "code",
   "execution_count": null,
   "metadata": {},
   "outputs": [],
   "source": [
    "calendar.isleap(year)\n",
    "\n",
    "# Returns True if year is a leap year; otherwise, False."
   ]
  },
  {
   "cell_type": "code",
   "execution_count": null,
   "metadata": {},
   "outputs": [],
   "source": [
    "calendar.leapdays(y1,y2)\n",
    "\n",
    "# Returns the total number of leap days in the years within range(y1,y2)."
   ]
  },
  {
   "cell_type": "code",
   "execution_count": null,
   "metadata": {},
   "outputs": [],
   "source": [
    "calendar.month(year,month,w=2,l=1)\n",
    "\n",
    "# Returns a multiline string with a calendar for month month of year year, one line per week plus two header lines.\n",
    "# w is the width in characters of each date; each line has length 7*w+6. \n",
    "# l is the number of lines for each week."
   ]
  },
  {
   "cell_type": "code",
   "execution_count": null,
   "metadata": {},
   "outputs": [],
   "source": [
    "calendar.monthcalendar(year,month)\n",
    "\n",
    "# Returns a list of lists of ints. Each sublist denotes a week.\n",
    "# Days outside month month of year year are set to 0; days within the month are set to their day-of-month, 1 and up."
   ]
  },
  {
   "cell_type": "code",
   "execution_count": null,
   "metadata": {},
   "outputs": [],
   "source": [
    "calendar.monthrange(year,month)\n",
    "\n",
    "# Returns two integers.\n",
    "# The first one is the code of the weekday for the first day of the month month in year year;\n",
    "# the second one is the number of days in the month.\n",
    "# Weekday codes are 0 (Monday) to 6 (Sunday); month numbers are 1 to 12."
   ]
  },
  {
   "cell_type": "code",
   "execution_count": null,
   "metadata": {},
   "outputs": [],
   "source": [
    "calendar.prcal(year,w=2,l=1,c=6)\n",
    "\n",
    "# Like print calendar.calendar(year,w,l,c)."
   ]
  },
  {
   "cell_type": "code",
   "execution_count": null,
   "metadata": {},
   "outputs": [],
   "source": [
    "calendar.prmonth(year,month,w=2,l=1)\n",
    "\n",
    "# Like print calendar.month(year,month,w,l)."
   ]
  },
  {
   "cell_type": "code",
   "execution_count": null,
   "metadata": {},
   "outputs": [],
   "source": [
    "calendar.setfirstweekday(weekday)\n",
    "\n",
    "# Sets the first day of each week to weekday code weekday. Weekday codes are 0 (Monday) to 6 (Sunday)."
   ]
  },
  {
   "cell_type": "code",
   "execution_count": null,
   "metadata": {},
   "outputs": [],
   "source": [
    "calendar.timegm(tupletime)\n",
    "\n",
    "# The inverse of time.gmtime: accepts a time instant in time-tuple form and returns the same instant as a floating-point number\n",
    "# of seconds since the epoch."
   ]
  },
  {
   "cell_type": "code",
   "execution_count": null,
   "metadata": {},
   "outputs": [],
   "source": [
    "calendar.weekday(year,month,day)\n",
    "\n",
    "# Returns the weekday code for the given date.\n",
    "# Weekday codes are 0 (Monday) to 6 (Sunday); month numbers are 1 (January) to 12 (December)."
   ]
  },
  {
   "cell_type": "markdown",
   "metadata": {},
   "source": [
    "# Other Modules & Functions\n",
    "\n",
    "list of other important modules and functions to play with date & time in Python\n",
    "\n",
    "---> The datetime Module\n",
    "\n",
    "---> The pytz Module\n",
    "\n",
    "---> The dateutil Module"
   ]
  },
  {
   "cell_type": "code",
   "execution_count": null,
   "metadata": {},
   "outputs": [],
   "source": []
  }
 ],
 "metadata": {
  "kernelspec": {
   "display_name": "Python 3",
   "language": "python",
   "name": "python3"
  },
  "language_info": {
   "codemirror_mode": {
    "name": "ipython",
    "version": 3
   },
   "file_extension": ".py",
   "mimetype": "text/x-python",
   "name": "python",
   "nbconvert_exporter": "python",
   "pygments_lexer": "ipython3",
   "version": "3.7.3"
  }
 },
 "nbformat": 4,
 "nbformat_minor": 2
}
